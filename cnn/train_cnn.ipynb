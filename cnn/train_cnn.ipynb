{
  "cells": [
    {
      "cell_type": "code",
      "execution_count": 5,
      "metadata": {
        "colab": {
          "base_uri": "https://localhost:8080/"
        },
        "id": "0uCgygRpbidM",
        "outputId": "f75d3e83-d8e2-4e5f-c549-bda70969a0e3"
      },
      "outputs": [
        {
          "name": "stderr",
          "output_type": "stream",
          "text": [
            "[nltk_data] Downloading package stopwords to\n",
            "[nltk_data]     C:\\Users\\spooj\\AppData\\Roaming\\nltk_data...\n",
            "[nltk_data]   Package stopwords is already up-to-date!\n",
            "[nltk_data] Downloading package wordnet to\n",
            "[nltk_data]     C:\\Users\\spooj\\AppData\\Roaming\\nltk_data...\n",
            "[nltk_data]   Package wordnet is already up-to-date!\n"
          ]
        }
      ],
      "source": [
        "import torch\n",
        "import os\n",
        "import numpy as np\n",
        "import pandas as pd\n",
        "import matplotlib.pyplot as plt\n",
        "from sklearn.decomposition import PCA\n",
        "from transformers import BertTokenizer, BertModel\n",
        "from sklearn.preprocessing import StandardScaler\n",
        "import nltk\n",
        "nltk.download('stopwords')\n",
        "nltk.download('wordnet')\n",
        "from nltk.corpus import stopwords\n",
        "from tensorflow.keras.preprocessing.text import Tokenizer\n",
        "import re\n",
        "from num2words import num2words\n",
        "from sklearn.model_selection import train_test_split\n",
        "import tensorflow as tf\n",
        "from tensorflow.keras.layers import Input, Dense, Dropout, Conv1D, MaxPooling1D, Flatten, Embedding, Concatenate, AveragePooling1D\n",
        "from tensorflow.keras.models import Model\n",
        "from tensorflow.keras.initializers import HeUniform\n",
        "from keras import regularizers\n",
        "from tensorflow.keras.callbacks import EarlyStopping, ModelCheckpoint\n",
        "from sklearn.metrics import classification_report, confusion_matrix\n",
        "from tensorflow.keras.preprocessing.sequence import pad_sequences\n",
        "import optuna"
      ]
    },
    {
      "cell_type": "code",
      "execution_count": 6,
      "metadata": {
        "id": "IeNsdwIVQwYi"
      },
      "outputs": [],
      "source": [
        "path = \"C:\\\\Users\\\\spooj\\\\Downloads\\\\TruthSeeke 2024\\\\TruthSeeker2023\"\n",
        "os.chdir(path)"
      ]
    },
    {
      "cell_type": "code",
      "execution_count": 7,
      "metadata": {
        "id": "DDDCMJh3c_7j"
      },
      "outputs": [],
      "source": [
        "df_2 = pd.read_csv(\"./Features_For_Traditional_ML_Techniques.csv\")\n",
        "df_2_mod = df_2.drop(columns='embeddings')"
      ]
    },
    {
      "cell_type": "markdown",
      "metadata": {
        "id": "z1ryUZHXq8f-"
      },
      "source": [
        "estimate the vocabulary"
      ]
    },
    {
      "cell_type": "code",
      "execution_count": 50,
      "metadata": {
        "colab": {
          "base_uri": "https://localhost:8080/"
        },
        "id": "WiBKI27sq8JY",
        "outputId": "624e6940-301d-429b-a65b-34fd66cac3df"
      },
      "outputs": [
        {
          "name": "stdout",
          "output_type": "stream",
          "text": [
            "169377\n"
          ]
        }
      ],
      "source": [
        "tweets = df_2_mod['tweet']\n",
        "from tensorflow.keras.preprocessing.text import Tokenizer\n",
        "\n",
        "tokeniser = Tokenizer()\n",
        "tokeniser.fit_on_texts(tweets)\n",
        "vocab_size = len(tokeniser.word_index) + 1\n",
        "print(vocab_size)"
      ]
    },
    {
      "cell_type": "markdown",
      "metadata": {
        "id": "BjJ6ISypvCeG"
      },
      "source": [
        "## cleaning the tweets dataset"
      ]
    },
    {
      "cell_type": "markdown",
      "metadata": {
        "id": "pqcdGpfiQwYj"
      },
      "source": [
        "### removing stopwords"
      ]
    },
    {
      "cell_type": "code",
      "execution_count": 8,
      "metadata": {
        "id": "A8Y2npC-vCI7"
      },
      "outputs": [],
      "source": [
        "def remove_stopword(tweet):\n",
        "    stop_words = set(stopwords.words('english'))\n",
        "    filtered_tweet = [word for word in tweet.split() if word not in stop_words]\n",
        "    filtered_tweet = \" \".join(filtered_tweet)\n",
        "    return filtered_tweet\n",
        "\n",
        "tweets = df_2_mod['tweet']\n",
        "filtered_tweets = list(map(remove_stopword, tweets))"
      ]
    },
    {
      "cell_type": "code",
      "execution_count": null,
      "metadata": {
        "id": "lXH98tcVQwYj",
        "outputId": "aad177a3-baa2-41c9-a888-00cdbf498db9"
      },
      "outputs": [
        {
          "name": "stdout",
          "output_type": "stream",
          "text": [
            "169363\n"
          ]
        }
      ],
      "source": [
        "tokeniser = Tokenizer()\n",
        "tokeniser.fit_on_texts(filtered_tweets)\n",
        "vocab_size = len(tokeniser.word_index) + 1\n",
        "print(vocab_size)"
      ]
    },
    {
      "cell_type": "markdown",
      "metadata": {
        "id": "LDorq0ydQwYk"
      },
      "source": [
        "### lemmatization"
      ]
    },
    {
      "cell_type": "code",
      "execution_count": 9,
      "metadata": {
        "id": "FDe7XvHlQwYk"
      },
      "outputs": [],
      "source": [
        "def lemmatization(tweet):\n",
        "    lemmatizer = nltk.WordNetLemmatizer()\n",
        "    lemmatized_tokens = [lemmatizer.lemmatize(word) for word in tweet.split()]\n",
        "    lemmatized_tweet = \" \".join(lemmatized_tokens)\n",
        "    return lemmatized_tweet\n",
        "\n",
        "lemmatized_tweet = list(map(lemmatization, filtered_tweets))"
      ]
    },
    {
      "cell_type": "code",
      "execution_count": null,
      "metadata": {
        "id": "Zs7tTra2QwYk",
        "outputId": "cab5422f-72b5-471c-f594-ce8541a4cb3a"
      },
      "outputs": [
        {
          "name": "stdout",
          "output_type": "stream",
          "text": [
            "168250\n"
          ]
        }
      ],
      "source": [
        "tokeniser = Tokenizer()\n",
        "tokeniser.fit_on_texts(lemmatized_tweet)\n",
        "vocab_size = len(tokeniser.word_index) + 1\n",
        "print(vocab_size)"
      ]
    },
    {
      "cell_type": "markdown",
      "metadata": {
        "id": "l9VEyz9GQwYk"
      },
      "source": [
        "### replacing numbers with their word format"
      ]
    },
    {
      "cell_type": "code",
      "execution_count": 10,
      "metadata": {
        "id": "mIshauIEQwYk"
      },
      "outputs": [],
      "source": [
        "def replace_numbers_with_words(text):\n",
        "    return re.sub(r'\\b\\d+\\b', lambda x: num2words(int(x.group())), text)\n",
        "\n",
        "cleaned_tweets = list(map(replace_numbers_with_words, lemmatized_tweet))\n"
      ]
    },
    {
      "cell_type": "code",
      "execution_count": null,
      "metadata": {
        "id": "s2Oo9GKpQwYk",
        "outputId": "c2df5bb6-8b6b-4cc7-e3b5-daf39b2e7328"
      },
      "outputs": [
        {
          "name": "stdout",
          "output_type": "stream",
          "text": [
            "166600\n"
          ]
        }
      ],
      "source": [
        "tokeniser = Tokenizer()\n",
        "tokeniser.fit_on_texts(cleaned_tweets)\n",
        "vocab_size = len(tokeniser.word_index) + 1\n",
        "print(vocab_size)"
      ]
    },
    {
      "cell_type": "markdown",
      "metadata": {
        "id": "w5uQKw_NIfs2"
      },
      "source": [
        "## features selected using f-classif"
      ]
    },
    {
      "cell_type": "code",
      "execution_count": null,
      "metadata": {
        "id": "pbQ4cKFidSkO"
      },
      "outputs": [],
      "source": [
        "df_clean = df_2_mod[~df_2_mod['tweet'].isna()]\n",
        "df_clean_filtered = df_clean[['statuses_count', 'cred', 'normalize_influence', 'mentions',\n",
        "       'hashtags', 'URLs', 'unique_count', 'NORP_percentage',\n",
        "       'GPE_percentage', 'PERSON_percentage', 'MONEY_percentage',\n",
        "       'CARDINAL_percentage', 'Word count', 'Average word length',\n",
        "       'present_verbs', 'past_verbs', 'adjectives', 'adverbs', 'pronouns',\n",
        "       'TOs', 'conjunctions', 'exclamation', 'questions', 'capitals',\n",
        "       'short_word_freq']]\n",
        "labels = df_clean['majority_target']\n",
        "labels = labels.astype(int)\n",
        "labels = np.array(labels)\n",
        "labels = np.reshape(labels, [-1,1])"
      ]
    },
    {
      "cell_type": "markdown",
      "metadata": {
        "id": "5FNghtHmMDJD"
      },
      "source": [
        "## features selected using mutual info classif"
      ]
    },
    {
      "cell_type": "code",
      "execution_count": 34,
      "metadata": {
        "id": "JI4eK_3GMCf7"
      },
      "outputs": [],
      "source": [
        "df_clean = df_2_mod[~df_2_mod['tweet'].isna()]\n",
        "df_clean_filtered = df_clean[['followers_count', 'friends_count', 'favourites_count',\n",
        "       'statuses_count', 'listed_count', 'cred', 'normalize_influence',\n",
        "       'mentions', 'retweets', 'hashtags', 'URLs', 'unique_count',\n",
        "       'PERSON_percentage', 'PERCENT_percentage', 'Word count',\n",
        "       'Max word length', 'Average word length', 'present_verbs',\n",
        "       'past_verbs', 'adjectives', 'adverbs', 'pronouns', 'TOs',\n",
        "       'capitals', 'short_word_freq']]\n",
        "labels = df_clean['majority_target']\n",
        "labels = labels.astype(int)\n",
        "labels = np.array(labels)\n",
        "labels = np.reshape(labels, [-1,1])"
      ]
    },
    {
      "cell_type": "code",
      "execution_count": 35,
      "metadata": {
        "id": "lEJgVNQ7dZCa"
      },
      "outputs": [],
      "source": [
        "scaler = StandardScaler()\n",
        "X_clean = scaler.fit_transform(df_clean_filtered)"
      ]
    },
    {
      "cell_type": "code",
      "execution_count": 36,
      "metadata": {
        "id": "znoy5Q-ldjCy"
      },
      "outputs": [],
      "source": [
        "text_data = cleaned_tweets\n",
        "# Tokenizer to convert text into sequences\n",
        "tokenizer = Tokenizer(num_words= 50000)  # Adjust vocab size as needed\n",
        "tokenizer.fit_on_texts(text_data)\n",
        "\n",
        "# Convert text to sequences\n",
        "text_sequences = tokenizer.texts_to_sequences(text_data)\n",
        "\n",
        "# Pad sequences to ensure uniform length\n",
        "max_text_len = 128\n",
        "text_padded = pad_sequences(text_sequences, maxlen=max_text_len, padding='post')\n"
      ]
    },
    {
      "cell_type": "markdown",
      "metadata": {},
      "source": [
        "## Model Init"
      ]
    },
    {
      "cell_type": "code",
      "execution_count": 28,
      "metadata": {
        "id": "JU5y9OFFd0fr"
      },
      "outputs": [],
      "source": [
        "initializer = HeUniform(seed = 3)\n",
        "\n",
        "def create_truth_faker_model(embedding_dim, kernel_size_1, kernel_size_2, filters_1, filters_2, kernel_reg_1, dense_1, dense_2, dropout_1, dropout_2):\n",
        "    # Input for structured ML features\n",
        "    ml_input = Input(shape=(25,))\n",
        "    ml_branch = Dense(dense_1, activation='relu', kernel_initializer=initializer)(ml_input)\n",
        "    ml_branch = Dropout(dropout_1)(ml_branch)\n",
        "    ml_branch = Dense(dense_2, activation='relu', kernel_initializer=initializer)(ml_branch)\n",
        "\n",
        "    # Embedding layer\n",
        "    text_input = Input(shape=(128,))\n",
        "    text_emb = Embedding(input_dim=50000, output_dim=embedding_dim, input_length=128)(text_input)\n",
        "\n",
        "    # CNN layers for text\n",
        "    cnn_branch = Conv1D(filters=filters_1, kernel_size=kernel_size_1, activation='relu', kernel_initializer=initializer, kernel_regularizer=regularizers.L2(kernel_reg_1))(text_emb)\n",
        "    cnn_branch = AveragePooling1D(pool_size=2)(cnn_branch)\n",
        "    cnn_branch = Conv1D(filters=filters_2, kernel_size=kernel_size_2, activation='relu', kernel_initializer=initializer, kernel_regularizer=regularizers.L2(kernel_reg_1))(cnn_branch)\n",
        "    cnn_branch = AveragePooling1D(pool_size=2)(cnn_branch)\n",
        "    cnn_branch = Flatten()(cnn_branch)\n",
        "\n",
        "    # Combine both branches (ML features and text features)\n",
        "    combined = Concatenate()([ml_branch, cnn_branch])\n",
        "\n",
        "    # Fully connected layers after combining\n",
        "    combined = Dense(int(dense_1 / 2), activation='relu', kernel_initializer=initializer)(combined)\n",
        "    combined = Dropout(dropout_2)(combined)\n",
        "    combined = Dense(int(dense_2/ 2), activation='relu', kernel_initializer=initializer)(combined)\n",
        "\n",
        "    # Output layer for classification (assuming binary classification: Fake or Real)\n",
        "    output = Dense(1, activation='sigmoid')(combined)  # Use 'softmax' for multi-class\n",
        "\n",
        "    # Create and compile the model\n",
        "    model = Model(inputs=[ml_input, text_input], outputs=output)\n",
        "\n",
        "    return model\n"
      ]
    },
    {
      "cell_type": "code",
      "execution_count": 47,
      "metadata": {
        "id": "Tmnn8J6te8is"
      },
      "outputs": [],
      "source": [
        "X_ml_train, X_ml_test, X_text_train, X_text_test, y_train, y_test = train_test_split(X_clean, text_padded, labels, test_size=0.2, random_state=42)\n",
        "X_ml_train, X_ml_val, X_text_train, X_text_val, y_train, y_val = train_test_split(X_ml_train, X_text_train, y_train, test_size=0.2, random_state = 42)\n"
      ]
    },
    {
      "cell_type": "markdown",
      "metadata": {},
      "source": [
        "## Optuna using all the preprocessing and 50000 vocab size, features selected using mutual info classif"
      ]
    },
    {
      "cell_type": "code",
      "execution_count": 40,
      "metadata": {
        "id": "BG_JN_fAVWuZ"
      },
      "outputs": [],
      "source": [
        "import optuna\n",
        "from tensorflow.keras.optimizers import Adam\n",
        "\n",
        "def objective(trial, X_ml_train, X_ml_val, X_text_train, X_text_val, y_train, y_val):\n",
        "    # Define the search space for hyperparameters\n",
        "    embedding_dim = trial.suggest_categorical(\"embedding_dim\", [64, 128, 256])  # Embedding dimension\n",
        "    filters_1 = trial.suggest_categorical(\"filters_1\", [5, 10, 20])  # Number of filters\n",
        "    filters_2 = trial.suggest_categorical(\"filters_2\", [5, 10, 20])  # Number of filters\n",
        "    kernel_size_1 = trial.suggest_categorical(\"kernel_size1\", [5, 7, 15])  # First convolution kernel size\n",
        "    kernel_size_2 = trial.suggest_categorical(\"kernel_size_2\", [3, 5, 7])  # Second convolution kernel size\n",
        "    kernel_reg_1 = trial.suggest_categorical(\"kernel_reg_1\", [1e-2, 1e-3])  # Kernel regularization\n",
        "    dense_1 = trial.suggest_categorical(\"dense_1\", [64, 128])\n",
        "    dense_2 = trial.suggest_categorical(\"dense_2\", [32, 64])\n",
        "    dropout_1 = trial.suggest_categorical(\"dropout_1\", [0.6, 0.4])  # Dropout rate\n",
        "    dropout_2 = trial.suggest_categorical(\"dropout_2\", [0.5, 0.4])  # Dropout rate\n",
        "    learning_rate = trial.suggest_categorical(\"learning_rate\", [0.001, 0.0001, 0.00015])  # Learning rate\n",
        "    batch_size = trial.suggest_categorical(\"batch_size\", [16, 32, 64])  # Batch size\n",
        "    epochs = trial.suggest_categorical(\"epochs\", [5, 10, 20])  # Number of epochs\n",
        "\n",
        "    model = create_truth_faker_model(embedding_dim, kernel_size_1, kernel_size_2, filters_1, filters_2, kernel_reg_1, dense_1, dense_2, dropout_1, dropout_2)\n",
        "\n",
        "    # Compile the model with the suggested learning rate\n",
        "    model.compile(optimizer=Adam(learning_rate=learning_rate), loss='binary_crossentropy', metrics=['accuracy'])\n",
        "    early_stopping = EarlyStopping(monitor='val_accuracy', patience=3, restore_best_weights=True)\n",
        "    checkpoint = ModelCheckpoint(\n",
        "    f\"../../dsa4266/cnn-{trial.number}.keras\",\n",
        "    monitor=\"val_accuracy\",\n",
        "    verbose=0,\n",
        "    save_best_only=True,\n",
        "    )\n",
        "    # Train the model\n",
        "    history = model.fit(\n",
        "        [X_ml_train, X_text_train],  # Adjust as per your training data\n",
        "        y_train,\n",
        "        validation_data=([X_ml_val, X_text_val], y_val),  # Adjust as per your validation data\n",
        "        epochs=epochs,\n",
        "        batch_size=batch_size,\n",
        "        callbacks=[early_stopping, checkpoint],\n",
        "        verbose=1\n",
        "    )\n",
        "\n",
        "    # Return the best validation accuracy\n",
        "    return max(history.history['val_accuracy'])\n"
      ]
    },
    {
      "cell_type": "code",
      "execution_count": 41,
      "metadata": {
        "colab": {
          "base_uri": "https://localhost:8080/",
          "height": 1000
        },
        "id": "TygL9VuOTRS5",
        "outputId": "8c0d1640-c834-4926-e5dc-3943b441d01c"
      },
      "outputs": [
        {
          "name": "stderr",
          "output_type": "stream",
          "text": [
            "[I 2024-10-31 22:20:15,069] A new study created in memory with name: no-name-16172305-0fcb-451f-a85f-27f8ddfae5e6\n",
            "c:\\Users\\spooj\\Downloads\\dsa4266\\fake_news\\lib\\site-packages\\keras\\src\\layers\\core\\embedding.py:90: UserWarning: Argument `input_length` is deprecated. Just remove it.\n",
            "  warnings.warn(\n"
          ]
        },
        {
          "name": "stdout",
          "output_type": "stream",
          "text": [
            "Epoch 1/5\n"
          ]
        },
        {
          "name": "stderr",
          "output_type": "stream",
          "text": [
            "c:\\Users\\spooj\\Downloads\\dsa4266\\fake_news\\lib\\site-packages\\keras\\src\\models\\functional.py:225: UserWarning: The structure of `inputs` doesn't match the expected structure: ['keras_tensor_160', 'keras_tensor_164']. Received: the structure of inputs=('*', '*')\n",
            "  warnings.warn(\n"
          ]
        },
        {
          "name": "stdout",
          "output_type": "stream",
          "text": [
            "\u001b[1m5368/5368\u001b[0m \u001b[32m━━━━━━━━━━━━━━━━━━━━\u001b[0m\u001b[37m\u001b[0m \u001b[1m177s\u001b[0m 32ms/step - accuracy: 0.5576 - loss: 0.7849 - val_accuracy: 0.8870 - val_loss: 0.3492\n",
            "Epoch 2/5\n",
            "\u001b[1m5368/5368\u001b[0m \u001b[32m━━━━━━━━━━━━━━━━━━━━\u001b[0m\u001b[37m\u001b[0m \u001b[1m237s\u001b[0m 39ms/step - accuracy: 0.9053 - loss: 0.3123 - val_accuracy: 0.9266 - val_loss: 0.2576\n",
            "Epoch 3/5\n",
            "\u001b[1m5368/5368\u001b[0m \u001b[32m━━━━━━━━━━━━━━━━━━━━\u001b[0m\u001b[37m\u001b[0m \u001b[1m262s\u001b[0m 39ms/step - accuracy: 0.9360 - loss: 0.2382 - val_accuracy: 0.9307 - val_loss: 0.2470\n",
            "Epoch 4/5\n",
            "\u001b[1m5368/5368\u001b[0m \u001b[32m━━━━━━━━━━━━━━━━━━━━\u001b[0m\u001b[37m\u001b[0m \u001b[1m208s\u001b[0m 39ms/step - accuracy: 0.9459 - loss: 0.2098 - val_accuracy: 0.9296 - val_loss: 0.2465\n",
            "Epoch 5/5\n",
            "\u001b[1m5368/5368\u001b[0m \u001b[32m━━━━━━━━━━━━━━━━━━━━\u001b[0m\u001b[37m\u001b[0m \u001b[1m208s\u001b[0m 39ms/step - accuracy: 0.9482 - loss: 0.2004 - val_accuracy: 0.9284 - val_loss: 0.2519\n"
          ]
        },
        {
          "name": "stderr",
          "output_type": "stream",
          "text": [
            "[I 2024-10-31 22:38:28,104] Trial 0 finished with value: 0.930700421333313 and parameters: {'embedding_dim': 128, 'filters_1': 10, 'filters_2': 10, 'kernel_size1': 5, 'kernel_size_2': 5, 'kernel_reg_1': 0.01, 'dense_1': 128, 'dense_2': 32, 'dropout_1': 0.4, 'dropout_2': 0.4, 'learning_rate': 0.00015, 'batch_size': 16, 'epochs': 5}. Best is trial 0 with value: 0.930700421333313.\n"
          ]
        },
        {
          "name": "stdout",
          "output_type": "stream",
          "text": [
            "Epoch 1/20\n"
          ]
        },
        {
          "name": "stderr",
          "output_type": "stream",
          "text": [
            "c:\\Users\\spooj\\Downloads\\dsa4266\\fake_news\\lib\\site-packages\\keras\\src\\models\\functional.py:225: UserWarning: The structure of `inputs` doesn't match the expected structure: ['keras_tensor_176', 'keras_tensor_180']. Received: the structure of inputs=('*', '*')\n",
            "  warnings.warn(\n"
          ]
        },
        {
          "name": "stdout",
          "output_type": "stream",
          "text": [
            "\u001b[1m1342/1342\u001b[0m \u001b[32m━━━━━━━━━━━━━━━━━━━━\u001b[0m\u001b[37m\u001b[0m \u001b[1m170s\u001b[0m 121ms/step - accuracy: 0.5716 - loss: 0.7015 - val_accuracy: 0.9128 - val_loss: 0.2954\n",
            "Epoch 2/20\n",
            "\u001b[1m1342/1342\u001b[0m \u001b[32m━━━━━━━━━━━━━━━━━━━━\u001b[0m\u001b[37m\u001b[0m \u001b[1m668s\u001b[0m 498ms/step - accuracy: 0.9156 - loss: 0.2953 - val_accuracy: 0.9284 - val_loss: 0.2562\n",
            "Epoch 3/20\n",
            "\u001b[1m1342/1342\u001b[0m \u001b[32m━━━━━━━━━━━━━━━━━━━━\u001b[0m\u001b[37m\u001b[0m \u001b[1m157s\u001b[0m 117ms/step - accuracy: 0.9344 - loss: 0.2454 - val_accuracy: 0.9292 - val_loss: 0.2484\n",
            "Epoch 4/20\n",
            "\u001b[1m1342/1342\u001b[0m \u001b[32m━━━━━━━━━━━━━━━━━━━━\u001b[0m\u001b[37m\u001b[0m \u001b[1m153s\u001b[0m 114ms/step - accuracy: 0.9444 - loss: 0.2159 - val_accuracy: 0.9293 - val_loss: 0.2472\n",
            "Epoch 5/20\n",
            "\u001b[1m1342/1342\u001b[0m \u001b[32m━━━━━━━━━━━━━━━━━━━━\u001b[0m\u001b[37m\u001b[0m \u001b[1m152s\u001b[0m 113ms/step - accuracy: 0.9504 - loss: 0.1969 - val_accuracy: 0.9261 - val_loss: 0.2584\n",
            "Epoch 6/20\n",
            "\u001b[1m1342/1342\u001b[0m \u001b[32m━━━━━━━━━━━━━━━━━━━━\u001b[0m\u001b[37m\u001b[0m \u001b[1m117s\u001b[0m 87ms/step - accuracy: 0.9550 - loss: 0.1828 - val_accuracy: 0.9220 - val_loss: 0.2644\n",
            "Epoch 7/20\n",
            "\u001b[1m1342/1342\u001b[0m \u001b[32m━━━━━━━━━━━━━━━━━━━━\u001b[0m\u001b[37m\u001b[0m \u001b[1m110s\u001b[0m 82ms/step - accuracy: 0.9584 - loss: 0.1708 - val_accuracy: 0.9183 - val_loss: 0.2753\n"
          ]
        },
        {
          "name": "stderr",
          "output_type": "stream",
          "text": [
            "[I 2024-10-31 23:03:56,151] Trial 1 finished with value: 0.9292566776275635 and parameters: {'embedding_dim': 256, 'filters_1': 20, 'filters_2': 5, 'kernel_size1': 15, 'kernel_size_2': 7, 'kernel_reg_1': 0.001, 'dense_1': 128, 'dense_2': 64, 'dropout_1': 0.4, 'dropout_2': 0.4, 'learning_rate': 0.0001, 'batch_size': 64, 'epochs': 20}. Best is trial 0 with value: 0.930700421333313.\n"
          ]
        },
        {
          "name": "stdout",
          "output_type": "stream",
          "text": [
            "Epoch 1/20\n"
          ]
        },
        {
          "name": "stderr",
          "output_type": "stream",
          "text": [
            "c:\\Users\\spooj\\Downloads\\dsa4266\\fake_news\\lib\\site-packages\\keras\\src\\models\\functional.py:225: UserWarning: The structure of `inputs` doesn't match the expected structure: ['keras_tensor_192', 'keras_tensor_196']. Received: the structure of inputs=('*', '*')\n",
            "  warnings.warn(\n"
          ]
        },
        {
          "name": "stdout",
          "output_type": "stream",
          "text": [
            "\u001b[1m1342/1342\u001b[0m \u001b[32m━━━━━━━━━━━━━━━━━━━━\u001b[0m\u001b[37m\u001b[0m \u001b[1m84s\u001b[0m 60ms/step - accuracy: 0.5084 - loss: 0.8970 - val_accuracy: 0.5829 - val_loss: 0.7118\n",
            "Epoch 2/20\n",
            "\u001b[1m1342/1342\u001b[0m \u001b[32m━━━━━━━━━━━━━━━━━━━━\u001b[0m\u001b[37m\u001b[0m \u001b[1m63s\u001b[0m 47ms/step - accuracy: 0.5595 - loss: 0.7086 - val_accuracy: 0.6096 - val_loss: 0.6733\n",
            "Epoch 3/20\n",
            "\u001b[1m1342/1342\u001b[0m \u001b[32m━━━━━━━━━━━━━━━━━━━━\u001b[0m\u001b[37m\u001b[0m \u001b[1m48s\u001b[0m 36ms/step - accuracy: 0.6777 - loss: 0.6107 - val_accuracy: 0.9028 - val_loss: 0.3386\n",
            "Epoch 4/20\n",
            "\u001b[1m1342/1342\u001b[0m \u001b[32m━━━━━━━━━━━━━━━━━━━━\u001b[0m\u001b[37m\u001b[0m \u001b[1m49s\u001b[0m 36ms/step - accuracy: 0.8945 - loss: 0.3573 - val_accuracy: 0.9164 - val_loss: 0.3023\n",
            "Epoch 5/20\n",
            "\u001b[1m1342/1342\u001b[0m \u001b[32m━━━━━━━━━━━━━━━━━━━━\u001b[0m\u001b[37m\u001b[0m \u001b[1m51s\u001b[0m 38ms/step - accuracy: 0.9195 - loss: 0.3012 - val_accuracy: 0.9238 - val_loss: 0.2807\n",
            "Epoch 6/20\n",
            "\u001b[1m1342/1342\u001b[0m \u001b[32m━━━━━━━━━━━━━━━━━━━━\u001b[0m\u001b[37m\u001b[0m \u001b[1m46s\u001b[0m 34ms/step - accuracy: 0.9294 - loss: 0.2760 - val_accuracy: 0.9249 - val_loss: 0.2724\n",
            "Epoch 7/20\n",
            "\u001b[1m1342/1342\u001b[0m \u001b[32m━━━━━━━━━━━━━━━━━━━━\u001b[0m\u001b[37m\u001b[0m \u001b[1m48s\u001b[0m 36ms/step - accuracy: 0.9347 - loss: 0.2572 - val_accuracy: 0.9276 - val_loss: 0.2653\n",
            "Epoch 8/20\n",
            "\u001b[1m1342/1342\u001b[0m \u001b[32m━━━━━━━━━━━━━━━━━━━━\u001b[0m\u001b[37m\u001b[0m \u001b[1m48s\u001b[0m 36ms/step - accuracy: 0.9411 - loss: 0.2383 - val_accuracy: 0.9249 - val_loss: 0.2672\n",
            "Epoch 9/20\n",
            "\u001b[1m1342/1342\u001b[0m \u001b[32m━━━━━━━━━━━━━━━━━━━━\u001b[0m\u001b[37m\u001b[0m \u001b[1m47s\u001b[0m 35ms/step - accuracy: 0.9461 - loss: 0.2246 - val_accuracy: 0.9264 - val_loss: 0.2608\n",
            "Epoch 10/20\n",
            "\u001b[1m1342/1342\u001b[0m \u001b[32m━━━━━━━━━━━━━━━━━━━━\u001b[0m\u001b[37m\u001b[0m \u001b[1m56s\u001b[0m 42ms/step - accuracy: 0.9484 - loss: 0.2130 - val_accuracy: 0.9258 - val_loss: 0.2595\n"
          ]
        },
        {
          "name": "stderr",
          "output_type": "stream",
          "text": [
            "[I 2024-10-31 23:12:56,422] Trial 2 finished with value: 0.9275801181793213 and parameters: {'embedding_dim': 128, 'filters_1': 10, 'filters_2': 5, 'kernel_size1': 15, 'kernel_size_2': 7, 'kernel_reg_1': 0.01, 'dense_1': 128, 'dense_2': 64, 'dropout_1': 0.4, 'dropout_2': 0.5, 'learning_rate': 0.0001, 'batch_size': 64, 'epochs': 20}. Best is trial 0 with value: 0.930700421333313.\n"
          ]
        },
        {
          "name": "stdout",
          "output_type": "stream",
          "text": [
            "Epoch 1/5\n"
          ]
        },
        {
          "name": "stderr",
          "output_type": "stream",
          "text": [
            "c:\\Users\\spooj\\Downloads\\dsa4266\\fake_news\\lib\\site-packages\\keras\\src\\models\\functional.py:225: UserWarning: The structure of `inputs` doesn't match the expected structure: ['keras_tensor_208', 'keras_tensor_212']. Received: the structure of inputs=('*', '*')\n",
            "  warnings.warn(\n"
          ]
        },
        {
          "name": "stdout",
          "output_type": "stream",
          "text": [
            "\u001b[1m2684/2684\u001b[0m \u001b[32m━━━━━━━━━━━━━━━━━━━━\u001b[0m\u001b[37m\u001b[0m \u001b[1m81s\u001b[0m 28ms/step - accuracy: 0.7951 - loss: 0.4358 - val_accuracy: 0.9291 - val_loss: 0.2478\n",
            "Epoch 2/5\n",
            "\u001b[1m2684/2684\u001b[0m \u001b[32m━━━━━━━━━━━━━━━━━━━━\u001b[0m\u001b[37m\u001b[0m \u001b[1m73s\u001b[0m 27ms/step - accuracy: 0.9437 - loss: 0.2066 - val_accuracy: 0.9321 - val_loss: 0.2379\n",
            "Epoch 3/5\n",
            "\u001b[1m2684/2684\u001b[0m \u001b[32m━━━━━━━━━━━━━━━━━━━━\u001b[0m\u001b[37m\u001b[0m \u001b[1m51s\u001b[0m 19ms/step - accuracy: 0.9525 - loss: 0.1772 - val_accuracy: 0.9255 - val_loss: 0.2499\n",
            "Epoch 4/5\n",
            "\u001b[1m2684/2684\u001b[0m \u001b[32m━━━━━━━━━━━━━━━━━━━━\u001b[0m\u001b[37m\u001b[0m \u001b[1m52s\u001b[0m 19ms/step - accuracy: 0.9604 - loss: 0.1472 - val_accuracy: 0.9147 - val_loss: 0.2733\n",
            "Epoch 5/5\n",
            "\u001b[1m2684/2684\u001b[0m \u001b[32m━━━━━━━━━━━━━━━━━━━━\u001b[0m\u001b[37m\u001b[0m \u001b[1m47s\u001b[0m 17ms/step - accuracy: 0.9666 - loss: 0.1246 - val_accuracy: 0.9072 - val_loss: 0.3126\n"
          ]
        },
        {
          "name": "stderr",
          "output_type": "stream",
          "text": [
            "[I 2024-10-31 23:18:02,039] Trial 3 finished with value: 0.9321441650390625 and parameters: {'embedding_dim': 64, 'filters_1': 5, 'filters_2': 20, 'kernel_size1': 7, 'kernel_size_2': 5, 'kernel_reg_1': 0.001, 'dense_1': 128, 'dense_2': 64, 'dropout_1': 0.4, 'dropout_2': 0.4, 'learning_rate': 0.001, 'batch_size': 32, 'epochs': 5}. Best is trial 3 with value: 0.9321441650390625.\n"
          ]
        },
        {
          "name": "stdout",
          "output_type": "stream",
          "text": [
            "Epoch 1/20\n"
          ]
        },
        {
          "name": "stderr",
          "output_type": "stream",
          "text": [
            "c:\\Users\\spooj\\Downloads\\dsa4266\\fake_news\\lib\\site-packages\\keras\\src\\models\\functional.py:225: UserWarning: The structure of `inputs` doesn't match the expected structure: ['keras_tensor_224', 'keras_tensor_228']. Received: the structure of inputs=('*', '*')\n",
            "  warnings.warn(\n"
          ]
        },
        {
          "name": "stdout",
          "output_type": "stream",
          "text": [
            "\u001b[1m1342/1342\u001b[0m \u001b[32m━━━━━━━━━━━━━━━━━━━━\u001b[0m\u001b[37m\u001b[0m \u001b[1m56s\u001b[0m 40ms/step - accuracy: 0.5668 - loss: 0.6896 - val_accuracy: 0.9177 - val_loss: 0.2802\n",
            "Epoch 2/20\n",
            "\u001b[1m1342/1342\u001b[0m \u001b[32m━━━━━━━━━━━━━━━━━━━━\u001b[0m\u001b[37m\u001b[0m \u001b[1m54s\u001b[0m 40ms/step - accuracy: 0.9227 - loss: 0.2762 - val_accuracy: 0.9288 - val_loss: 0.2515\n",
            "Epoch 3/20\n",
            "\u001b[1m1342/1342\u001b[0m \u001b[32m━━━━━━━━━━━━━━━━━━━━\u001b[0m\u001b[37m\u001b[0m \u001b[1m54s\u001b[0m 40ms/step - accuracy: 0.9416 - loss: 0.2281 - val_accuracy: 0.9299 - val_loss: 0.2476\n",
            "Epoch 4/20\n",
            "\u001b[1m1342/1342\u001b[0m \u001b[32m━━━━━━━━━━━━━━━━━━━━\u001b[0m\u001b[37m\u001b[0m \u001b[1m55s\u001b[0m 41ms/step - accuracy: 0.9489 - loss: 0.2042 - val_accuracy: 0.9257 - val_loss: 0.2547\n",
            "Epoch 5/20\n",
            "\u001b[1m1342/1342\u001b[0m \u001b[32m━━━━━━━━━━━━━━━━━━━━\u001b[0m\u001b[37m\u001b[0m \u001b[1m55s\u001b[0m 41ms/step - accuracy: 0.9548 - loss: 0.1840 - val_accuracy: 0.9210 - val_loss: 0.2660\n",
            "Epoch 6/20\n",
            "\u001b[1m1342/1342\u001b[0m \u001b[32m━━━━━━━━━━━━━━━━━━━━\u001b[0m\u001b[37m\u001b[0m \u001b[1m53s\u001b[0m 39ms/step - accuracy: 0.9596 - loss: 0.1684 - val_accuracy: 0.9176 - val_loss: 0.2746\n"
          ]
        },
        {
          "name": "stderr",
          "output_type": "stream",
          "text": [
            "[I 2024-10-31 23:23:28,259] Trial 4 finished with value: 0.9299086928367615 and parameters: {'embedding_dim': 128, 'filters_1': 20, 'filters_2': 10, 'kernel_size1': 15, 'kernel_size_2': 7, 'kernel_reg_1': 0.001, 'dense_1': 128, 'dense_2': 32, 'dropout_1': 0.4, 'dropout_2': 0.5, 'learning_rate': 0.00015, 'batch_size': 64, 'epochs': 20}. Best is trial 3 with value: 0.9321441650390625.\n"
          ]
        },
        {
          "name": "stdout",
          "output_type": "stream",
          "text": [
            "Epoch 1/20\n"
          ]
        },
        {
          "name": "stderr",
          "output_type": "stream",
          "text": [
            "c:\\Users\\spooj\\Downloads\\dsa4266\\fake_news\\lib\\site-packages\\keras\\src\\models\\functional.py:225: UserWarning: The structure of `inputs` doesn't match the expected structure: ['keras_tensor_240', 'keras_tensor_244']. Received: the structure of inputs=('*', '*')\n",
            "  warnings.warn(\n"
          ]
        },
        {
          "name": "stdout",
          "output_type": "stream",
          "text": [
            "\u001b[1m1342/1342\u001b[0m \u001b[32m━━━━━━━━━━━━━━━━━━━━\u001b[0m\u001b[37m\u001b[0m \u001b[1m93s\u001b[0m 67ms/step - accuracy: 0.5251 - loss: 0.7430 - val_accuracy: 0.5870 - val_loss: 0.6846\n",
            "Epoch 2/20\n",
            "\u001b[1m1342/1342\u001b[0m \u001b[32m━━━━━━━━━━━━━━━━━━━━\u001b[0m\u001b[37m\u001b[0m \u001b[1m89s\u001b[0m 67ms/step - accuracy: 0.6572 - loss: 0.6001 - val_accuracy: 0.9187 - val_loss: 0.2818\n",
            "Epoch 3/20\n",
            "\u001b[1m1342/1342\u001b[0m \u001b[32m━━━━━━━━━━━━━━━━━━━━\u001b[0m\u001b[37m\u001b[0m \u001b[1m91s\u001b[0m 68ms/step - accuracy: 0.9128 - loss: 0.3045 - val_accuracy: 0.9258 - val_loss: 0.2649\n",
            "Epoch 4/20\n",
            "\u001b[1m1342/1342\u001b[0m \u001b[32m━━━━━━━━━━━━━━━━━━━━\u001b[0m\u001b[37m\u001b[0m \u001b[1m96s\u001b[0m 71ms/step - accuracy: 0.9329 - loss: 0.2543 - val_accuracy: 0.9280 - val_loss: 0.2834\n",
            "Epoch 5/20\n",
            "\u001b[1m1342/1342\u001b[0m \u001b[32m━━━━━━━━━━━━━━━━━━━━\u001b[0m\u001b[37m\u001b[0m \u001b[1m107s\u001b[0m 79ms/step - accuracy: 0.9407 - loss: 0.2287 - val_accuracy: 0.9270 - val_loss: 0.2830\n",
            "Epoch 6/20\n",
            "\u001b[1m1342/1342\u001b[0m \u001b[32m━━━━━━━━━━━━━━━━━━━━\u001b[0m\u001b[37m\u001b[0m \u001b[1m89s\u001b[0m 66ms/step - accuracy: 0.9444 - loss: 0.2113 - val_accuracy: 0.9268 - val_loss: 0.2766\n",
            "Epoch 7/20\n",
            "\u001b[1m1342/1342\u001b[0m \u001b[32m━━━━━━━━━━━━━━━━━━━━\u001b[0m\u001b[37m\u001b[0m \u001b[1m97s\u001b[0m 72ms/step - accuracy: 0.9501 - loss: 0.1945 - val_accuracy: 0.9233 - val_loss: 0.2768\n"
          ]
        },
        {
          "name": "stderr",
          "output_type": "stream",
          "text": [
            "[I 2024-10-31 23:34:29,640] Trial 5 finished with value: 0.9279992580413818 and parameters: {'embedding_dim': 256, 'filters_1': 5, 'filters_2': 5, 'kernel_size1': 15, 'kernel_size_2': 7, 'kernel_reg_1': 0.001, 'dense_1': 64, 'dense_2': 64, 'dropout_1': 0.6, 'dropout_2': 0.5, 'learning_rate': 0.00015, 'batch_size': 64, 'epochs': 20}. Best is trial 3 with value: 0.9321441650390625.\n"
          ]
        },
        {
          "name": "stdout",
          "output_type": "stream",
          "text": [
            "Epoch 1/10\n"
          ]
        },
        {
          "name": "stderr",
          "output_type": "stream",
          "text": [
            "c:\\Users\\spooj\\Downloads\\dsa4266\\fake_news\\lib\\site-packages\\keras\\src\\models\\functional.py:225: UserWarning: The structure of `inputs` doesn't match the expected structure: ['keras_tensor_256', 'keras_tensor_260']. Received: the structure of inputs=('*', '*')\n",
            "  warnings.warn(\n"
          ]
        },
        {
          "name": "stdout",
          "output_type": "stream",
          "text": [
            "\u001b[1m2684/2684\u001b[0m \u001b[32m━━━━━━━━━━━━━━━━━━━━\u001b[0m\u001b[37m\u001b[0m \u001b[1m229s\u001b[0m 83ms/step - accuracy: 0.6225 - loss: 0.7661 - val_accuracy: 0.9225 - val_loss: 0.3007\n",
            "Epoch 2/10\n",
            "\u001b[1m2684/2684\u001b[0m \u001b[32m━━━━━━━━━━━━━━━━━━━━\u001b[0m\u001b[37m\u001b[0m \u001b[1m221s\u001b[0m 82ms/step - accuracy: 0.9285 - loss: 0.2877 - val_accuracy: 0.9278 - val_loss: 0.2641\n",
            "Epoch 3/10\n",
            "\u001b[1m2684/2684\u001b[0m \u001b[32m━━━━━━━━━━━━━━━━━━━━\u001b[0m\u001b[37m\u001b[0m \u001b[1m261s\u001b[0m 82ms/step - accuracy: 0.9418 - loss: 0.2361 - val_accuracy: 0.9294 - val_loss: 0.2540\n",
            "Epoch 4/10\n",
            "\u001b[1m2684/2684\u001b[0m \u001b[32m━━━━━━━━━━━━━━━━━━━━\u001b[0m\u001b[37m\u001b[0m \u001b[1m218s\u001b[0m 81ms/step - accuracy: 0.9474 - loss: 0.2132 - val_accuracy: 0.9274 - val_loss: 0.2551\n",
            "Epoch 5/10\n",
            "\u001b[1m2684/2684\u001b[0m \u001b[32m━━━━━━━━━━━━━━━━━━━━\u001b[0m\u001b[37m\u001b[0m \u001b[1m277s\u001b[0m 103ms/step - accuracy: 0.9535 - loss: 0.1911 - val_accuracy: 0.9241 - val_loss: 0.2635\n",
            "Epoch 6/10\n",
            "\u001b[1m2684/2684\u001b[0m \u001b[32m━━━━━━━━━━━━━━━━━━━━\u001b[0m\u001b[37m\u001b[0m \u001b[1m155s\u001b[0m 58ms/step - accuracy: 0.9560 - loss: 0.1798 - val_accuracy: 0.9204 - val_loss: 0.2737\n"
          ]
        },
        {
          "name": "stderr",
          "output_type": "stream",
          "text": [
            "[I 2024-10-31 23:57:10,949] Trial 6 finished with value: 0.9294430017471313 and parameters: {'embedding_dim': 256, 'filters_1': 10, 'filters_2': 10, 'kernel_size1': 15, 'kernel_size_2': 3, 'kernel_reg_1': 0.01, 'dense_1': 128, 'dense_2': 32, 'dropout_1': 0.6, 'dropout_2': 0.4, 'learning_rate': 0.00015, 'batch_size': 32, 'epochs': 10}. Best is trial 3 with value: 0.9321441650390625.\n"
          ]
        },
        {
          "name": "stdout",
          "output_type": "stream",
          "text": [
            "Epoch 1/10\n"
          ]
        },
        {
          "name": "stderr",
          "output_type": "stream",
          "text": [
            "c:\\Users\\spooj\\Downloads\\dsa4266\\fake_news\\lib\\site-packages\\keras\\src\\models\\functional.py:225: UserWarning: The structure of `inputs` doesn't match the expected structure: ['keras_tensor_272', 'keras_tensor_276']. Received: the structure of inputs=('*', '*')\n",
            "  warnings.warn(\n"
          ]
        },
        {
          "name": "stdout",
          "output_type": "stream",
          "text": [
            "\u001b[1m5368/5368\u001b[0m \u001b[32m━━━━━━━━━━━━━━━━━━━━\u001b[0m\u001b[37m\u001b[0m \u001b[1m153s\u001b[0m 27ms/step - accuracy: 0.6593 - loss: 0.8484 - val_accuracy: 0.9251 - val_loss: 0.3271\n",
            "Epoch 2/10\n",
            "\u001b[1m5368/5368\u001b[0m \u001b[32m━━━━━━━━━━━━━━━━━━━━\u001b[0m\u001b[37m\u001b[0m \u001b[1m147s\u001b[0m 27ms/step - accuracy: 0.9302 - loss: 0.3072 - val_accuracy: 0.9309 - val_loss: 0.2707\n",
            "Epoch 3/10\n",
            "\u001b[1m5368/5368\u001b[0m \u001b[32m━━━━━━━━━━━━━━━━━━━━\u001b[0m\u001b[37m\u001b[0m \u001b[1m98s\u001b[0m 18ms/step - accuracy: 0.9420 - loss: 0.2432 - val_accuracy: 0.9313 - val_loss: 0.2569\n",
            "Epoch 4/10\n",
            "\u001b[1m5368/5368\u001b[0m \u001b[32m━━━━━━━━━━━━━━━━━━━━\u001b[0m\u001b[37m\u001b[0m \u001b[1m87s\u001b[0m 16ms/step - accuracy: 0.9469 - loss: 0.2175 - val_accuracy: 0.9289 - val_loss: 0.2542\n",
            "Epoch 5/10\n",
            "\u001b[1m5368/5368\u001b[0m \u001b[32m━━━━━━━━━━━━━━━━━━━━\u001b[0m\u001b[37m\u001b[0m \u001b[1m89s\u001b[0m 17ms/step - accuracy: 0.9507 - loss: 0.1992 - val_accuracy: 0.9263 - val_loss: 0.2564\n",
            "Epoch 6/10\n",
            "\u001b[1m5368/5368\u001b[0m \u001b[32m━━━━━━━━━━━━━━━━━━━━\u001b[0m\u001b[37m\u001b[0m \u001b[1m87s\u001b[0m 16ms/step - accuracy: 0.9541 - loss: 0.1834 - val_accuracy: 0.9241 - val_loss: 0.2611\n"
          ]
        },
        {
          "name": "stderr",
          "output_type": "stream",
          "text": [
            "[I 2024-11-01 00:08:12,616] Trial 7 finished with value: 0.9312593340873718 and parameters: {'embedding_dim': 64, 'filters_1': 5, 'filters_2': 20, 'kernel_size1': 15, 'kernel_size_2': 3, 'kernel_reg_1': 0.01, 'dense_1': 128, 'dense_2': 64, 'dropout_1': 0.4, 'dropout_2': 0.4, 'learning_rate': 0.0001, 'batch_size': 16, 'epochs': 10}. Best is trial 3 with value: 0.9321441650390625.\n"
          ]
        },
        {
          "name": "stdout",
          "output_type": "stream",
          "text": [
            "Epoch 1/5\n"
          ]
        },
        {
          "name": "stderr",
          "output_type": "stream",
          "text": [
            "c:\\Users\\spooj\\Downloads\\dsa4266\\fake_news\\lib\\site-packages\\keras\\src\\models\\functional.py:225: UserWarning: The structure of `inputs` doesn't match the expected structure: ['keras_tensor_288', 'keras_tensor_292']. Received: the structure of inputs=('*', '*')\n",
            "  warnings.warn(\n"
          ]
        },
        {
          "name": "stdout",
          "output_type": "stream",
          "text": [
            "\u001b[1m2684/2684\u001b[0m \u001b[32m━━━━━━━━━━━━━━━━━━━━\u001b[0m\u001b[37m\u001b[0m \u001b[1m186s\u001b[0m 68ms/step - accuracy: 0.7415 - loss: 0.4967 - val_accuracy: 0.9328 - val_loss: 0.2398\n",
            "Epoch 2/5\n",
            "\u001b[1m2684/2684\u001b[0m \u001b[32m━━━━━━━━━━━━━━━━━━━━\u001b[0m\u001b[37m\u001b[0m \u001b[1m209s\u001b[0m 70ms/step - accuracy: 0.9411 - loss: 0.2174 - val_accuracy: 0.9312 - val_loss: 0.2393\n",
            "Epoch 3/5\n",
            "\u001b[1m2684/2684\u001b[0m \u001b[32m━━━━━━━━━━━━━━━━━━━━\u001b[0m\u001b[37m\u001b[0m \u001b[1m149s\u001b[0m 55ms/step - accuracy: 0.9511 - loss: 0.1821 - val_accuracy: 0.9266 - val_loss: 0.2522\n",
            "Epoch 4/5\n",
            "\u001b[1m2684/2684\u001b[0m \u001b[32m━━━━━━━━━━━━━━━━━━━━\u001b[0m\u001b[37m\u001b[0m \u001b[1m139s\u001b[0m 52ms/step - accuracy: 0.9576 - loss: 0.1573 - val_accuracy: 0.9156 - val_loss: 0.2801\n"
          ]
        },
        {
          "name": "stderr",
          "output_type": "stream",
          "text": [
            "[I 2024-11-01 00:19:34,547] Trial 8 finished with value: 0.9328427910804749 and parameters: {'embedding_dim': 256, 'filters_1': 20, 'filters_2': 5, 'kernel_size1': 7, 'kernel_size_2': 5, 'kernel_reg_1': 0.001, 'dense_1': 128, 'dense_2': 32, 'dropout_1': 0.4, 'dropout_2': 0.4, 'learning_rate': 0.001, 'batch_size': 32, 'epochs': 5}. Best is trial 8 with value: 0.9328427910804749.\n"
          ]
        },
        {
          "name": "stdout",
          "output_type": "stream",
          "text": [
            "Epoch 1/20\n"
          ]
        },
        {
          "name": "stderr",
          "output_type": "stream",
          "text": [
            "c:\\Users\\spooj\\Downloads\\dsa4266\\fake_news\\lib\\site-packages\\keras\\src\\models\\functional.py:225: UserWarning: The structure of `inputs` doesn't match the expected structure: ['keras_tensor_304', 'keras_tensor_308']. Received: the structure of inputs=('*', '*')\n",
            "  warnings.warn(\n"
          ]
        },
        {
          "name": "stdout",
          "output_type": "stream",
          "text": [
            "\u001b[1m5368/5368\u001b[0m \u001b[32m━━━━━━━━━━━━━━━━━━━━\u001b[0m\u001b[37m\u001b[0m \u001b[1m159s\u001b[0m 28ms/step - accuracy: 0.8398 - loss: 0.3845 - val_accuracy: 0.9347 - val_loss: 0.2295\n",
            "Epoch 2/20\n",
            "\u001b[1m5368/5368\u001b[0m \u001b[32m━━━━━━━━━━━━━━━━━━━━\u001b[0m\u001b[37m\u001b[0m \u001b[1m140s\u001b[0m 26ms/step - accuracy: 0.9439 - loss: 0.2089 - val_accuracy: 0.9317 - val_loss: 0.2380\n",
            "Epoch 3/20\n",
            "\u001b[1m5368/5368\u001b[0m \u001b[32m━━━━━━━━━━━━━━━━━━━━\u001b[0m\u001b[37m\u001b[0m \u001b[1m142s\u001b[0m 27ms/step - accuracy: 0.9499 - loss: 0.1862 - val_accuracy: 0.9280 - val_loss: 0.2475\n",
            "Epoch 4/20\n",
            "\u001b[1m5368/5368\u001b[0m \u001b[32m━━━━━━━━━━━━━━━━━━━━\u001b[0m\u001b[37m\u001b[0m \u001b[1m142s\u001b[0m 26ms/step - accuracy: 0.9570 - loss: 0.1582 - val_accuracy: 0.9180 - val_loss: 0.2737\n"
          ]
        },
        {
          "name": "stderr",
          "output_type": "stream",
          "text": [
            "[I 2024-11-01 00:29:18,584] Trial 9 finished with value: 0.9347056746482849 and parameters: {'embedding_dim': 128, 'filters_1': 5, 'filters_2': 20, 'kernel_size1': 7, 'kernel_size_2': 3, 'kernel_reg_1': 0.001, 'dense_1': 128, 'dense_2': 32, 'dropout_1': 0.4, 'dropout_2': 0.4, 'learning_rate': 0.001, 'batch_size': 16, 'epochs': 20}. Best is trial 9 with value: 0.9347056746482849.\n"
          ]
        },
        {
          "name": "stdout",
          "output_type": "stream",
          "text": [
            "Epoch 1/20\n"
          ]
        },
        {
          "name": "stderr",
          "output_type": "stream",
          "text": [
            "c:\\Users\\spooj\\Downloads\\dsa4266\\fake_news\\lib\\site-packages\\keras\\src\\models\\functional.py:225: UserWarning: The structure of `inputs` doesn't match the expected structure: ['keras_tensor_320', 'keras_tensor_324']. Received: the structure of inputs=('*', '*')\n",
            "  warnings.warn(\n"
          ]
        },
        {
          "name": "stdout",
          "output_type": "stream",
          "text": [
            "\u001b[1m5368/5368\u001b[0m \u001b[32m━━━━━━━━━━━━━━━━━━━━\u001b[0m\u001b[37m\u001b[0m \u001b[1m140s\u001b[0m 26ms/step - accuracy: 0.7490 - loss: 0.4865 - val_accuracy: 0.9229 - val_loss: 0.2641\n",
            "Epoch 2/20\n",
            "\u001b[1m5368/5368\u001b[0m \u001b[32m━━━━━━━━━━━━━━━━━━━━\u001b[0m\u001b[37m\u001b[0m \u001b[1m139s\u001b[0m 26ms/step - accuracy: 0.9387 - loss: 0.2198 - val_accuracy: 0.9242 - val_loss: 0.2689\n",
            "Epoch 3/20\n",
            "\u001b[1m5368/5368\u001b[0m \u001b[32m━━━━━━━━━━━━━━━━━━━━\u001b[0m\u001b[37m\u001b[0m \u001b[1m139s\u001b[0m 26ms/step - accuracy: 0.9482 - loss: 0.1883 - val_accuracy: 0.9194 - val_loss: 0.2604\n",
            "Epoch 4/20\n",
            "\u001b[1m5368/5368\u001b[0m \u001b[32m━━━━━━━━━━━━━━━━━━━━\u001b[0m\u001b[37m\u001b[0m \u001b[1m141s\u001b[0m 26ms/step - accuracy: 0.9548 - loss: 0.1634 - val_accuracy: 0.9168 - val_loss: 0.2675\n",
            "Epoch 5/20\n",
            "\u001b[1m5368/5368\u001b[0m \u001b[32m━━━━━━━━━━━━━━━━━━━━\u001b[0m\u001b[37m\u001b[0m \u001b[1m139s\u001b[0m 26ms/step - accuracy: 0.9608 - loss: 0.1437 - val_accuracy: 0.9109 - val_loss: 0.2820\n"
          ]
        },
        {
          "name": "stderr",
          "output_type": "stream",
          "text": [
            "[I 2024-11-01 00:40:56,397] Trial 10 finished with value: 0.9241803288459778 and parameters: {'embedding_dim': 128, 'filters_1': 5, 'filters_2': 20, 'kernel_size1': 7, 'kernel_size_2': 3, 'kernel_reg_1': 0.001, 'dense_1': 64, 'dense_2': 32, 'dropout_1': 0.6, 'dropout_2': 0.5, 'learning_rate': 0.001, 'batch_size': 16, 'epochs': 20}. Best is trial 9 with value: 0.9347056746482849.\n"
          ]
        },
        {
          "name": "stdout",
          "output_type": "stream",
          "text": [
            "Epoch 1/5\n"
          ]
        },
        {
          "name": "stderr",
          "output_type": "stream",
          "text": [
            "c:\\Users\\spooj\\Downloads\\dsa4266\\fake_news\\lib\\site-packages\\keras\\src\\models\\functional.py:225: UserWarning: The structure of `inputs` doesn't match the expected structure: ['keras_tensor_336', 'keras_tensor_340']. Received: the structure of inputs=('*', '*')\n",
            "  warnings.warn(\n"
          ]
        },
        {
          "name": "stdout",
          "output_type": "stream",
          "text": [
            "\u001b[1m2684/2684\u001b[0m \u001b[32m━━━━━━━━━━━━━━━━━━━━\u001b[0m\u001b[37m\u001b[0m \u001b[1m142s\u001b[0m 52ms/step - accuracy: 0.7651 - loss: 0.4694 - val_accuracy: 0.9337 - val_loss: 0.2559\n",
            "Epoch 2/5\n",
            "\u001b[1m2684/2684\u001b[0m \u001b[32m━━━━━━━━━━━━━━━━━━━━\u001b[0m\u001b[37m\u001b[0m \u001b[1m139s\u001b[0m 52ms/step - accuracy: 0.9432 - loss: 0.2140 - val_accuracy: 0.9310 - val_loss: 0.2384\n",
            "Epoch 3/5\n",
            "\u001b[1m2684/2684\u001b[0m \u001b[32m━━━━━━━━━━━━━━━━━━━━\u001b[0m\u001b[37m\u001b[0m \u001b[1m139s\u001b[0m 52ms/step - accuracy: 0.9498 - loss: 0.1880 - val_accuracy: 0.9249 - val_loss: 0.2508\n",
            "Epoch 4/5\n",
            "\u001b[1m2684/2684\u001b[0m \u001b[32m━━━━━━━━━━━━━━━━━━━━\u001b[0m\u001b[37m\u001b[0m \u001b[1m138s\u001b[0m 52ms/step - accuracy: 0.9558 - loss: 0.1643 - val_accuracy: 0.9162 - val_loss: 0.2747\n"
          ]
        },
        {
          "name": "stderr",
          "output_type": "stream",
          "text": [
            "[I 2024-11-01 00:50:14,764] Trial 11 finished with value: 0.933681070804596 and parameters: {'embedding_dim': 256, 'filters_1': 20, 'filters_2': 5, 'kernel_size1': 7, 'kernel_size_2': 5, 'kernel_reg_1': 0.001, 'dense_1': 64, 'dense_2': 32, 'dropout_1': 0.4, 'dropout_2': 0.4, 'learning_rate': 0.001, 'batch_size': 32, 'epochs': 5}. Best is trial 9 with value: 0.9347056746482849.\n"
          ]
        },
        {
          "name": "stdout",
          "output_type": "stream",
          "text": [
            "Epoch 1/5\n"
          ]
        },
        {
          "name": "stderr",
          "output_type": "stream",
          "text": [
            "c:\\Users\\spooj\\Downloads\\dsa4266\\fake_news\\lib\\site-packages\\keras\\src\\models\\functional.py:225: UserWarning: The structure of `inputs` doesn't match the expected structure: ['keras_tensor_352', 'keras_tensor_356']. Received: the structure of inputs=('*', '*')\n",
            "  warnings.warn(\n"
          ]
        },
        {
          "name": "stdout",
          "output_type": "stream",
          "text": [
            "\u001b[1m2684/2684\u001b[0m \u001b[32m━━━━━━━━━━━━━━━━━━━━\u001b[0m\u001b[37m\u001b[0m \u001b[1m145s\u001b[0m 53ms/step - accuracy: 0.8059 - loss: 0.4329 - val_accuracy: 0.9327 - val_loss: 0.2384\n",
            "Epoch 2/5\n",
            "\u001b[1m2684/2684\u001b[0m \u001b[32m━━━━━━━━━━━━━━━━━━━━\u001b[0m\u001b[37m\u001b[0m \u001b[1m150s\u001b[0m 56ms/step - accuracy: 0.9422 - loss: 0.2141 - val_accuracy: 0.9281 - val_loss: 0.2451\n",
            "Epoch 3/5\n",
            "\u001b[1m2684/2684\u001b[0m \u001b[32m━━━━━━━━━━━━━━━━━━━━\u001b[0m\u001b[37m\u001b[0m \u001b[1m143s\u001b[0m 53ms/step - accuracy: 0.9523 - loss: 0.1802 - val_accuracy: 0.9221 - val_loss: 0.2543\n",
            "Epoch 4/5\n",
            "\u001b[1m2684/2684\u001b[0m \u001b[32m━━━━━━━━━━━━━━━━━━━━\u001b[0m\u001b[37m\u001b[0m \u001b[1m145s\u001b[0m 54ms/step - accuracy: 0.9573 - loss: 0.1569 - val_accuracy: 0.9162 - val_loss: 0.2819\n"
          ]
        },
        {
          "name": "stderr",
          "output_type": "stream",
          "text": [
            "[I 2024-11-01 00:59:58,050] Trial 12 finished with value: 0.9327496290206909 and parameters: {'embedding_dim': 256, 'filters_1': 20, 'filters_2': 20, 'kernel_size1': 7, 'kernel_size_2': 3, 'kernel_reg_1': 0.001, 'dense_1': 64, 'dense_2': 32, 'dropout_1': 0.4, 'dropout_2': 0.4, 'learning_rate': 0.001, 'batch_size': 32, 'epochs': 5}. Best is trial 9 with value: 0.9347056746482849.\n"
          ]
        },
        {
          "name": "stdout",
          "output_type": "stream",
          "text": [
            "Epoch 1/5\n"
          ]
        },
        {
          "name": "stderr",
          "output_type": "stream",
          "text": [
            "c:\\Users\\spooj\\Downloads\\dsa4266\\fake_news\\lib\\site-packages\\keras\\src\\models\\functional.py:225: UserWarning: The structure of `inputs` doesn't match the expected structure: ['keras_tensor_368', 'keras_tensor_372']. Received: the structure of inputs=('*', '*')\n",
            "  warnings.warn(\n"
          ]
        },
        {
          "name": "stdout",
          "output_type": "stream",
          "text": [
            "\u001b[1m5368/5368\u001b[0m \u001b[32m━━━━━━━━━━━━━━━━━━━━\u001b[0m\u001b[37m\u001b[0m \u001b[1m146s\u001b[0m 27ms/step - accuracy: 0.8033 - loss: 0.4230 - val_accuracy: 0.9331 - val_loss: 0.2484\n",
            "Epoch 2/5\n",
            "\u001b[1m5368/5368\u001b[0m \u001b[32m━━━━━━━━━━━━━━━━━━━━\u001b[0m\u001b[37m\u001b[0m \u001b[1m144s\u001b[0m 27ms/step - accuracy: 0.9432 - loss: 0.2103 - val_accuracy: 0.9312 - val_loss: 0.2508\n",
            "Epoch 3/5\n",
            "\u001b[1m5368/5368\u001b[0m \u001b[32m━━━━━━━━━━━━━━━━━━━━\u001b[0m\u001b[37m\u001b[0m \u001b[1m151s\u001b[0m 28ms/step - accuracy: 0.9488 - loss: 0.1884 - val_accuracy: 0.9271 - val_loss: 0.2473\n",
            "Epoch 4/5\n",
            "\u001b[1m5368/5368\u001b[0m \u001b[32m━━━━━━━━━━━━━━━━━━━━\u001b[0m\u001b[37m\u001b[0m \u001b[1m162s\u001b[0m 30ms/step - accuracy: 0.9548 - loss: 0.1657 - val_accuracy: 0.9208 - val_loss: 0.2590\n"
          ]
        },
        {
          "name": "stderr",
          "output_type": "stream",
          "text": [
            "[I 2024-11-01 01:10:02,549] Trial 13 finished with value: 0.9330756068229675 and parameters: {'embedding_dim': 128, 'filters_1': 20, 'filters_2': 5, 'kernel_size1': 7, 'kernel_size_2': 5, 'kernel_reg_1': 0.001, 'dense_1': 64, 'dense_2': 32, 'dropout_1': 0.4, 'dropout_2': 0.4, 'learning_rate': 0.001, 'batch_size': 16, 'epochs': 5}. Best is trial 9 with value: 0.9347056746482849.\n"
          ]
        },
        {
          "name": "stdout",
          "output_type": "stream",
          "text": [
            "Epoch 1/10\n"
          ]
        },
        {
          "name": "stderr",
          "output_type": "stream",
          "text": [
            "c:\\Users\\spooj\\Downloads\\dsa4266\\fake_news\\lib\\site-packages\\keras\\src\\models\\functional.py:225: UserWarning: The structure of `inputs` doesn't match the expected structure: ['keras_tensor_384', 'keras_tensor_388']. Received: the structure of inputs=('*', '*')\n",
            "  warnings.warn(\n"
          ]
        },
        {
          "name": "stdout",
          "output_type": "stream",
          "text": [
            "\u001b[1m5368/5368\u001b[0m \u001b[32m━━━━━━━━━━━━━━━━━━━━\u001b[0m\u001b[37m\u001b[0m \u001b[1m86s\u001b[0m 16ms/step - accuracy: 0.8282 - loss: 0.4028 - val_accuracy: 0.9327 - val_loss: 0.2333\n",
            "Epoch 2/10\n",
            "\u001b[1m5368/5368\u001b[0m \u001b[32m━━━━━━━━━━━━━━━━━━━━\u001b[0m\u001b[37m\u001b[0m \u001b[1m84s\u001b[0m 16ms/step - accuracy: 0.9414 - loss: 0.2139 - val_accuracy: 0.9330 - val_loss: 0.2323\n",
            "Epoch 3/10\n",
            "\u001b[1m5368/5368\u001b[0m \u001b[32m━━━━━━━━━━━━━━━━━━━━\u001b[0m\u001b[37m\u001b[0m \u001b[1m84s\u001b[0m 16ms/step - accuracy: 0.9501 - loss: 0.1841 - val_accuracy: 0.9276 - val_loss: 0.2440\n",
            "Epoch 4/10\n",
            "\u001b[1m5368/5368\u001b[0m \u001b[32m━━━━━━━━━━━━━━━━━━━━\u001b[0m\u001b[37m\u001b[0m \u001b[1m85s\u001b[0m 16ms/step - accuracy: 0.9565 - loss: 0.1625 - val_accuracy: 0.8875 - val_loss: 0.3271\n",
            "Epoch 5/10\n",
            "\u001b[1m5368/5368\u001b[0m \u001b[32m━━━━━━━━━━━━━━━━━━━━\u001b[0m\u001b[37m\u001b[0m \u001b[1m84s\u001b[0m 16ms/step - accuracy: 0.9600 - loss: 0.1465 - val_accuracy: 0.9117 - val_loss: 0.2902\n"
          ]
        },
        {
          "name": "stderr",
          "output_type": "stream",
          "text": [
            "[I 2024-11-01 01:17:06,126] Trial 14 finished with value: 0.9329825043678284 and parameters: {'embedding_dim': 64, 'filters_1': 5, 'filters_2': 20, 'kernel_size1': 5, 'kernel_size_2': 5, 'kernel_reg_1': 0.001, 'dense_1': 64, 'dense_2': 32, 'dropout_1': 0.6, 'dropout_2': 0.4, 'learning_rate': 0.001, 'batch_size': 16, 'epochs': 10}. Best is trial 9 with value: 0.9347056746482849.\n"
          ]
        },
        {
          "name": "stdout",
          "output_type": "stream",
          "text": [
            "Epoch 1/20\n"
          ]
        },
        {
          "name": "stderr",
          "output_type": "stream",
          "text": [
            "c:\\Users\\spooj\\Downloads\\dsa4266\\fake_news\\lib\\site-packages\\keras\\src\\models\\functional.py:225: UserWarning: The structure of `inputs` doesn't match the expected structure: ['keras_tensor_400', 'keras_tensor_404']. Received: the structure of inputs=('*', '*')\n",
            "  warnings.warn(\n"
          ]
        },
        {
          "name": "stdout",
          "output_type": "stream",
          "text": [
            "\u001b[1m2684/2684\u001b[0m \u001b[32m━━━━━━━━━━━━━━━━━━━━\u001b[0m\u001b[37m\u001b[0m \u001b[1m146s\u001b[0m 53ms/step - accuracy: 0.8014 - loss: 0.4366 - val_accuracy: 0.9314 - val_loss: 0.2448\n",
            "Epoch 2/20\n",
            "\u001b[1m2684/2684\u001b[0m \u001b[32m━━━━━━━━━━━━━━━━━━━━\u001b[0m\u001b[37m\u001b[0m \u001b[1m145s\u001b[0m 54ms/step - accuracy: 0.9409 - loss: 0.2193 - val_accuracy: 0.9309 - val_loss: 0.2393\n",
            "Epoch 3/20\n",
            "\u001b[1m2684/2684\u001b[0m \u001b[32m━━━━━━━━━━━━━━━━━━━━\u001b[0m\u001b[37m\u001b[0m \u001b[1m145s\u001b[0m 54ms/step - accuracy: 0.9497 - loss: 0.1872 - val_accuracy: 0.9236 - val_loss: 0.2532\n",
            "Epoch 4/20\n",
            "\u001b[1m2684/2684\u001b[0m \u001b[32m━━━━━━━━━━━━━━━━━━━━\u001b[0m\u001b[37m\u001b[0m \u001b[1m160s\u001b[0m 60ms/step - accuracy: 0.9573 - loss: 0.1612 - val_accuracy: 0.9146 - val_loss: 0.2715\n"
          ]
        },
        {
          "name": "stderr",
          "output_type": "stream",
          "text": [
            "[I 2024-11-01 01:27:01,843] Trial 15 finished with value: 0.9314455986022949 and parameters: {'embedding_dim': 256, 'filters_1': 20, 'filters_2': 5, 'kernel_size1': 7, 'kernel_size_2': 3, 'kernel_reg_1': 0.001, 'dense_1': 64, 'dense_2': 32, 'dropout_1': 0.4, 'dropout_2': 0.4, 'learning_rate': 0.001, 'batch_size': 32, 'epochs': 20}. Best is trial 9 with value: 0.9347056746482849.\n"
          ]
        },
        {
          "name": "stdout",
          "output_type": "stream",
          "text": [
            "Epoch 1/5\n"
          ]
        },
        {
          "name": "stderr",
          "output_type": "stream",
          "text": [
            "c:\\Users\\spooj\\Downloads\\dsa4266\\fake_news\\lib\\site-packages\\keras\\src\\models\\functional.py:225: UserWarning: The structure of `inputs` doesn't match the expected structure: ['keras_tensor_416', 'keras_tensor_420']. Received: the structure of inputs=('*', '*')\n",
            "  warnings.warn(\n"
          ]
        },
        {
          "name": "stdout",
          "output_type": "stream",
          "text": [
            "\u001b[1m2684/2684\u001b[0m \u001b[32m━━━━━━━━━━━━━━━━━━━━\u001b[0m\u001b[37m\u001b[0m \u001b[1m82s\u001b[0m 29ms/step - accuracy: 0.8029 - loss: 0.4377 - val_accuracy: 0.9334 - val_loss: 0.2489\n",
            "Epoch 2/5\n",
            "\u001b[1m2684/2684\u001b[0m \u001b[32m━━━━━━━━━━━━━━━━━━━━\u001b[0m\u001b[37m\u001b[0m \u001b[1m78s\u001b[0m 29ms/step - accuracy: 0.9447 - loss: 0.2071 - val_accuracy: 0.9300 - val_loss: 0.2401\n",
            "Epoch 3/5\n",
            "\u001b[1m2684/2684\u001b[0m \u001b[32m━━━━━━━━━━━━━━━━━━━━\u001b[0m\u001b[37m\u001b[0m \u001b[1m77s\u001b[0m 29ms/step - accuracy: 0.9538 - loss: 0.1726 - val_accuracy: 0.9211 - val_loss: 0.2590\n",
            "Epoch 4/5\n",
            "\u001b[1m2684/2684\u001b[0m \u001b[32m━━━━━━━━━━━━━━━━━━━━\u001b[0m\u001b[37m\u001b[0m \u001b[1m79s\u001b[0m 30ms/step - accuracy: 0.9612 - loss: 0.1439 - val_accuracy: 0.9160 - val_loss: 0.2718\n"
          ]
        },
        {
          "name": "stderr",
          "output_type": "stream",
          "text": [
            "[I 2024-11-01 01:32:18,104] Trial 16 finished with value: 0.9333550930023193 and parameters: {'embedding_dim': 128, 'filters_1': 5, 'filters_2': 20, 'kernel_size1': 7, 'kernel_size_2': 5, 'kernel_reg_1': 0.001, 'dense_1': 64, 'dense_2': 32, 'dropout_1': 0.4, 'dropout_2': 0.4, 'learning_rate': 0.001, 'batch_size': 32, 'epochs': 5}. Best is trial 9 with value: 0.9347056746482849.\n"
          ]
        },
        {
          "name": "stdout",
          "output_type": "stream",
          "text": [
            "Epoch 1/20\n"
          ]
        },
        {
          "name": "stderr",
          "output_type": "stream",
          "text": [
            "c:\\Users\\spooj\\Downloads\\dsa4266\\fake_news\\lib\\site-packages\\keras\\src\\models\\functional.py:225: UserWarning: The structure of `inputs` doesn't match the expected structure: ['keras_tensor_432', 'keras_tensor_436']. Received: the structure of inputs=('*', '*')\n",
            "  warnings.warn(\n"
          ]
        },
        {
          "name": "stdout",
          "output_type": "stream",
          "text": [
            "\u001b[1m5368/5368\u001b[0m \u001b[32m━━━━━━━━━━━━━━━━━━━━\u001b[0m\u001b[37m\u001b[0m \u001b[1m273s\u001b[0m 50ms/step - accuracy: 0.8311 - loss: 0.3949 - val_accuracy: 0.9318 - val_loss: 0.2388\n",
            "Epoch 2/20\n",
            "\u001b[1m5368/5368\u001b[0m \u001b[32m━━━━━━━━━━━━━━━━━━━━\u001b[0m\u001b[37m\u001b[0m \u001b[1m270s\u001b[0m 50ms/step - accuracy: 0.9414 - loss: 0.2169 - val_accuracy: 0.9283 - val_loss: 0.2457\n",
            "Epoch 3/20\n",
            "\u001b[1m5368/5368\u001b[0m \u001b[32m━━━━━━━━━━━━━━━━━━━━\u001b[0m\u001b[37m\u001b[0m \u001b[1m13413s\u001b[0m 2s/step - accuracy: 0.9485 - loss: 0.1888 - val_accuracy: 0.9253 - val_loss: 0.2475\n",
            "Epoch 4/20\n",
            "\u001b[1m5368/5368\u001b[0m \u001b[32m━━━━━━━━━━━━━━━━━━━━\u001b[0m\u001b[37m\u001b[0m \u001b[1m8783s\u001b[0m 2s/step - accuracy: 0.9545 - loss: 0.1668 - val_accuracy: 0.9182 - val_loss: 0.2611\n"
          ]
        },
        {
          "name": "stderr",
          "output_type": "stream",
          "text": [
            "[I 2024-11-01 07:51:18,778] Trial 17 finished with value: 0.9318181872367859 and parameters: {'embedding_dim': 256, 'filters_1': 20, 'filters_2': 20, 'kernel_size1': 7, 'kernel_size_2': 3, 'kernel_reg_1': 0.001, 'dense_1': 64, 'dense_2': 32, 'dropout_1': 0.4, 'dropout_2': 0.4, 'learning_rate': 0.001, 'batch_size': 16, 'epochs': 20}. Best is trial 9 with value: 0.9347056746482849.\n"
          ]
        },
        {
          "name": "stdout",
          "output_type": "stream",
          "text": [
            "Epoch 1/5\n"
          ]
        },
        {
          "name": "stderr",
          "output_type": "stream",
          "text": [
            "c:\\Users\\spooj\\Downloads\\dsa4266\\fake_news\\lib\\site-packages\\keras\\src\\models\\functional.py:225: UserWarning: The structure of `inputs` doesn't match the expected structure: ['keras_tensor_448', 'keras_tensor_452']. Received: the structure of inputs=('*', '*')\n",
            "  warnings.warn(\n"
          ]
        },
        {
          "name": "stdout",
          "output_type": "stream",
          "text": [
            "\u001b[1m5368/5368\u001b[0m \u001b[32m━━━━━━━━━━━━━━━━━━━━\u001b[0m\u001b[37m\u001b[0m \u001b[1m148s\u001b[0m 26ms/step - accuracy: 0.5645 - loss: 0.7024 - val_accuracy: 0.6133 - val_loss: 0.6596\n",
            "Epoch 2/5\n",
            "\u001b[1m5368/5368\u001b[0m \u001b[32m━━━━━━━━━━━━━━━━━━━━\u001b[0m\u001b[37m\u001b[0m \u001b[1m153s\u001b[0m 29ms/step - accuracy: 0.6091 - loss: 0.6587 - val_accuracy: 0.6165 - val_loss: 0.6508\n",
            "Epoch 3/5\n",
            "\u001b[1m5368/5368\u001b[0m \u001b[32m━━━━━━━━━━━━━━━━━━━━\u001b[0m\u001b[37m\u001b[0m \u001b[1m139s\u001b[0m 26ms/step - accuracy: 0.6123 - loss: 0.6560 - val_accuracy: 0.6203 - val_loss: 0.6547\n",
            "Epoch 4/5\n",
            "\u001b[1m5368/5368\u001b[0m \u001b[32m━━━━━━━━━━━━━━━━━━━━\u001b[0m\u001b[37m\u001b[0m \u001b[1m141s\u001b[0m 26ms/step - accuracy: 0.6223 - loss: 0.6501 - val_accuracy: 0.6201 - val_loss: 0.6534\n",
            "Epoch 5/5\n",
            "\u001b[1m5368/5368\u001b[0m \u001b[32m━━━━━━━━━━━━━━━━━━━━\u001b[0m\u001b[37m\u001b[0m \u001b[1m138s\u001b[0m 26ms/step - accuracy: 0.6227 - loss: 0.6479 - val_accuracy: 0.6206 - val_loss: 0.6496\n"
          ]
        },
        {
          "name": "stderr",
          "output_type": "stream",
          "text": [
            "[I 2024-11-01 08:03:17,381] Trial 18 finished with value: 0.6205756068229675 and parameters: {'embedding_dim': 128, 'filters_1': 5, 'filters_2': 5, 'kernel_size1': 5, 'kernel_size_2': 3, 'kernel_reg_1': 0.01, 'dense_1': 128, 'dense_2': 32, 'dropout_1': 0.6, 'dropout_2': 0.5, 'learning_rate': 0.001, 'batch_size': 16, 'epochs': 5}. Best is trial 9 with value: 0.9347056746482849.\n"
          ]
        },
        {
          "name": "stdout",
          "output_type": "stream",
          "text": [
            "Epoch 1/10\n"
          ]
        },
        {
          "name": "stderr",
          "output_type": "stream",
          "text": [
            "c:\\Users\\spooj\\Downloads\\dsa4266\\fake_news\\lib\\site-packages\\keras\\src\\models\\functional.py:225: UserWarning: The structure of `inputs` doesn't match the expected structure: ['keras_tensor_464', 'keras_tensor_468']. Received: the structure of inputs=('*', '*')\n",
            "  warnings.warn(\n"
          ]
        },
        {
          "name": "stdout",
          "output_type": "stream",
          "text": [
            "\u001b[1m2684/2684\u001b[0m \u001b[32m━━━━━━━━━━━━━━━━━━━━\u001b[0m\u001b[37m\u001b[0m \u001b[1m51s\u001b[0m 18ms/step - accuracy: 0.5347 - loss: 0.7196 - val_accuracy: 0.5970 - val_loss: 0.6757\n",
            "Epoch 2/10\n",
            "\u001b[1m2684/2684\u001b[0m \u001b[32m━━━━━━━━━━━━━━━━━━━━\u001b[0m\u001b[37m\u001b[0m \u001b[1m45s\u001b[0m 17ms/step - accuracy: 0.7331 - loss: 0.5236 - val_accuracy: 0.9204 - val_loss: 0.2721\n",
            "Epoch 3/10\n",
            "\u001b[1m2684/2684\u001b[0m \u001b[32m━━━━━━━━━━━━━━━━━━━━\u001b[0m\u001b[37m\u001b[0m \u001b[1m5589s\u001b[0m 2s/step - accuracy: 0.9278 - loss: 0.2633 - val_accuracy: 0.9270 - val_loss: 0.2556\n",
            "Epoch 4/10\n",
            "\u001b[1m2684/2684\u001b[0m \u001b[32m━━━━━━━━━━━━━━━━━━━━\u001b[0m\u001b[37m\u001b[0m \u001b[1m64s\u001b[0m 23ms/step - accuracy: 0.9402 - loss: 0.2319 - val_accuracy: 0.9278 - val_loss: 0.2503\n",
            "Epoch 5/10\n",
            "\u001b[1m2684/2684\u001b[0m \u001b[32m━━━━━━━━━━━━━━━━━━━━\u001b[0m\u001b[37m\u001b[0m \u001b[1m69s\u001b[0m 19ms/step - accuracy: 0.9457 - loss: 0.2153 - val_accuracy: 0.9290 - val_loss: 0.2505\n",
            "Epoch 6/10\n",
            "\u001b[1m2684/2684\u001b[0m \u001b[32m━━━━━━━━━━━━━━━━━━━━\u001b[0m\u001b[37m\u001b[0m \u001b[1m47s\u001b[0m 17ms/step - accuracy: 0.9504 - loss: 0.1982 - val_accuracy: 0.9225 - val_loss: 0.2582\n",
            "Epoch 7/10\n",
            "\u001b[1m2684/2684\u001b[0m \u001b[32m━━━━━━━━━━━━━━━━━━━━\u001b[0m\u001b[37m\u001b[0m \u001b[1m48s\u001b[0m 18ms/step - accuracy: 0.9538 - loss: 0.1848 - val_accuracy: 0.9226 - val_loss: 0.2659\n",
            "Epoch 8/10\n",
            "\u001b[1m2684/2684\u001b[0m \u001b[32m━━━━━━━━━━━━━━━━━━━━\u001b[0m\u001b[37m\u001b[0m \u001b[1m52s\u001b[0m 19ms/step - accuracy: 0.9572 - loss: 0.1742 - val_accuracy: 0.9170 - val_loss: 0.2716\n"
          ]
        },
        {
          "name": "stderr",
          "output_type": "stream",
          "text": [
            "[I 2024-11-01 09:42:40,941] Trial 19 finished with value: 0.9289772510528564 and parameters: {'embedding_dim': 64, 'filters_1': 10, 'filters_2': 10, 'kernel_size1': 7, 'kernel_size_2': 5, 'kernel_reg_1': 0.001, 'dense_1': 64, 'dense_2': 32, 'dropout_1': 0.4, 'dropout_2': 0.4, 'learning_rate': 0.0001, 'batch_size': 32, 'epochs': 10}. Best is trial 9 with value: 0.9347056746482849.\n"
          ]
        },
        {
          "name": "stdout",
          "output_type": "stream",
          "text": [
            "Epoch 1/20\n"
          ]
        },
        {
          "name": "stderr",
          "output_type": "stream",
          "text": [
            "c:\\Users\\spooj\\Downloads\\dsa4266\\fake_news\\lib\\site-packages\\keras\\src\\models\\functional.py:225: UserWarning: The structure of `inputs` doesn't match the expected structure: ['keras_tensor_480', 'keras_tensor_484']. Received: the structure of inputs=('*', '*')\n",
            "  warnings.warn(\n"
          ]
        },
        {
          "name": "stdout",
          "output_type": "stream",
          "text": [
            "\u001b[1m5368/5368\u001b[0m \u001b[32m━━━━━━━━━━━━━━━━━━━━\u001b[0m\u001b[37m\u001b[0m \u001b[1m285s\u001b[0m 53ms/step - accuracy: 0.8461 - loss: 0.3819 - val_accuracy: 0.9349 - val_loss: 0.2296\n",
            "Epoch 2/20\n",
            "\u001b[1m5368/5368\u001b[0m \u001b[32m━━━━━━━━━━━━━━━━━━━━\u001b[0m\u001b[37m\u001b[0m \u001b[1m266s\u001b[0m 50ms/step - accuracy: 0.9439 - loss: 0.2084 - val_accuracy: 0.9314 - val_loss: 0.2358\n",
            "Epoch 3/20\n",
            "\u001b[1m5368/5368\u001b[0m \u001b[32m━━━━━━━━━━━━━━━━━━━━\u001b[0m\u001b[37m\u001b[0m \u001b[1m292s\u001b[0m 54ms/step - accuracy: 0.9505 - loss: 0.1845 - val_accuracy: 0.9172 - val_loss: 0.2731\n",
            "Epoch 4/20\n",
            "\u001b[1m5368/5368\u001b[0m \u001b[32m━━━━━━━━━━━━━━━━━━━━\u001b[0m\u001b[37m\u001b[0m \u001b[1m396s\u001b[0m 74ms/step - accuracy: 0.9571 - loss: 0.1596 - val_accuracy: 0.9181 - val_loss: 0.2731\n"
          ]
        },
        {
          "name": "stderr",
          "output_type": "stream",
          "text": [
            "[I 2024-11-01 10:03:21,123] Trial 20 finished with value: 0.934891939163208 and parameters: {'embedding_dim': 256, 'filters_1': 20, 'filters_2': 20, 'kernel_size1': 7, 'kernel_size_2': 5, 'kernel_reg_1': 0.001, 'dense_1': 128, 'dense_2': 32, 'dropout_1': 0.4, 'dropout_2': 0.4, 'learning_rate': 0.001, 'batch_size': 16, 'epochs': 20}. Best is trial 20 with value: 0.934891939163208.\n"
          ]
        },
        {
          "name": "stdout",
          "output_type": "stream",
          "text": [
            "Epoch 1/20\n"
          ]
        },
        {
          "name": "stderr",
          "output_type": "stream",
          "text": [
            "c:\\Users\\spooj\\Downloads\\dsa4266\\fake_news\\lib\\site-packages\\keras\\src\\models\\functional.py:225: UserWarning: The structure of `inputs` doesn't match the expected structure: ['keras_tensor_496', 'keras_tensor_500']. Received: the structure of inputs=('*', '*')\n",
            "  warnings.warn(\n"
          ]
        },
        {
          "name": "stdout",
          "output_type": "stream",
          "text": [
            "\u001b[1m5368/5368\u001b[0m \u001b[32m━━━━━━━━━━━━━━━━━━━━\u001b[0m\u001b[37m\u001b[0m \u001b[1m962s\u001b[0m 178ms/step - accuracy: 0.8474 - loss: 0.3799 - val_accuracy: 0.9333 - val_loss: 0.2385\n",
            "Epoch 2/20\n",
            "\u001b[1m5368/5368\u001b[0m \u001b[32m━━━━━━━━━━━━━━━━━━━━\u001b[0m\u001b[37m\u001b[0m \u001b[1m247s\u001b[0m 46ms/step - accuracy: 0.9423 - loss: 0.2118 - val_accuracy: 0.9316 - val_loss: 0.2357\n",
            "Epoch 3/20\n",
            "\u001b[1m5368/5368\u001b[0m \u001b[32m━━━━━━━━━━━━━━━━━━━━\u001b[0m\u001b[37m\u001b[0m \u001b[1m266s\u001b[0m 50ms/step - accuracy: 0.9504 - loss: 0.1831 - val_accuracy: 0.9239 - val_loss: 0.2587\n",
            "Epoch 4/20\n",
            "\u001b[1m5368/5368\u001b[0m \u001b[32m━━━━━━━━━━━━━━━━━━━━\u001b[0m\u001b[37m\u001b[0m \u001b[1m345s\u001b[0m 64ms/step - accuracy: 0.9565 - loss: 0.1616 - val_accuracy: 0.9211 - val_loss: 0.2723\n"
          ]
        },
        {
          "name": "stderr",
          "output_type": "stream",
          "text": [
            "[I 2024-11-01 10:33:41,322] Trial 21 finished with value: 0.9332619309425354 and parameters: {'embedding_dim': 256, 'filters_1': 20, 'filters_2': 20, 'kernel_size1': 7, 'kernel_size_2': 5, 'kernel_reg_1': 0.001, 'dense_1': 128, 'dense_2': 32, 'dropout_1': 0.4, 'dropout_2': 0.4, 'learning_rate': 0.001, 'batch_size': 16, 'epochs': 20}. Best is trial 20 with value: 0.934891939163208.\n"
          ]
        },
        {
          "name": "stdout",
          "output_type": "stream",
          "text": [
            "Epoch 1/20\n"
          ]
        },
        {
          "name": "stderr",
          "output_type": "stream",
          "text": [
            "c:\\Users\\spooj\\Downloads\\dsa4266\\fake_news\\lib\\site-packages\\keras\\src\\models\\functional.py:225: UserWarning: The structure of `inputs` doesn't match the expected structure: ['keras_tensor_512', 'keras_tensor_516']. Received: the structure of inputs=('*', '*')\n",
            "  warnings.warn(\n"
          ]
        },
        {
          "name": "stdout",
          "output_type": "stream",
          "text": [
            "\u001b[1m5368/5368\u001b[0m \u001b[32m━━━━━━━━━━━━━━━━━━━━\u001b[0m\u001b[37m\u001b[0m \u001b[1m422s\u001b[0m 77ms/step - accuracy: 0.8401 - loss: 0.3815 - val_accuracy: 0.9308 - val_loss: 0.2374\n",
            "Epoch 2/20\n",
            "\u001b[1m5368/5368\u001b[0m \u001b[32m━━━━━━━━━━━━━━━━━━━━\u001b[0m\u001b[37m\u001b[0m \u001b[1m370s\u001b[0m 63ms/step - accuracy: 0.9422 - loss: 0.2142 - val_accuracy: 0.9321 - val_loss: 0.2341\n",
            "Epoch 3/20\n",
            "\u001b[1m5368/5368\u001b[0m \u001b[32m━━━━━━━━━━━━━━━━━━━━\u001b[0m\u001b[37m\u001b[0m \u001b[1m326s\u001b[0m 61ms/step - accuracy: 0.9502 - loss: 0.1851 - val_accuracy: 0.9248 - val_loss: 0.2560\n",
            "Epoch 4/20\n",
            "\u001b[1m5368/5368\u001b[0m \u001b[32m━━━━━━━━━━━━━━━━━━━━\u001b[0m\u001b[37m\u001b[0m \u001b[1m338s\u001b[0m 63ms/step - accuracy: 0.9555 - loss: 0.1629 - val_accuracy: 0.9175 - val_loss: 0.2730\n",
            "Epoch 5/20\n",
            "\u001b[1m5368/5368\u001b[0m \u001b[32m━━━━━━━━━━━━━━━━━━━━\u001b[0m\u001b[37m\u001b[0m \u001b[1m381s\u001b[0m 71ms/step - accuracy: 0.9608 - loss: 0.1428 - val_accuracy: 0.9112 - val_loss: 0.2962\n"
          ]
        },
        {
          "name": "stderr",
          "output_type": "stream",
          "text": [
            "[I 2024-11-01 11:04:19,593] Trial 22 finished with value: 0.9321441650390625 and parameters: {'embedding_dim': 256, 'filters_1': 20, 'filters_2': 20, 'kernel_size1': 7, 'kernel_size_2': 5, 'kernel_reg_1': 0.001, 'dense_1': 128, 'dense_2': 32, 'dropout_1': 0.4, 'dropout_2': 0.4, 'learning_rate': 0.001, 'batch_size': 16, 'epochs': 20}. Best is trial 20 with value: 0.934891939163208.\n"
          ]
        },
        {
          "name": "stdout",
          "output_type": "stream",
          "text": [
            "Epoch 1/20\n"
          ]
        },
        {
          "name": "stderr",
          "output_type": "stream",
          "text": [
            "c:\\Users\\spooj\\Downloads\\dsa4266\\fake_news\\lib\\site-packages\\keras\\src\\models\\functional.py:225: UserWarning: The structure of `inputs` doesn't match the expected structure: ['keras_tensor_528', 'keras_tensor_532']. Received: the structure of inputs=('*', '*')\n",
            "  warnings.warn(\n"
          ]
        },
        {
          "name": "stdout",
          "output_type": "stream",
          "text": [
            "\u001b[1m5368/5368\u001b[0m \u001b[32m━━━━━━━━━━━━━━━━━━━━\u001b[0m\u001b[37m\u001b[0m \u001b[1m299s\u001b[0m 54ms/step - accuracy: 0.8520 - loss: 0.3746 - val_accuracy: 0.9309 - val_loss: 0.2409\n",
            "Epoch 2/20\n",
            "\u001b[1m5368/5368\u001b[0m \u001b[32m━━━━━━━━━━━━━━━━━━━━\u001b[0m\u001b[37m\u001b[0m \u001b[1m274s\u001b[0m 51ms/step - accuracy: 0.9417 - loss: 0.2120 - val_accuracy: 0.9318 - val_loss: 0.2361\n",
            "Epoch 3/20\n",
            "\u001b[1m5368/5368\u001b[0m \u001b[32m━━━━━━━━━━━━━━━━━━━━\u001b[0m\u001b[37m\u001b[0m \u001b[1m319s\u001b[0m 59ms/step - accuracy: 0.9507 - loss: 0.1840 - val_accuracy: 0.9248 - val_loss: 0.2540\n",
            "Epoch 4/20\n",
            "\u001b[1m5368/5368\u001b[0m \u001b[32m━━━━━━━━━━━━━━━━━━━━\u001b[0m\u001b[37m\u001b[0m \u001b[1m289s\u001b[0m 54ms/step - accuracy: 0.9554 - loss: 0.1625 - val_accuracy: 0.9179 - val_loss: 0.2732\n",
            "Epoch 5/20\n",
            "\u001b[1m5368/5368\u001b[0m \u001b[32m━━━━━━━━━━━━━━━━━━━━\u001b[0m\u001b[37m\u001b[0m \u001b[1m317s\u001b[0m 59ms/step - accuracy: 0.9622 - loss: 0.1381 - val_accuracy: 0.8908 - val_loss: 0.3645\n"
          ]
        },
        {
          "name": "stderr",
          "output_type": "stream",
          "text": [
            "[I 2024-11-01 11:29:17,978] Trial 23 finished with value: 0.9317716360092163 and parameters: {'embedding_dim': 256, 'filters_1': 20, 'filters_2': 20, 'kernel_size1': 7, 'kernel_size_2': 5, 'kernel_reg_1': 0.001, 'dense_1': 128, 'dense_2': 32, 'dropout_1': 0.4, 'dropout_2': 0.4, 'learning_rate': 0.001, 'batch_size': 16, 'epochs': 20}. Best is trial 20 with value: 0.934891939163208.\n"
          ]
        },
        {
          "name": "stdout",
          "output_type": "stream",
          "text": [
            "Epoch 1/20\n"
          ]
        },
        {
          "name": "stderr",
          "output_type": "stream",
          "text": [
            "c:\\Users\\spooj\\Downloads\\dsa4266\\fake_news\\lib\\site-packages\\keras\\src\\models\\functional.py:225: UserWarning: The structure of `inputs` doesn't match the expected structure: ['keras_tensor_544', 'keras_tensor_548']. Received: the structure of inputs=('*', '*')\n",
            "  warnings.warn(\n"
          ]
        },
        {
          "name": "stdout",
          "output_type": "stream",
          "text": [
            "\u001b[1m5368/5368\u001b[0m \u001b[32m━━━━━━━━━━━━━━━━━━━━\u001b[0m\u001b[37m\u001b[0m \u001b[1m331s\u001b[0m 60ms/step - accuracy: 0.8401 - loss: 0.3857 - val_accuracy: 0.9305 - val_loss: 0.2399\n",
            "Epoch 2/20\n",
            "\u001b[1m5368/5368\u001b[0m \u001b[32m━━━━━━━━━━━━━━━━━━━━\u001b[0m\u001b[37m\u001b[0m \u001b[1m302s\u001b[0m 56ms/step - accuracy: 0.9420 - loss: 0.2176 - val_accuracy: 0.9277 - val_loss: 0.2461\n",
            "Epoch 3/20\n",
            "\u001b[1m5368/5368\u001b[0m \u001b[32m━━━━━━━━━━━━━━━━━━━━\u001b[0m\u001b[37m\u001b[0m \u001b[1m332s\u001b[0m 62ms/step - accuracy: 0.9492 - loss: 0.1886 - val_accuracy: 0.9290 - val_loss: 0.2476\n",
            "Epoch 4/20\n",
            "\u001b[1m5368/5368\u001b[0m \u001b[32m━━━━━━━━━━━━━━━━━━━━\u001b[0m\u001b[37m\u001b[0m \u001b[1m343s\u001b[0m 64ms/step - accuracy: 0.9564 - loss: 0.1635 - val_accuracy: 0.9177 - val_loss: 0.2787\n"
          ]
        },
        {
          "name": "stderr",
          "output_type": "stream",
          "text": [
            "[I 2024-11-01 11:51:05,577] Trial 24 finished with value: 0.9304676055908203 and parameters: {'embedding_dim': 256, 'filters_1': 20, 'filters_2': 20, 'kernel_size1': 7, 'kernel_size_2': 5, 'kernel_reg_1': 0.001, 'dense_1': 128, 'dense_2': 32, 'dropout_1': 0.4, 'dropout_2': 0.4, 'learning_rate': 0.001, 'batch_size': 16, 'epochs': 20}. Best is trial 20 with value: 0.934891939163208.\n"
          ]
        },
        {
          "name": "stdout",
          "output_type": "stream",
          "text": [
            "Epoch 1/5\n"
          ]
        },
        {
          "name": "stderr",
          "output_type": "stream",
          "text": [
            "c:\\Users\\spooj\\Downloads\\dsa4266\\fake_news\\lib\\site-packages\\keras\\src\\models\\functional.py:225: UserWarning: The structure of `inputs` doesn't match the expected structure: ['keras_tensor_560', 'keras_tensor_564']. Received: the structure of inputs=('*', '*')\n",
            "  warnings.warn(\n"
          ]
        },
        {
          "name": "stdout",
          "output_type": "stream",
          "text": [
            "\u001b[1m2684/2684\u001b[0m \u001b[32m━━━━━━━━━━━━━━━━━━━━\u001b[0m\u001b[37m\u001b[0m \u001b[1m99s\u001b[0m 35ms/step - accuracy: 0.7647 - loss: 0.4676 - val_accuracy: 0.9280 - val_loss: 0.2522\n",
            "Epoch 2/5\n",
            "\u001b[1m2684/2684\u001b[0m \u001b[32m━━━━━━━━━━━━━━━━━━━━\u001b[0m\u001b[37m\u001b[0m \u001b[1m93s\u001b[0m 35ms/step - accuracy: 0.9390 - loss: 0.2183 - val_accuracy: 0.9298 - val_loss: 0.2419\n",
            "Epoch 3/5\n",
            "\u001b[1m2684/2684\u001b[0m \u001b[32m━━━━━━━━━━━━━━━━━━━━\u001b[0m\u001b[37m\u001b[0m \u001b[1m2985s\u001b[0m 1s/step - accuracy: 0.9507 - loss: 0.1838 - val_accuracy: 0.9222 - val_loss: 0.2575\n",
            "Epoch 4/5\n",
            "\u001b[1m2684/2684\u001b[0m \u001b[32m━━━━━━━━━━━━━━━━━━━━\u001b[0m\u001b[37m\u001b[0m \u001b[1m1342s\u001b[0m 500ms/step - accuracy: 0.9586 - loss: 0.1554 - val_accuracy: 0.9153 - val_loss: 0.2768\n",
            "Epoch 5/5\n",
            "\u001b[1m2684/2684\u001b[0m \u001b[32m━━━━━━━━━━━━━━━━━━━━\u001b[0m\u001b[37m\u001b[0m \u001b[1m83s\u001b[0m 31ms/step - accuracy: 0.9657 - loss: 0.1301 - val_accuracy: 0.9077 - val_loss: 0.3092\n"
          ]
        },
        {
          "name": "stderr",
          "output_type": "stream",
          "text": [
            "[I 2024-11-01 13:07:48,770] Trial 25 finished with value: 0.929768979549408 and parameters: {'embedding_dim': 128, 'filters_1': 5, 'filters_2': 5, 'kernel_size1': 5, 'kernel_size_2': 3, 'kernel_reg_1': 0.001, 'dense_1': 128, 'dense_2': 32, 'dropout_1': 0.4, 'dropout_2': 0.4, 'learning_rate': 0.001, 'batch_size': 32, 'epochs': 5}. Best is trial 20 with value: 0.934891939163208.\n"
          ]
        },
        {
          "name": "stdout",
          "output_type": "stream",
          "text": [
            "Epoch 1/20\n"
          ]
        },
        {
          "name": "stderr",
          "output_type": "stream",
          "text": [
            "c:\\Users\\spooj\\Downloads\\dsa4266\\fake_news\\lib\\site-packages\\keras\\src\\models\\functional.py:225: UserWarning: The structure of `inputs` doesn't match the expected structure: ['keras_tensor_576', 'keras_tensor_580']. Received: the structure of inputs=('*', '*')\n",
            "  warnings.warn(\n"
          ]
        },
        {
          "name": "stdout",
          "output_type": "stream",
          "text": [
            "\u001b[1m5368/5368\u001b[0m \u001b[32m━━━━━━━━━━━━━━━━━━━━\u001b[0m\u001b[37m\u001b[0m \u001b[1m306s\u001b[0m 56ms/step - accuracy: 0.5735 - loss: 0.7180 - val_accuracy: 0.6115 - val_loss: 0.6605\n",
            "Epoch 2/20\n",
            "\u001b[1m5368/5368\u001b[0m \u001b[32m━━━━━━━━━━━━━━━━━━━━\u001b[0m\u001b[37m\u001b[0m \u001b[1m332s\u001b[0m 62ms/step - accuracy: 0.6064 - loss: 0.6602 - val_accuracy: 0.6155 - val_loss: 0.6650\n",
            "Epoch 3/20\n",
            "\u001b[1m5368/5368\u001b[0m \u001b[32m━━━━━━━━━━━━━━━━━━━━\u001b[0m\u001b[37m\u001b[0m \u001b[1m305s\u001b[0m 57ms/step - accuracy: 0.6118 - loss: 0.6562 - val_accuracy: 0.6151 - val_loss: 0.6616\n",
            "Epoch 4/20\n",
            "\u001b[1m5368/5368\u001b[0m \u001b[32m━━━━━━━━━━━━━━━━━━━━\u001b[0m\u001b[37m\u001b[0m \u001b[1m308s\u001b[0m 57ms/step - accuracy: 0.6126 - loss: 0.6542 - val_accuracy: 0.6167 - val_loss: 0.6580\n",
            "Epoch 5/20\n",
            "\u001b[1m5368/5368\u001b[0m \u001b[32m━━━━━━━━━━━━━━━━━━━━\u001b[0m\u001b[37m\u001b[0m \u001b[1m301s\u001b[0m 56ms/step - accuracy: 0.6173 - loss: 0.6531 - val_accuracy: 0.6182 - val_loss: 0.6578\n",
            "Epoch 6/20\n",
            "\u001b[1m5368/5368\u001b[0m \u001b[32m━━━━━━━━━━━━━━━━━━━━\u001b[0m\u001b[37m\u001b[0m \u001b[1m307s\u001b[0m 57ms/step - accuracy: 0.6194 - loss: 0.6500 - val_accuracy: 0.6192 - val_loss: 0.6639\n",
            "Epoch 7/20\n",
            "\u001b[1m5368/5368\u001b[0m \u001b[32m━━━━━━━━━━━━━━━━━━━━\u001b[0m\u001b[37m\u001b[0m \u001b[1m379s\u001b[0m 71ms/step - accuracy: 0.6205 - loss: 0.6502 - val_accuracy: 0.6183 - val_loss: 0.6626\n",
            "Epoch 8/20\n",
            "\u001b[1m5368/5368\u001b[0m \u001b[32m━━━━━━━━━━━━━━━━━━━━\u001b[0m\u001b[37m\u001b[0m \u001b[1m346s\u001b[0m 64ms/step - accuracy: 0.6235 - loss: 0.6474 - val_accuracy: 0.6172 - val_loss: 0.6608\n",
            "Epoch 9/20\n",
            "\u001b[1m5368/5368\u001b[0m \u001b[32m━━━━━━━━━━━━━━━━━━━━\u001b[0m\u001b[37m\u001b[0m \u001b[1m327s\u001b[0m 61ms/step - accuracy: 0.6225 - loss: 0.6482 - val_accuracy: 0.6185 - val_loss: 0.6574\n"
          ]
        },
        {
          "name": "stderr",
          "output_type": "stream",
          "text": [
            "[I 2024-11-01 13:56:20,222] Trial 26 finished with value: 0.619225025177002 and parameters: {'embedding_dim': 256, 'filters_1': 20, 'filters_2': 20, 'kernel_size1': 7, 'kernel_size_2': 5, 'kernel_reg_1': 0.01, 'dense_1': 64, 'dense_2': 64, 'dropout_1': 0.6, 'dropout_2': 0.5, 'learning_rate': 0.001, 'batch_size': 16, 'epochs': 20}. Best is trial 20 with value: 0.934891939163208.\n"
          ]
        },
        {
          "name": "stdout",
          "output_type": "stream",
          "text": [
            "Epoch 1/20\n"
          ]
        },
        {
          "name": "stderr",
          "output_type": "stream",
          "text": [
            "c:\\Users\\spooj\\Downloads\\dsa4266\\fake_news\\lib\\site-packages\\keras\\src\\models\\functional.py:225: UserWarning: The structure of `inputs` doesn't match the expected structure: ['keras_tensor_592', 'keras_tensor_596']. Received: the structure of inputs=('*', '*')\n",
            "  warnings.warn(\n"
          ]
        },
        {
          "name": "stdout",
          "output_type": "stream",
          "text": [
            "\u001b[1m5368/5368\u001b[0m \u001b[32m━━━━━━━━━━━━━━━━━━━━\u001b[0m\u001b[37m\u001b[0m \u001b[1m335s\u001b[0m 62ms/step - accuracy: 0.8566 - loss: 0.3701 - val_accuracy: 0.9340 - val_loss: 0.2307\n",
            "Epoch 2/20\n",
            "\u001b[1m5368/5368\u001b[0m \u001b[32m━━━━━━━━━━━━━━━━━━━━\u001b[0m\u001b[37m\u001b[0m \u001b[1m335s\u001b[0m 62ms/step - accuracy: 0.9413 - loss: 0.2128 - val_accuracy: 0.9326 - val_loss: 0.2361\n",
            "Epoch 3/20\n",
            "\u001b[1m5368/5368\u001b[0m \u001b[32m━━━━━━━━━━━━━━━━━━━━\u001b[0m\u001b[37m\u001b[0m \u001b[1m331s\u001b[0m 62ms/step - accuracy: 0.9512 - loss: 0.1812 - val_accuracy: 0.9219 - val_loss: 0.2612\n",
            "Epoch 4/20\n",
            "\u001b[1m5368/5368\u001b[0m \u001b[32m━━━━━━━━━━━━━━━━━━━━\u001b[0m\u001b[37m\u001b[0m \u001b[1m335s\u001b[0m 62ms/step - accuracy: 0.9567 - loss: 0.1600 - val_accuracy: 0.9165 - val_loss: 0.3019\n"
          ]
        },
        {
          "name": "stderr",
          "output_type": "stream",
          "text": [
            "[I 2024-11-01 14:18:36,055] Trial 27 finished with value: 0.9340071082115173 and parameters: {'embedding_dim': 256, 'filters_1': 20, 'filters_2': 20, 'kernel_size1': 7, 'kernel_size_2': 5, 'kernel_reg_1': 0.001, 'dense_1': 128, 'dense_2': 32, 'dropout_1': 0.4, 'dropout_2': 0.4, 'learning_rate': 0.001, 'batch_size': 16, 'epochs': 20}. Best is trial 20 with value: 0.934891939163208.\n"
          ]
        },
        {
          "name": "stdout",
          "output_type": "stream",
          "text": [
            "Epoch 1/20\n"
          ]
        },
        {
          "name": "stderr",
          "output_type": "stream",
          "text": [
            "c:\\Users\\spooj\\Downloads\\dsa4266\\fake_news\\lib\\site-packages\\keras\\src\\models\\functional.py:225: UserWarning: The structure of `inputs` doesn't match the expected structure: ['keras_tensor_608', 'keras_tensor_612']. Received: the structure of inputs=('*', '*')\n",
            "  warnings.warn(\n"
          ]
        },
        {
          "name": "stdout",
          "output_type": "stream",
          "text": [
            "\u001b[1m5368/5368\u001b[0m \u001b[32m━━━━━━━━━━━━━━━━━━━━\u001b[0m\u001b[37m\u001b[0m \u001b[1m142s\u001b[0m 24ms/step - accuracy: 0.6835 - loss: 0.5712 - val_accuracy: 0.9247 - val_loss: 0.2624\n",
            "Epoch 2/20\n",
            "\u001b[1m5368/5368\u001b[0m \u001b[32m━━━━━━━━━━━━━━━━━━━━\u001b[0m\u001b[37m\u001b[0m \u001b[1m130s\u001b[0m 24ms/step - accuracy: 0.9351 - loss: 0.2446 - val_accuracy: 0.9290 - val_loss: 0.2460\n",
            "Epoch 3/20\n",
            "\u001b[1m5368/5368\u001b[0m \u001b[32m━━━━━━━━━━━━━━━━━━━━\u001b[0m\u001b[37m\u001b[0m \u001b[1m130s\u001b[0m 24ms/step - accuracy: 0.9453 - loss: 0.2091 - val_accuracy: 0.9268 - val_loss: 0.2480\n",
            "Epoch 4/20\n",
            "\u001b[1m5368/5368\u001b[0m \u001b[32m━━━━━━━━━━━━━━━━━━━━\u001b[0m\u001b[37m\u001b[0m \u001b[1m122s\u001b[0m 23ms/step - accuracy: 0.9505 - loss: 0.1922 - val_accuracy: 0.9241 - val_loss: 0.2528\n",
            "Epoch 5/20\n",
            "\u001b[1m5368/5368\u001b[0m \u001b[32m━━━━━━━━━━━━━━━━━━━━\u001b[0m\u001b[37m\u001b[0m \u001b[1m126s\u001b[0m 23ms/step - accuracy: 0.9547 - loss: 0.1746 - val_accuracy: 0.9217 - val_loss: 0.2640\n"
          ]
        },
        {
          "name": "stderr",
          "output_type": "stream",
          "text": [
            "[I 2024-11-01 14:29:26,446] Trial 28 finished with value: 0.9290238618850708 and parameters: {'embedding_dim': 64, 'filters_1': 10, 'filters_2': 20, 'kernel_size1': 7, 'kernel_size_2': 7, 'kernel_reg_1': 0.001, 'dense_1': 128, 'dense_2': 32, 'dropout_1': 0.4, 'dropout_2': 0.4, 'learning_rate': 0.00015, 'batch_size': 16, 'epochs': 20}. Best is trial 20 with value: 0.934891939163208.\n"
          ]
        },
        {
          "name": "stdout",
          "output_type": "stream",
          "text": [
            "Epoch 1/20\n"
          ]
        },
        {
          "name": "stderr",
          "output_type": "stream",
          "text": [
            "c:\\Users\\spooj\\Downloads\\dsa4266\\fake_news\\lib\\site-packages\\keras\\src\\models\\functional.py:225: UserWarning: The structure of `inputs` doesn't match the expected structure: ['keras_tensor_624', 'keras_tensor_628']. Received: the structure of inputs=('*', '*')\n",
            "  warnings.warn(\n"
          ]
        },
        {
          "name": "stdout",
          "output_type": "stream",
          "text": [
            "\u001b[1m5368/5368\u001b[0m \u001b[32m━━━━━━━━━━━━━━━━━━━━\u001b[0m\u001b[37m\u001b[0m \u001b[1m186s\u001b[0m 34ms/step - accuracy: 0.6223 - loss: 0.7799 - val_accuracy: 0.9198 - val_loss: 0.3183\n",
            "Epoch 2/20\n",
            "\u001b[1m5368/5368\u001b[0m \u001b[32m━━━━━━━━━━━━━━━━━━━━\u001b[0m\u001b[37m\u001b[0m \u001b[1m176s\u001b[0m 33ms/step - accuracy: 0.9242 - loss: 0.3049 - val_accuracy: 0.9291 - val_loss: 0.2723\n",
            "Epoch 3/20\n",
            "\u001b[1m5368/5368\u001b[0m \u001b[32m━━━━━━━━━━━━━━━━━━━━\u001b[0m\u001b[37m\u001b[0m \u001b[1m220s\u001b[0m 41ms/step - accuracy: 0.9385 - loss: 0.2493 - val_accuracy: 0.9293 - val_loss: 0.2611\n",
            "Epoch 4/20\n",
            "\u001b[1m5368/5368\u001b[0m \u001b[32m━━━━━━━━━━━━━━━━━━━━\u001b[0m\u001b[37m\u001b[0m \u001b[1m200s\u001b[0m 37ms/step - accuracy: 0.9462 - loss: 0.2190 - val_accuracy: 0.9261 - val_loss: 0.2606\n",
            "Epoch 5/20\n",
            "\u001b[1m5368/5368\u001b[0m \u001b[32m━━━━━━━━━━━━━━━━━━━━\u001b[0m\u001b[37m\u001b[0m \u001b[1m228s\u001b[0m 42ms/step - accuracy: 0.9500 - loss: 0.2015 - val_accuracy: 0.9246 - val_loss: 0.2641\n",
            "Epoch 6/20\n",
            "\u001b[1m5368/5368\u001b[0m \u001b[32m━━━━━━━━━━━━━━━━━━━━\u001b[0m\u001b[37m\u001b[0m \u001b[1m182s\u001b[0m 34ms/step - accuracy: 0.9540 - loss: 0.1856 - val_accuracy: 0.9234 - val_loss: 0.2629\n"
          ]
        },
        {
          "name": "stderr",
          "output_type": "stream",
          "text": [
            "[I 2024-11-01 14:49:20,255] Trial 29 finished with value: 0.9293498396873474 and parameters: {'embedding_dim': 128, 'filters_1': 5, 'filters_2': 10, 'kernel_size1': 5, 'kernel_size_2': 3, 'kernel_reg_1': 0.01, 'dense_1': 128, 'dense_2': 32, 'dropout_1': 0.4, 'dropout_2': 0.4, 'learning_rate': 0.0001, 'batch_size': 16, 'epochs': 20}. Best is trial 20 with value: 0.934891939163208.\n"
          ]
        },
        {
          "name": "stdout",
          "output_type": "stream",
          "text": [
            "Epoch 1/20\n"
          ]
        },
        {
          "name": "stderr",
          "output_type": "stream",
          "text": [
            "c:\\Users\\spooj\\Downloads\\dsa4266\\fake_news\\lib\\site-packages\\keras\\src\\models\\functional.py:225: UserWarning: The structure of `inputs` doesn't match the expected structure: ['keras_tensor_640', 'keras_tensor_644']. Received: the structure of inputs=('*', '*')\n",
            "  warnings.warn(\n"
          ]
        },
        {
          "name": "stdout",
          "output_type": "stream",
          "text": [
            "\u001b[1m5368/5368\u001b[0m \u001b[32m━━━━━━━━━━━━━━━━━━━━\u001b[0m\u001b[37m\u001b[0m \u001b[1m176s\u001b[0m 32ms/step - accuracy: 0.7093 - loss: 0.5382 - val_accuracy: 0.9272 - val_loss: 0.2559\n",
            "Epoch 2/20\n",
            "\u001b[1m5368/5368\u001b[0m \u001b[32m━━━━━━━━━━━━━━━━━━━━\u001b[0m\u001b[37m\u001b[0m \u001b[1m175s\u001b[0m 33ms/step - accuracy: 0.9378 - loss: 0.2338 - val_accuracy: 0.9303 - val_loss: 0.2440\n",
            "Epoch 3/20\n",
            "\u001b[1m5368/5368\u001b[0m \u001b[32m━━━━━━━━━━━━━━━━━━━━\u001b[0m\u001b[37m\u001b[0m \u001b[1m187s\u001b[0m 35ms/step - accuracy: 0.9466 - loss: 0.2056 - val_accuracy: 0.9287 - val_loss: 0.2463\n",
            "Epoch 4/20\n",
            "\u001b[1m5368/5368\u001b[0m \u001b[32m━━━━━━━━━━━━━━━━━━━━\u001b[0m\u001b[37m\u001b[0m \u001b[1m177s\u001b[0m 33ms/step - accuracy: 0.9522 - loss: 0.1828 - val_accuracy: 0.9242 - val_loss: 0.2579\n",
            "Epoch 5/20\n",
            "\u001b[1m5368/5368\u001b[0m \u001b[32m━━━━━━━━━━━━━━━━━━━━\u001b[0m\u001b[37m\u001b[0m \u001b[1m176s\u001b[0m 33ms/step - accuracy: 0.9579 - loss: 0.1625 - val_accuracy: 0.9186 - val_loss: 0.2720\n"
          ]
        },
        {
          "name": "stderr",
          "output_type": "stream",
          "text": [
            "[I 2024-11-01 15:04:10,737] Trial 30 finished with value: 0.9303278923034668 and parameters: {'embedding_dim': 128, 'filters_1': 10, 'filters_2': 20, 'kernel_size1': 7, 'kernel_size_2': 5, 'kernel_reg_1': 0.001, 'dense_1': 128, 'dense_2': 32, 'dropout_1': 0.4, 'dropout_2': 0.4, 'learning_rate': 0.00015, 'batch_size': 16, 'epochs': 20}. Best is trial 20 with value: 0.934891939163208.\n"
          ]
        },
        {
          "name": "stdout",
          "output_type": "stream",
          "text": [
            "Epoch 1/5\n"
          ]
        },
        {
          "name": "stderr",
          "output_type": "stream",
          "text": [
            "c:\\Users\\spooj\\Downloads\\dsa4266\\fake_news\\lib\\site-packages\\keras\\src\\models\\functional.py:225: UserWarning: The structure of `inputs` doesn't match the expected structure: ['keras_tensor_656', 'keras_tensor_660']. Received: the structure of inputs=('*', '*')\n",
            "  warnings.warn(\n"
          ]
        },
        {
          "name": "stdout",
          "output_type": "stream",
          "text": [
            "\u001b[1m5368/5368\u001b[0m \u001b[32m━━━━━━━━━━━━━━━━━━━━\u001b[0m\u001b[37m\u001b[0m \u001b[1m330s\u001b[0m 61ms/step - accuracy: 0.8402 - loss: 0.3880 - val_accuracy: 0.9298 - val_loss: 0.2440\n",
            "Epoch 2/5\n",
            "\u001b[1m5368/5368\u001b[0m \u001b[32m━━━━━━━━━━━━━━━━━━━━\u001b[0m\u001b[37m\u001b[0m \u001b[1m307s\u001b[0m 57ms/step - accuracy: 0.9422 - loss: 0.2126 - val_accuracy: 0.9337 - val_loss: 0.2306\n",
            "Epoch 3/5\n",
            "\u001b[1m5368/5368\u001b[0m \u001b[32m━━━━━━━━━━━━━━━━━━━━\u001b[0m\u001b[37m\u001b[0m \u001b[1m300s\u001b[0m 56ms/step - accuracy: 0.9512 - loss: 0.1816 - val_accuracy: 0.9222 - val_loss: 0.2578\n",
            "Epoch 4/5\n",
            "\u001b[1m5368/5368\u001b[0m \u001b[32m━━━━━━━━━━━━━━━━━━━━\u001b[0m\u001b[37m\u001b[0m \u001b[1m310s\u001b[0m 58ms/step - accuracy: 0.9567 - loss: 0.1558 - val_accuracy: 0.9029 - val_loss: 0.3054\n",
            "Epoch 5/5\n",
            "\u001b[1m5368/5368\u001b[0m \u001b[32m━━━━━━━━━━━━━━━━━━━━\u001b[0m\u001b[37m\u001b[0m \u001b[1m328s\u001b[0m 61ms/step - accuracy: 0.9629 - loss: 0.1358 - val_accuracy: 0.9096 - val_loss: 0.3042\n"
          ]
        },
        {
          "name": "stderr",
          "output_type": "stream",
          "text": [
            "[I 2024-11-01 15:30:26,620] Trial 31 finished with value: 0.9337276220321655 and parameters: {'embedding_dim': 256, 'filters_1': 20, 'filters_2': 20, 'kernel_size1': 7, 'kernel_size_2': 5, 'kernel_reg_1': 0.001, 'dense_1': 128, 'dense_2': 32, 'dropout_1': 0.4, 'dropout_2': 0.4, 'learning_rate': 0.001, 'batch_size': 16, 'epochs': 5}. Best is trial 20 with value: 0.934891939163208.\n"
          ]
        },
        {
          "name": "stdout",
          "output_type": "stream",
          "text": [
            "Epoch 1/20\n"
          ]
        },
        {
          "name": "stderr",
          "output_type": "stream",
          "text": [
            "c:\\Users\\spooj\\Downloads\\dsa4266\\fake_news\\lib\\site-packages\\keras\\src\\models\\functional.py:225: UserWarning: The structure of `inputs` doesn't match the expected structure: ['keras_tensor_672', 'keras_tensor_676']. Received: the structure of inputs=('*', '*')\n",
            "  warnings.warn(\n"
          ]
        },
        {
          "name": "stdout",
          "output_type": "stream",
          "text": [
            "\u001b[1m5368/5368\u001b[0m \u001b[32m━━━━━━━━━━━━━━━━━━━━\u001b[0m\u001b[37m\u001b[0m \u001b[1m368s\u001b[0m 67ms/step - accuracy: 0.8240 - loss: 0.3985 - val_accuracy: 0.9220 - val_loss: 0.2556\n",
            "Epoch 2/20\n",
            "\u001b[1m5368/5368\u001b[0m \u001b[32m━━━━━━━━━━━━━━━━━━━━\u001b[0m\u001b[37m\u001b[0m \u001b[1m347s\u001b[0m 65ms/step - accuracy: 0.9423 - loss: 0.2121 - val_accuracy: 0.9291 - val_loss: 0.2475\n",
            "Epoch 3/20\n",
            "\u001b[1m5368/5368\u001b[0m \u001b[32m━━━━━━━━━━━━━━━━━━━━\u001b[0m\u001b[37m\u001b[0m \u001b[1m303s\u001b[0m 56ms/step - accuracy: 0.9488 - loss: 0.1876 - val_accuracy: 0.9264 - val_loss: 0.2474\n",
            "Epoch 4/20\n",
            "\u001b[1m5368/5368\u001b[0m \u001b[32m━━━━━━━━━━━━━━━━━━━━\u001b[0m\u001b[37m\u001b[0m \u001b[1m302s\u001b[0m 56ms/step - accuracy: 0.9579 - loss: 0.1565 - val_accuracy: 0.9132 - val_loss: 0.2858\n",
            "Epoch 5/20\n",
            "\u001b[1m5368/5368\u001b[0m \u001b[32m━━━━━━━━━━━━━━━━━━━━\u001b[0m\u001b[37m\u001b[0m \u001b[1m290s\u001b[0m 54ms/step - accuracy: 0.9631 - loss: 0.1371 - val_accuracy: 0.9132 - val_loss: 0.2997\n"
          ]
        },
        {
          "name": "stderr",
          "output_type": "stream",
          "text": [
            "[I 2024-11-01 15:57:17,900] Trial 32 finished with value: 0.9290704131126404 and parameters: {'embedding_dim': 256, 'filters_1': 20, 'filters_2': 20, 'kernel_size1': 7, 'kernel_size_2': 5, 'kernel_reg_1': 0.001, 'dense_1': 128, 'dense_2': 32, 'dropout_1': 0.4, 'dropout_2': 0.4, 'learning_rate': 0.001, 'batch_size': 16, 'epochs': 20}. Best is trial 20 with value: 0.934891939163208.\n"
          ]
        },
        {
          "name": "stdout",
          "output_type": "stream",
          "text": [
            "Epoch 1/20\n"
          ]
        },
        {
          "name": "stderr",
          "output_type": "stream",
          "text": [
            "c:\\Users\\spooj\\Downloads\\dsa4266\\fake_news\\lib\\site-packages\\keras\\src\\models\\functional.py:225: UserWarning: The structure of `inputs` doesn't match the expected structure: ['keras_tensor_688', 'keras_tensor_692']. Received: the structure of inputs=('*', '*')\n",
            "  warnings.warn(\n"
          ]
        },
        {
          "name": "stdout",
          "output_type": "stream",
          "text": [
            "\u001b[1m5368/5368\u001b[0m \u001b[32m━━━━━━━━━━━━━━━━━━━━\u001b[0m\u001b[37m\u001b[0m \u001b[1m934s\u001b[0m 173ms/step - accuracy: 0.8128 - loss: 0.4161 - val_accuracy: 0.9249 - val_loss: 0.2557\n",
            "Epoch 2/20\n",
            "\u001b[1m5368/5368\u001b[0m \u001b[32m━━━━━━━━━━━━━━━━━━━━\u001b[0m\u001b[37m\u001b[0m \u001b[1m328s\u001b[0m 61ms/step - accuracy: 0.9412 - loss: 0.2145 - val_accuracy: 0.9325 - val_loss: 0.2334\n",
            "Epoch 3/20\n",
            "\u001b[1m5368/5368\u001b[0m \u001b[32m━━━━━━━━━━━━━━━━━━━━\u001b[0m\u001b[37m\u001b[0m \u001b[1m298s\u001b[0m 55ms/step - accuracy: 0.9499 - loss: 0.1853 - val_accuracy: 0.9186 - val_loss: 0.2631\n",
            "Epoch 4/20\n",
            "\u001b[1m5368/5368\u001b[0m \u001b[32m━━━━━━━━━━━━━━━━━━━━\u001b[0m\u001b[37m\u001b[0m \u001b[1m285s\u001b[0m 53ms/step - accuracy: 0.9547 - loss: 0.1658 - val_accuracy: 0.9210 - val_loss: 0.2618\n",
            "Epoch 5/20\n",
            "\u001b[1m5368/5368\u001b[0m \u001b[32m━━━━━━━━━━━━━━━━━━━━\u001b[0m\u001b[37m\u001b[0m \u001b[1m282s\u001b[0m 53ms/step - accuracy: 0.9636 - loss: 0.1353 - val_accuracy: 0.9129 - val_loss: 0.3015\n"
          ]
        },
        {
          "name": "stderr",
          "output_type": "stream",
          "text": [
            "[I 2024-11-01 16:32:45,557] Trial 33 finished with value: 0.9325167536735535 and parameters: {'embedding_dim': 256, 'filters_1': 20, 'filters_2': 20, 'kernel_size1': 7, 'kernel_size_2': 5, 'kernel_reg_1': 0.001, 'dense_1': 128, 'dense_2': 32, 'dropout_1': 0.4, 'dropout_2': 0.4, 'learning_rate': 0.001, 'batch_size': 16, 'epochs': 20}. Best is trial 20 with value: 0.934891939163208.\n"
          ]
        },
        {
          "name": "stdout",
          "output_type": "stream",
          "text": [
            "Epoch 1/5\n"
          ]
        },
        {
          "name": "stderr",
          "output_type": "stream",
          "text": [
            "c:\\Users\\spooj\\Downloads\\dsa4266\\fake_news\\lib\\site-packages\\keras\\src\\models\\functional.py:225: UserWarning: The structure of `inputs` doesn't match the expected structure: ['keras_tensor_704', 'keras_tensor_708']. Received: the structure of inputs=('*', '*')\n",
            "  warnings.warn(\n"
          ]
        },
        {
          "name": "stdout",
          "output_type": "stream",
          "text": [
            "\u001b[1m1342/1342\u001b[0m \u001b[32m━━━━━━━━━━━━━━━━━━━━\u001b[0m\u001b[37m\u001b[0m \u001b[1m97s\u001b[0m 69ms/step - accuracy: 0.8094 - loss: 0.4295 - val_accuracy: 0.9352 - val_loss: 0.2412\n",
            "Epoch 2/5\n",
            "\u001b[1m1342/1342\u001b[0m \u001b[32m━━━━━━━━━━━━━━━━━━━━\u001b[0m\u001b[37m\u001b[0m \u001b[1m95s\u001b[0m 71ms/step - accuracy: 0.9452 - loss: 0.2083 - val_accuracy: 0.9299 - val_loss: 0.2370\n",
            "Epoch 3/5\n",
            "\u001b[1m1342/1342\u001b[0m \u001b[32m━━━━━━━━━━━━━━━━━━━━\u001b[0m\u001b[37m\u001b[0m \u001b[1m85s\u001b[0m 64ms/step - accuracy: 0.9530 - loss: 0.1780 - val_accuracy: 0.9254 - val_loss: 0.2534\n",
            "Epoch 4/5\n",
            "\u001b[1m1342/1342\u001b[0m \u001b[32m━━━━━━━━━━━━━━━━━━━━\u001b[0m\u001b[37m\u001b[0m \u001b[1m87s\u001b[0m 64ms/step - accuracy: 0.9600 - loss: 0.1500 - val_accuracy: 0.9171 - val_loss: 0.2755\n"
          ]
        },
        {
          "name": "stderr",
          "output_type": "stream",
          "text": [
            "[I 2024-11-01 16:38:50,579] Trial 34 finished with value: 0.9352179765701294 and parameters: {'embedding_dim': 256, 'filters_1': 20, 'filters_2': 20, 'kernel_size1': 7, 'kernel_size_2': 5, 'kernel_reg_1': 0.001, 'dense_1': 128, 'dense_2': 64, 'dropout_1': 0.4, 'dropout_2': 0.4, 'learning_rate': 0.001, 'batch_size': 64, 'epochs': 5}. Best is trial 34 with value: 0.9352179765701294.\n"
          ]
        },
        {
          "name": "stdout",
          "output_type": "stream",
          "text": [
            "Epoch 1/20\n"
          ]
        },
        {
          "name": "stderr",
          "output_type": "stream",
          "text": [
            "c:\\Users\\spooj\\Downloads\\dsa4266\\fake_news\\lib\\site-packages\\keras\\src\\models\\functional.py:225: UserWarning: The structure of `inputs` doesn't match the expected structure: ['keras_tensor_720', 'keras_tensor_724']. Received: the structure of inputs=('*', '*')\n",
            "  warnings.warn(\n"
          ]
        },
        {
          "name": "stdout",
          "output_type": "stream",
          "text": [
            "\u001b[1m1342/1342\u001b[0m \u001b[32m━━━━━━━━━━━━━━━━━━━━\u001b[0m\u001b[37m\u001b[0m \u001b[1m90s\u001b[0m 65ms/step - accuracy: 0.5723 - loss: 0.7119 - val_accuracy: 0.9162 - val_loss: 0.2932\n",
            "Epoch 2/20\n",
            "\u001b[1m1342/1342\u001b[0m \u001b[32m━━━━━━━━━━━━━━━━━━━━\u001b[0m\u001b[37m\u001b[0m \u001b[1m91s\u001b[0m 68ms/step - accuracy: 0.9239 - loss: 0.2835 - val_accuracy: 0.9294 - val_loss: 0.2624\n",
            "Epoch 3/20\n",
            "\u001b[1m1342/1342\u001b[0m \u001b[32m━━━━━━━━━━━━━━━━━━━━\u001b[0m\u001b[37m\u001b[0m \u001b[1m96s\u001b[0m 72ms/step - accuracy: 0.9405 - loss: 0.2410 - val_accuracy: 0.9280 - val_loss: 0.2604\n",
            "Epoch 4/20\n",
            "\u001b[1m1342/1342\u001b[0m \u001b[32m━━━━━━━━━━━━━━━━━━━━\u001b[0m\u001b[37m\u001b[0m \u001b[1m94s\u001b[0m 70ms/step - accuracy: 0.9473 - loss: 0.2161 - val_accuracy: 0.9260 - val_loss: 0.2642\n",
            "Epoch 5/20\n",
            "\u001b[1m1342/1342\u001b[0m \u001b[32m━━━━━━━━━━━━━━━━━━━━\u001b[0m\u001b[37m\u001b[0m \u001b[1m89s\u001b[0m 66ms/step - accuracy: 0.9542 - loss: 0.1921 - val_accuracy: 0.9234 - val_loss: 0.2645\n"
          ]
        },
        {
          "name": "stderr",
          "output_type": "stream",
          "text": [
            "[I 2024-11-01 16:46:30,408] Trial 35 finished with value: 0.9293964505195618 and parameters: {'embedding_dim': 256, 'filters_1': 20, 'filters_2': 20, 'kernel_size1': 7, 'kernel_size_2': 7, 'kernel_reg_1': 0.001, 'dense_1': 128, 'dense_2': 64, 'dropout_1': 0.4, 'dropout_2': 0.4, 'learning_rate': 0.0001, 'batch_size': 64, 'epochs': 20}. Best is trial 34 with value: 0.9352179765701294.\n"
          ]
        },
        {
          "name": "stdout",
          "output_type": "stream",
          "text": [
            "Epoch 1/10\n"
          ]
        },
        {
          "name": "stderr",
          "output_type": "stream",
          "text": [
            "c:\\Users\\spooj\\Downloads\\dsa4266\\fake_news\\lib\\site-packages\\keras\\src\\models\\functional.py:225: UserWarning: The structure of `inputs` doesn't match the expected structure: ['keras_tensor_736', 'keras_tensor_740']. Received: the structure of inputs=('*', '*')\n",
            "  warnings.warn(\n"
          ]
        },
        {
          "name": "stdout",
          "output_type": "stream",
          "text": [
            "\u001b[1m1342/1342\u001b[0m \u001b[32m━━━━━━━━━━━━━━━━━━━━\u001b[0m\u001b[37m\u001b[0m \u001b[1m54s\u001b[0m 38ms/step - accuracy: 0.7807 - loss: 0.4653 - val_accuracy: 0.9347 - val_loss: 0.2420\n",
            "Epoch 2/10\n",
            "\u001b[1m1342/1342\u001b[0m \u001b[32m━━━━━━━━━━━━━━━━━━━━\u001b[0m\u001b[37m\u001b[0m \u001b[1m47s\u001b[0m 35ms/step - accuracy: 0.9440 - loss: 0.2087 - val_accuracy: 0.9316 - val_loss: 0.2379\n",
            "Epoch 3/10\n",
            "\u001b[1m1342/1342\u001b[0m \u001b[32m━━━━━━━━━━━━━━━━━━━━\u001b[0m\u001b[37m\u001b[0m \u001b[1m47s\u001b[0m 35ms/step - accuracy: 0.9520 - loss: 0.1788 - val_accuracy: 0.9249 - val_loss: 0.2550\n",
            "Epoch 4/10\n",
            "\u001b[1m1342/1342\u001b[0m \u001b[32m━━━━━━━━━━━━━━━━━━━━\u001b[0m\u001b[37m\u001b[0m \u001b[1m53s\u001b[0m 39ms/step - accuracy: 0.9598 - loss: 0.1520 - val_accuracy: 0.9154 - val_loss: 0.2783\n"
          ]
        },
        {
          "name": "stderr",
          "output_type": "stream",
          "text": [
            "[I 2024-11-01 16:49:52,260] Trial 36 finished with value: 0.9347056746482849 and parameters: {'embedding_dim': 128, 'filters_1': 20, 'filters_2': 20, 'kernel_size1': 5, 'kernel_size_2': 5, 'kernel_reg_1': 0.001, 'dense_1': 128, 'dense_2': 64, 'dropout_1': 0.4, 'dropout_2': 0.5, 'learning_rate': 0.001, 'batch_size': 64, 'epochs': 10}. Best is trial 34 with value: 0.9352179765701294.\n"
          ]
        },
        {
          "name": "stdout",
          "output_type": "stream",
          "text": [
            "Epoch 1/10\n"
          ]
        },
        {
          "name": "stderr",
          "output_type": "stream",
          "text": [
            "c:\\Users\\spooj\\Downloads\\dsa4266\\fake_news\\lib\\site-packages\\keras\\src\\models\\functional.py:225: UserWarning: The structure of `inputs` doesn't match the expected structure: ['keras_tensor_752', 'keras_tensor_756']. Received: the structure of inputs=('*', '*')\n",
            "  warnings.warn(\n"
          ]
        },
        {
          "name": "stdout",
          "output_type": "stream",
          "text": [
            "\u001b[1m1342/1342\u001b[0m \u001b[32m━━━━━━━━━━━━━━━━━━━━\u001b[0m\u001b[37m\u001b[0m \u001b[1m41s\u001b[0m 29ms/step - accuracy: 0.6985 - loss: 0.6108 - val_accuracy: 0.9296 - val_loss: 0.2521\n",
            "Epoch 2/10\n",
            "\u001b[1m1342/1342\u001b[0m \u001b[32m━━━━━━━━━━━━━━━━━━━━\u001b[0m\u001b[37m\u001b[0m \u001b[1m40s\u001b[0m 30ms/step - accuracy: 0.9397 - loss: 0.2280 - val_accuracy: 0.9309 - val_loss: 0.2409\n",
            "Epoch 3/10\n",
            "\u001b[1m1342/1342\u001b[0m \u001b[32m━━━━━━━━━━━━━━━━━━━━\u001b[0m\u001b[37m\u001b[0m \u001b[1m43s\u001b[0m 32ms/step - accuracy: 0.9500 - loss: 0.1930 - val_accuracy: 0.9253 - val_loss: 0.2474\n",
            "Epoch 4/10\n",
            "\u001b[1m1342/1342\u001b[0m \u001b[32m━━━━━━━━━━━━━━━━━━━━\u001b[0m\u001b[37m\u001b[0m \u001b[1m43s\u001b[0m 32ms/step - accuracy: 0.9551 - loss: 0.1722 - val_accuracy: 0.9204 - val_loss: 0.2591\n",
            "Epoch 5/10\n",
            "\u001b[1m1342/1342\u001b[0m \u001b[32m━━━━━━━━━━━━━━━━━━━━\u001b[0m\u001b[37m\u001b[0m \u001b[1m43s\u001b[0m 32ms/step - accuracy: 0.9598 - loss: 0.1574 - val_accuracy: 0.9128 - val_loss: 0.2835\n"
          ]
        },
        {
          "name": "stderr",
          "output_type": "stream",
          "text": [
            "[I 2024-11-01 16:53:22,728] Trial 37 finished with value: 0.9308867454528809 and parameters: {'embedding_dim': 128, 'filters_1': 5, 'filters_2': 10, 'kernel_size1': 5, 'kernel_size_2': 7, 'kernel_reg_1': 0.01, 'dense_1': 128, 'dense_2': 64, 'dropout_1': 0.4, 'dropout_2': 0.5, 'learning_rate': 0.001, 'batch_size': 64, 'epochs': 10}. Best is trial 34 with value: 0.9352179765701294.\n"
          ]
        },
        {
          "name": "stdout",
          "output_type": "stream",
          "text": [
            "Epoch 1/10\n"
          ]
        },
        {
          "name": "stderr",
          "output_type": "stream",
          "text": [
            "c:\\Users\\spooj\\Downloads\\dsa4266\\fake_news\\lib\\site-packages\\keras\\src\\models\\functional.py:225: UserWarning: The structure of `inputs` doesn't match the expected structure: ['keras_tensor_768', 'keras_tensor_772']. Received: the structure of inputs=('*', '*')\n",
            "  warnings.warn(\n"
          ]
        },
        {
          "name": "stdout",
          "output_type": "stream",
          "text": [
            "\u001b[1m1342/1342\u001b[0m \u001b[32m━━━━━━━━━━━━━━━━━━━━\u001b[0m\u001b[37m\u001b[0m \u001b[1m55s\u001b[0m 34ms/step - accuracy: 0.5234 - loss: 0.7564 - val_accuracy: 0.6016 - val_loss: 0.6945\n",
            "Epoch 2/10\n",
            "\u001b[1m1342/1342\u001b[0m \u001b[32m━━━━━━━━━━━━━━━━━━━━\u001b[0m\u001b[37m\u001b[0m \u001b[1m44s\u001b[0m 33ms/step - accuracy: 0.7099 - loss: 0.5596 - val_accuracy: 0.9201 - val_loss: 0.2793\n",
            "Epoch 3/10\n",
            "\u001b[1m1342/1342\u001b[0m \u001b[32m━━━━━━━━━━━━━━━━━━━━\u001b[0m\u001b[37m\u001b[0m \u001b[1m46s\u001b[0m 35ms/step - accuracy: 0.9269 - loss: 0.2721 - val_accuracy: 0.9258 - val_loss: 0.2647\n",
            "Epoch 4/10\n",
            "\u001b[1m1342/1342\u001b[0m \u001b[32m━━━━━━━━━━━━━━━━━━━━\u001b[0m\u001b[37m\u001b[0m \u001b[1m44s\u001b[0m 33ms/step - accuracy: 0.9408 - loss: 0.2321 - val_accuracy: 0.9277 - val_loss: 0.2594\n",
            "Epoch 5/10\n",
            "\u001b[1m1342/1342\u001b[0m \u001b[32m━━━━━━━━━━━━━━━━━━━━\u001b[0m\u001b[37m\u001b[0m \u001b[1m41s\u001b[0m 31ms/step - accuracy: 0.9480 - loss: 0.2120 - val_accuracy: 0.9243 - val_loss: 0.2633\n",
            "Epoch 6/10\n",
            "\u001b[1m1342/1342\u001b[0m \u001b[32m━━━━━━━━━━━━━━━━━━━━\u001b[0m\u001b[37m\u001b[0m \u001b[1m43s\u001b[0m 32ms/step - accuracy: 0.9493 - loss: 0.2029 - val_accuracy: 0.9244 - val_loss: 0.2676\n",
            "Epoch 7/10\n",
            "\u001b[1m1342/1342\u001b[0m \u001b[32m━━━━━━━━━━━━━━━━━━━━\u001b[0m\u001b[37m\u001b[0m \u001b[1m46s\u001b[0m 34ms/step - accuracy: 0.9550 - loss: 0.1851 - val_accuracy: 0.9197 - val_loss: 0.2766\n"
          ]
        },
        {
          "name": "stderr",
          "output_type": "stream",
          "text": [
            "[I 2024-11-01 16:58:44,924] Trial 38 finished with value: 0.9276732206344604 and parameters: {'embedding_dim': 128, 'filters_1': 10, 'filters_2': 20, 'kernel_size1': 5, 'kernel_size_2': 5, 'kernel_reg_1': 0.001, 'dense_1': 128, 'dense_2': 64, 'dropout_1': 0.6, 'dropout_2': 0.5, 'learning_rate': 0.0001, 'batch_size': 64, 'epochs': 10}. Best is trial 34 with value: 0.9352179765701294.\n"
          ]
        },
        {
          "name": "stdout",
          "output_type": "stream",
          "text": [
            "Epoch 1/10\n"
          ]
        },
        {
          "name": "stderr",
          "output_type": "stream",
          "text": [
            "c:\\Users\\spooj\\Downloads\\dsa4266\\fake_news\\lib\\site-packages\\keras\\src\\models\\functional.py:225: UserWarning: The structure of `inputs` doesn't match the expected structure: ['keras_tensor_784', 'keras_tensor_788']. Received: the structure of inputs=('*', '*')\n",
            "  warnings.warn(\n"
          ]
        },
        {
          "name": "stdout",
          "output_type": "stream",
          "text": [
            "\u001b[1m1342/1342\u001b[0m \u001b[32m━━━━━━━━━━━━━━━━━━━━\u001b[0m\u001b[37m\u001b[0m \u001b[1m79s\u001b[0m 56ms/step - accuracy: 0.5982 - loss: 0.6850 - val_accuracy: 0.9223 - val_loss: 0.2792\n",
            "Epoch 2/10\n",
            "\u001b[1m1342/1342\u001b[0m \u001b[32m━━━━━━━━━━━━━━━━━━━━\u001b[0m\u001b[37m\u001b[0m \u001b[1m73s\u001b[0m 55ms/step - accuracy: 0.9281 - loss: 0.2740 - val_accuracy: 0.9294 - val_loss: 0.2539\n",
            "Epoch 3/10\n",
            "\u001b[1m1342/1342\u001b[0m \u001b[32m━━━━━━━━━━━━━━━━━━━━\u001b[0m\u001b[37m\u001b[0m \u001b[1m66s\u001b[0m 49ms/step - accuracy: 0.9421 - loss: 0.2304 - val_accuracy: 0.9296 - val_loss: 0.2514\n",
            "Epoch 4/10\n",
            "\u001b[1m1342/1342\u001b[0m \u001b[32m━━━━━━━━━━━━━━━━━━━━\u001b[0m\u001b[37m\u001b[0m \u001b[1m66s\u001b[0m 49ms/step - accuracy: 0.9508 - loss: 0.2005 - val_accuracy: 0.9223 - val_loss: 0.2625\n",
            "Epoch 5/10\n",
            "\u001b[1m1342/1342\u001b[0m \u001b[32m━━━━━━━━━━━━━━━━━━━━\u001b[0m\u001b[37m\u001b[0m \u001b[1m69s\u001b[0m 52ms/step - accuracy: 0.9567 - loss: 0.1789 - val_accuracy: 0.9157 - val_loss: 0.2828\n",
            "Epoch 6/10\n",
            "\u001b[1m1342/1342\u001b[0m \u001b[32m━━━━━━━━━━━━━━━━━━━━\u001b[0m\u001b[37m\u001b[0m \u001b[1m83s\u001b[0m 62ms/step - accuracy: 0.9627 - loss: 0.1564 - val_accuracy: 0.9132 - val_loss: 0.2867\n"
          ]
        },
        {
          "name": "stderr",
          "output_type": "stream",
          "text": [
            "[I 2024-11-01 17:06:01,906] Trial 39 finished with value: 0.9296292662620544 and parameters: {'embedding_dim': 128, 'filters_1': 20, 'filters_2': 20, 'kernel_size1': 15, 'kernel_size_2': 3, 'kernel_reg_1': 0.001, 'dense_1': 128, 'dense_2': 64, 'dropout_1': 0.4, 'dropout_2': 0.5, 'learning_rate': 0.00015, 'batch_size': 64, 'epochs': 10}. Best is trial 34 with value: 0.9352179765701294.\n"
          ]
        },
        {
          "name": "stdout",
          "output_type": "stream",
          "text": [
            "Epoch 1/10\n"
          ]
        },
        {
          "name": "stderr",
          "output_type": "stream",
          "text": [
            "c:\\Users\\spooj\\Downloads\\dsa4266\\fake_news\\lib\\site-packages\\keras\\src\\models\\functional.py:225: UserWarning: The structure of `inputs` doesn't match the expected structure: ['keras_tensor_800', 'keras_tensor_804']. Received: the structure of inputs=('*', '*')\n",
            "  warnings.warn(\n"
          ]
        },
        {
          "name": "stdout",
          "output_type": "stream",
          "text": [
            "\u001b[1m1342/1342\u001b[0m \u001b[32m━━━━━━━━━━━━━━━━━━━━\u001b[0m\u001b[37m\u001b[0m \u001b[1m58s\u001b[0m 39ms/step - accuracy: 0.7146 - loss: 0.5937 - val_accuracy: 0.9306 - val_loss: 0.2484\n",
            "Epoch 2/10\n",
            "\u001b[1m1342/1342\u001b[0m \u001b[32m━━━━━━━━━━━━━━━━━━━━\u001b[0m\u001b[37m\u001b[0m \u001b[1m52s\u001b[0m 38ms/step - accuracy: 0.9397 - loss: 0.2283 - val_accuracy: 0.9300 - val_loss: 0.2439\n",
            "Epoch 3/10\n",
            "\u001b[1m1342/1342\u001b[0m \u001b[32m━━━━━━━━━━━━━━━━━━━━\u001b[0m\u001b[37m\u001b[0m \u001b[1m47s\u001b[0m 35ms/step - accuracy: 0.9491 - loss: 0.1965 - val_accuracy: 0.9258 - val_loss: 0.2469\n",
            "Epoch 4/10\n",
            "\u001b[1m1342/1342\u001b[0m \u001b[32m━━━━━━━━━━━━━━━━━━━━\u001b[0m\u001b[37m\u001b[0m \u001b[1m43s\u001b[0m 32ms/step - accuracy: 0.9555 - loss: 0.1742 - val_accuracy: 0.9217 - val_loss: 0.2628\n"
          ]
        },
        {
          "name": "stderr",
          "output_type": "stream",
          "text": [
            "[I 2024-11-01 17:09:22,433] Trial 40 finished with value: 0.9305607080459595 and parameters: {'embedding_dim': 128, 'filters_1': 5, 'filters_2': 10, 'kernel_size1': 5, 'kernel_size_2': 7, 'kernel_reg_1': 0.01, 'dense_1': 128, 'dense_2': 64, 'dropout_1': 0.4, 'dropout_2': 0.5, 'learning_rate': 0.001, 'batch_size': 64, 'epochs': 10}. Best is trial 34 with value: 0.9352179765701294.\n"
          ]
        },
        {
          "name": "stdout",
          "output_type": "stream",
          "text": [
            "Epoch 1/10\n"
          ]
        },
        {
          "name": "stderr",
          "output_type": "stream",
          "text": [
            "c:\\Users\\spooj\\Downloads\\dsa4266\\fake_news\\lib\\site-packages\\keras\\src\\models\\functional.py:225: UserWarning: The structure of `inputs` doesn't match the expected structure: ['keras_tensor_816', 'keras_tensor_820']. Received: the structure of inputs=('*', '*')\n",
            "  warnings.warn(\n"
          ]
        },
        {
          "name": "stdout",
          "output_type": "stream",
          "text": [
            "\u001b[1m1342/1342\u001b[0m \u001b[32m━━━━━━━━━━━━━━━━━━━━\u001b[0m\u001b[37m\u001b[0m \u001b[1m84s\u001b[0m 60ms/step - accuracy: 0.7771 - loss: 0.4621 - val_accuracy: 0.9345 - val_loss: 0.2424\n",
            "Epoch 2/10\n",
            "\u001b[1m1342/1342\u001b[0m \u001b[32m━━━━━━━━━━━━━━━━━━━━\u001b[0m\u001b[37m\u001b[0m \u001b[1m77s\u001b[0m 57ms/step - accuracy: 0.9445 - loss: 0.2077 - val_accuracy: 0.9297 - val_loss: 0.2425\n",
            "Epoch 3/10\n",
            "\u001b[1m1342/1342\u001b[0m \u001b[32m━━━━━━━━━━━━━━━━━━━━\u001b[0m\u001b[37m\u001b[0m \u001b[1m91s\u001b[0m 68ms/step - accuracy: 0.9536 - loss: 0.1752 - val_accuracy: 0.9252 - val_loss: 0.2508\n",
            "Epoch 4/10\n",
            "\u001b[1m1342/1342\u001b[0m \u001b[32m━━━━━━━━━━━━━━━━━━━━\u001b[0m\u001b[37m\u001b[0m \u001b[1m83s\u001b[0m 62ms/step - accuracy: 0.9577 - loss: 0.1563 - val_accuracy: 0.9151 - val_loss: 0.2723\n"
          ]
        },
        {
          "name": "stderr",
          "output_type": "stream",
          "text": [
            "[I 2024-11-01 17:14:57,552] Trial 41 finished with value: 0.9344727993011475 and parameters: {'embedding_dim': 256, 'filters_1': 20, 'filters_2': 20, 'kernel_size1': 5, 'kernel_size_2': 5, 'kernel_reg_1': 0.001, 'dense_1': 128, 'dense_2': 64, 'dropout_1': 0.4, 'dropout_2': 0.5, 'learning_rate': 0.001, 'batch_size': 64, 'epochs': 10}. Best is trial 34 with value: 0.9352179765701294.\n"
          ]
        },
        {
          "name": "stdout",
          "output_type": "stream",
          "text": [
            "Epoch 1/10\n"
          ]
        },
        {
          "name": "stderr",
          "output_type": "stream",
          "text": [
            "c:\\Users\\spooj\\Downloads\\dsa4266\\fake_news\\lib\\site-packages\\keras\\src\\models\\functional.py:225: UserWarning: The structure of `inputs` doesn't match the expected structure: ['keras_tensor_832', 'keras_tensor_836']. Received: the structure of inputs=('*', '*')\n",
            "  warnings.warn(\n"
          ]
        },
        {
          "name": "stdout",
          "output_type": "stream",
          "text": [
            "\u001b[1m1342/1342\u001b[0m \u001b[32m━━━━━━━━━━━━━━━━━━━━\u001b[0m\u001b[37m\u001b[0m \u001b[1m55s\u001b[0m 39ms/step - accuracy: 0.7706 - loss: 0.4726 - val_accuracy: 0.9341 - val_loss: 0.2403\n",
            "Epoch 2/10\n",
            "\u001b[1m1342/1342\u001b[0m \u001b[32m━━━━━━━━━━━━━━━━━━━━\u001b[0m\u001b[37m\u001b[0m \u001b[1m50s\u001b[0m 37ms/step - accuracy: 0.9420 - loss: 0.2127 - val_accuracy: 0.9253 - val_loss: 0.2475\n",
            "Epoch 3/10\n",
            "\u001b[1m1342/1342\u001b[0m \u001b[32m━━━━━━━━━━━━━━━━━━━━\u001b[0m\u001b[37m\u001b[0m \u001b[1m53s\u001b[0m 39ms/step - accuracy: 0.9528 - loss: 0.1784 - val_accuracy: 0.9252 - val_loss: 0.2509\n",
            "Epoch 4/10\n",
            "\u001b[1m1342/1342\u001b[0m \u001b[32m━━━━━━━━━━━━━━━━━━━━\u001b[0m\u001b[37m\u001b[0m \u001b[1m65s\u001b[0m 49ms/step - accuracy: 0.9576 - loss: 0.1585 - val_accuracy: 0.9164 - val_loss: 0.2780\n"
          ]
        },
        {
          "name": "stderr",
          "output_type": "stream",
          "text": [
            "[I 2024-11-01 17:18:40,238] Trial 42 finished with value: 0.9341002106666565 and parameters: {'embedding_dim': 128, 'filters_1': 20, 'filters_2': 20, 'kernel_size1': 5, 'kernel_size_2': 5, 'kernel_reg_1': 0.001, 'dense_1': 128, 'dense_2': 64, 'dropout_1': 0.4, 'dropout_2': 0.5, 'learning_rate': 0.001, 'batch_size': 64, 'epochs': 10}. Best is trial 34 with value: 0.9352179765701294.\n"
          ]
        },
        {
          "name": "stdout",
          "output_type": "stream",
          "text": [
            "Epoch 1/10\n"
          ]
        },
        {
          "name": "stderr",
          "output_type": "stream",
          "text": [
            "c:\\Users\\spooj\\Downloads\\dsa4266\\fake_news\\lib\\site-packages\\keras\\src\\models\\functional.py:225: UserWarning: The structure of `inputs` doesn't match the expected structure: ['keras_tensor_848', 'keras_tensor_852']. Received: the structure of inputs=('*', '*')\n",
            "  warnings.warn(\n"
          ]
        },
        {
          "name": "stdout",
          "output_type": "stream",
          "text": [
            "\u001b[1m1342/1342\u001b[0m \u001b[32m━━━━━━━━━━━━━━━━━━━━\u001b[0m\u001b[37m\u001b[0m \u001b[1m130s\u001b[0m 91ms/step - accuracy: 0.8043 - loss: 0.4384 - val_accuracy: 0.9338 - val_loss: 0.2470\n",
            "Epoch 2/10\n",
            "\u001b[1m1342/1342\u001b[0m \u001b[32m━━━━━━━━━━━━━━━━━━━━\u001b[0m\u001b[37m\u001b[0m \u001b[1m120s\u001b[0m 89ms/step - accuracy: 0.9440 - loss: 0.2117 - val_accuracy: 0.9311 - val_loss: 0.2381\n",
            "Epoch 3/10\n",
            "\u001b[1m1342/1342\u001b[0m \u001b[32m━━━━━━━━━━━━━━━━━━━━\u001b[0m\u001b[37m\u001b[0m \u001b[1m120s\u001b[0m 89ms/step - accuracy: 0.9519 - loss: 0.1797 - val_accuracy: 0.9232 - val_loss: 0.2541\n",
            "Epoch 4/10\n",
            "\u001b[1m1342/1342\u001b[0m \u001b[32m━━━━━━━━━━━━━━━━━━━━\u001b[0m\u001b[37m\u001b[0m \u001b[1m120s\u001b[0m 89ms/step - accuracy: 0.9599 - loss: 0.1527 - val_accuracy: 0.9137 - val_loss: 0.2880\n"
          ]
        },
        {
          "name": "stderr",
          "output_type": "stream",
          "text": [
            "[I 2024-11-01 17:26:50,973] Trial 43 finished with value: 0.9338207840919495 and parameters: {'embedding_dim': 256, 'filters_1': 20, 'filters_2': 20, 'kernel_size1': 5, 'kernel_size_2': 5, 'kernel_reg_1': 0.001, 'dense_1': 128, 'dense_2': 64, 'dropout_1': 0.4, 'dropout_2': 0.5, 'learning_rate': 0.001, 'batch_size': 64, 'epochs': 10}. Best is trial 34 with value: 0.9352179765701294.\n"
          ]
        },
        {
          "name": "stdout",
          "output_type": "stream",
          "text": [
            "Epoch 1/10\n"
          ]
        },
        {
          "name": "stderr",
          "output_type": "stream",
          "text": [
            "c:\\Users\\spooj\\Downloads\\dsa4266\\fake_news\\lib\\site-packages\\keras\\src\\models\\functional.py:225: UserWarning: The structure of `inputs` doesn't match the expected structure: ['keras_tensor_864', 'keras_tensor_868']. Received: the structure of inputs=('*', '*')\n",
            "  warnings.warn(\n"
          ]
        },
        {
          "name": "stdout",
          "output_type": "stream",
          "text": [
            "\u001b[1m1342/1342\u001b[0m \u001b[32m━━━━━━━━━━━━━━━━━━━━\u001b[0m\u001b[37m\u001b[0m \u001b[1m61s\u001b[0m 40ms/step - accuracy: 0.7515 - loss: 0.4918 - val_accuracy: 0.9331 - val_loss: 0.2364\n",
            "Epoch 2/10\n",
            "\u001b[1m1342/1342\u001b[0m \u001b[32m━━━━━━━━━━━━━━━━━━━━\u001b[0m\u001b[37m\u001b[0m \u001b[1m52s\u001b[0m 39ms/step - accuracy: 0.9451 - loss: 0.2084 - val_accuracy: 0.9330 - val_loss: 0.2403\n",
            "Epoch 3/10\n",
            "\u001b[1m1342/1342\u001b[0m \u001b[32m━━━━━━━━━━━━━━━━━━━━\u001b[0m\u001b[37m\u001b[0m \u001b[1m53s\u001b[0m 39ms/step - accuracy: 0.9521 - loss: 0.1816 - val_accuracy: 0.9256 - val_loss: 0.2530\n",
            "Epoch 4/10\n",
            "\u001b[1m1342/1342\u001b[0m \u001b[32m━━━━━━━━━━━━━━━━━━━━\u001b[0m\u001b[37m\u001b[0m \u001b[1m53s\u001b[0m 39ms/step - accuracy: 0.9586 - loss: 0.1572 - val_accuracy: 0.9176 - val_loss: 0.2689\n"
          ]
        },
        {
          "name": "stderr",
          "output_type": "stream",
          "text": [
            "[I 2024-11-01 17:30:30,428] Trial 44 finished with value: 0.9331222176551819 and parameters: {'embedding_dim': 64, 'filters_1': 20, 'filters_2': 20, 'kernel_size1': 5, 'kernel_size_2': 5, 'kernel_reg_1': 0.001, 'dense_1': 128, 'dense_2': 64, 'dropout_1': 0.4, 'dropout_2': 0.5, 'learning_rate': 0.001, 'batch_size': 64, 'epochs': 10}. Best is trial 34 with value: 0.9352179765701294.\n"
          ]
        },
        {
          "name": "stdout",
          "output_type": "stream",
          "text": [
            "Epoch 1/10\n"
          ]
        },
        {
          "name": "stderr",
          "output_type": "stream",
          "text": [
            "c:\\Users\\spooj\\Downloads\\dsa4266\\fake_news\\lib\\site-packages\\keras\\src\\models\\functional.py:225: UserWarning: The structure of `inputs` doesn't match the expected structure: ['keras_tensor_880', 'keras_tensor_884']. Received: the structure of inputs=('*', '*')\n",
            "  warnings.warn(\n"
          ]
        },
        {
          "name": "stdout",
          "output_type": "stream",
          "text": [
            "\u001b[1m1342/1342\u001b[0m \u001b[32m━━━━━━━━━━━━━━━━━━━━\u001b[0m\u001b[37m\u001b[0m \u001b[1m4013s\u001b[0m 3s/step - accuracy: 0.7757 - loss: 0.4696 - val_accuracy: 0.9273 - val_loss: 0.2504\n",
            "Epoch 2/10\n",
            "\u001b[1m1342/1342\u001b[0m \u001b[32m━━━━━━━━━━━━━━━━━━━━\u001b[0m\u001b[37m\u001b[0m \u001b[1m107s\u001b[0m 79ms/step - accuracy: 0.9422 - loss: 0.2157 - val_accuracy: 0.9305 - val_loss: 0.2471\n",
            "Epoch 3/10\n",
            "\u001b[1m1342/1342\u001b[0m \u001b[32m━━━━━━━━━━━━━━━━━━━━\u001b[0m\u001b[37m\u001b[0m \u001b[1m104s\u001b[0m 78ms/step - accuracy: 0.9534 - loss: 0.1775 - val_accuracy: 0.9217 - val_loss: 0.2640\n",
            "Epoch 4/10\n",
            "\u001b[1m1342/1342\u001b[0m \u001b[32m━━━━━━━━━━━━━━━━━━━━\u001b[0m\u001b[37m\u001b[0m \u001b[1m100s\u001b[0m 75ms/step - accuracy: 0.9609 - loss: 0.1468 - val_accuracy: 0.9086 - val_loss: 0.3121\n",
            "Epoch 5/10\n",
            "\u001b[1m1342/1342\u001b[0m \u001b[32m━━━━━━━━━━━━━━━━━━━━\u001b[0m\u001b[37m\u001b[0m \u001b[1m94s\u001b[0m 70ms/step - accuracy: 0.9696 - loss: 0.1125 - val_accuracy: 0.9032 - val_loss: 0.3382\n"
          ]
        },
        {
          "name": "stderr",
          "output_type": "stream",
          "text": [
            "[I 2024-11-01 18:44:08,638] Trial 45 finished with value: 0.9304676055908203 and parameters: {'embedding_dim': 128, 'filters_1': 20, 'filters_2': 20, 'kernel_size1': 15, 'kernel_size_2': 5, 'kernel_reg_1': 0.001, 'dense_1': 128, 'dense_2': 64, 'dropout_1': 0.4, 'dropout_2': 0.5, 'learning_rate': 0.001, 'batch_size': 64, 'epochs': 10}. Best is trial 34 with value: 0.9352179765701294.\n"
          ]
        },
        {
          "name": "stdout",
          "output_type": "stream",
          "text": [
            "Epoch 1/5\n"
          ]
        },
        {
          "name": "stderr",
          "output_type": "stream",
          "text": [
            "c:\\Users\\spooj\\Downloads\\dsa4266\\fake_news\\lib\\site-packages\\keras\\src\\models\\functional.py:225: UserWarning: The structure of `inputs` doesn't match the expected structure: ['keras_tensor_896', 'keras_tensor_900']. Received: the structure of inputs=('*', '*')\n",
            "  warnings.warn(\n"
          ]
        },
        {
          "name": "stdout",
          "output_type": "stream",
          "text": [
            "\u001b[1m1342/1342\u001b[0m \u001b[32m━━━━━━━━━━━━━━━━━━━━\u001b[0m\u001b[37m\u001b[0m \u001b[1m103s\u001b[0m 74ms/step - accuracy: 0.5916 - loss: 0.6930 - val_accuracy: 0.9218 - val_loss: 0.2824\n",
            "Epoch 2/5\n",
            "\u001b[1m1342/1342\u001b[0m \u001b[32m━━━━━━━━━━━━━━━━━━━━\u001b[0m\u001b[37m\u001b[0m \u001b[1m101s\u001b[0m 75ms/step - accuracy: 0.9282 - loss: 0.2731 - val_accuracy: 0.9287 - val_loss: 0.2581\n",
            "Epoch 3/5\n",
            "\u001b[1m1342/1342\u001b[0m \u001b[32m━━━━━━━━━━━━━━━━━━━━\u001b[0m\u001b[37m\u001b[0m \u001b[1m97s\u001b[0m 72ms/step - accuracy: 0.9427 - loss: 0.2294 - val_accuracy: 0.9267 - val_loss: 0.2580\n",
            "Epoch 4/5\n",
            "\u001b[1m1342/1342\u001b[0m \u001b[32m━━━━━━━━━━━━━━━━━━━━\u001b[0m\u001b[37m\u001b[0m \u001b[1m129s\u001b[0m 96ms/step - accuracy: 0.9479 - loss: 0.2071 - val_accuracy: 0.9244 - val_loss: 0.2628\n",
            "Epoch 5/5\n",
            "\u001b[1m1342/1342\u001b[0m \u001b[32m━━━━━━━━━━━━━━━━━━━━\u001b[0m\u001b[37m\u001b[0m \u001b[1m131s\u001b[0m 97ms/step - accuracy: 0.9541 - loss: 0.1842 - val_accuracy: 0.9212 - val_loss: 0.2688\n"
          ]
        },
        {
          "name": "stderr",
          "output_type": "stream",
          "text": [
            "[I 2024-11-01 18:53:29,493] Trial 46 finished with value: 0.9286978244781494 and parameters: {'embedding_dim': 256, 'filters_1': 20, 'filters_2': 20, 'kernel_size1': 5, 'kernel_size_2': 5, 'kernel_reg_1': 0.001, 'dense_1': 128, 'dense_2': 64, 'dropout_1': 0.6, 'dropout_2': 0.5, 'learning_rate': 0.00015, 'batch_size': 64, 'epochs': 5}. Best is trial 34 with value: 0.9352179765701294.\n"
          ]
        },
        {
          "name": "stdout",
          "output_type": "stream",
          "text": [
            "Epoch 1/10\n"
          ]
        },
        {
          "name": "stderr",
          "output_type": "stream",
          "text": [
            "c:\\Users\\spooj\\Downloads\\dsa4266\\fake_news\\lib\\site-packages\\keras\\src\\models\\functional.py:225: UserWarning: The structure of `inputs` doesn't match the expected structure: ['keras_tensor_912', 'keras_tensor_916']. Received: the structure of inputs=('*', '*')\n",
            "  warnings.warn(\n"
          ]
        },
        {
          "name": "stdout",
          "output_type": "stream",
          "text": [
            "\u001b[1m1342/1342\u001b[0m \u001b[32m━━━━━━━━━━━━━━━━━━━━\u001b[0m\u001b[37m\u001b[0m \u001b[1m141s\u001b[0m 88ms/step - accuracy: 0.8028 - loss: 0.4395 - val_accuracy: 0.9336 - val_loss: 0.2349\n",
            "Epoch 2/10\n",
            "\u001b[1m1342/1342\u001b[0m \u001b[32m━━━━━━━━━━━━━━━━━━━━\u001b[0m\u001b[37m\u001b[0m \u001b[1m100s\u001b[0m 74ms/step - accuracy: 0.9432 - loss: 0.2142 - val_accuracy: 0.9317 - val_loss: 0.2376\n",
            "Epoch 3/10\n",
            "\u001b[1m1342/1342\u001b[0m \u001b[32m━━━━━━━━━━━━━━━━━━━━\u001b[0m\u001b[37m\u001b[0m \u001b[1m100s\u001b[0m 74ms/step - accuracy: 0.9519 - loss: 0.1825 - val_accuracy: 0.9258 - val_loss: 0.2499\n",
            "Epoch 4/10\n",
            "\u001b[1m1342/1342\u001b[0m \u001b[32m━━━━━━━━━━━━━━━━━━━━\u001b[0m\u001b[37m\u001b[0m \u001b[1m101s\u001b[0m 75ms/step - accuracy: 0.9607 - loss: 0.1519 - val_accuracy: 0.9148 - val_loss: 0.2800\n"
          ]
        },
        {
          "name": "stderr",
          "output_type": "stream",
          "text": [
            "[I 2024-11-01 19:00:51,971] Trial 47 finished with value: 0.9336345195770264 and parameters: {'embedding_dim': 256, 'filters_1': 5, 'filters_2': 20, 'kernel_size1': 5, 'kernel_size_2': 3, 'kernel_reg_1': 0.001, 'dense_1': 128, 'dense_2': 64, 'dropout_1': 0.4, 'dropout_2': 0.5, 'learning_rate': 0.001, 'batch_size': 64, 'epochs': 10}. Best is trial 34 with value: 0.9352179765701294.\n"
          ]
        },
        {
          "name": "stdout",
          "output_type": "stream",
          "text": [
            "Epoch 1/5\n"
          ]
        },
        {
          "name": "stderr",
          "output_type": "stream",
          "text": [
            "c:\\Users\\spooj\\Downloads\\dsa4266\\fake_news\\lib\\site-packages\\keras\\src\\models\\functional.py:225: UserWarning: The structure of `inputs` doesn't match the expected structure: ['keras_tensor_928', 'keras_tensor_932']. Received: the structure of inputs=('*', '*')\n",
            "  warnings.warn(\n"
          ]
        },
        {
          "name": "stdout",
          "output_type": "stream",
          "text": [
            "\u001b[1m1342/1342\u001b[0m \u001b[32m━━━━━━━━━━━━━━━━━━━━\u001b[0m\u001b[37m\u001b[0m \u001b[1m118s\u001b[0m 82ms/step - accuracy: 0.7808 - loss: 0.4645 - val_accuracy: 0.9297 - val_loss: 0.2616\n",
            "Epoch 2/5\n",
            "\u001b[1m1342/1342\u001b[0m \u001b[32m━━━━━━━━━━━━━━━━━━━━\u001b[0m\u001b[37m\u001b[0m \u001b[1m109s\u001b[0m 81ms/step - accuracy: 0.9420 - loss: 0.2170 - val_accuracy: 0.9298 - val_loss: 0.2553\n",
            "Epoch 3/5\n",
            "\u001b[1m1342/1342\u001b[0m \u001b[32m━━━━━━━━━━━━━━━━━━━━\u001b[0m\u001b[37m\u001b[0m \u001b[1m107s\u001b[0m 79ms/step - accuracy: 0.9529 - loss: 0.1804 - val_accuracy: 0.9230 - val_loss: 0.2599\n",
            "Epoch 4/5\n",
            "\u001b[1m1342/1342\u001b[0m \u001b[32m━━━━━━━━━━━━━━━━━━━━\u001b[0m\u001b[37m\u001b[0m \u001b[1m112s\u001b[0m 84ms/step - accuracy: 0.9596 - loss: 0.1497 - val_accuracy: 0.9164 - val_loss: 0.2742\n",
            "Epoch 5/5\n",
            "\u001b[1m1342/1342\u001b[0m \u001b[32m━━━━━━━━━━━━━━━━━━━━\u001b[0m\u001b[37m\u001b[0m \u001b[1m107s\u001b[0m 79ms/step - accuracy: 0.9682 - loss: 0.1197 - val_accuracy: 0.9018 - val_loss: 0.3213\n"
          ]
        },
        {
          "name": "stderr",
          "output_type": "stream",
          "text": [
            "[I 2024-11-01 19:10:05,011] Trial 48 finished with value: 0.929768979549408 and parameters: {'embedding_dim': 128, 'filters_1': 20, 'filters_2': 20, 'kernel_size1': 15, 'kernel_size_2': 5, 'kernel_reg_1': 0.001, 'dense_1': 128, 'dense_2': 64, 'dropout_1': 0.4, 'dropout_2': 0.5, 'learning_rate': 0.001, 'batch_size': 64, 'epochs': 5}. Best is trial 34 with value: 0.9352179765701294.\n"
          ]
        },
        {
          "name": "stdout",
          "output_type": "stream",
          "text": [
            "Epoch 1/10\n"
          ]
        },
        {
          "name": "stderr",
          "output_type": "stream",
          "text": [
            "c:\\Users\\spooj\\Downloads\\dsa4266\\fake_news\\lib\\site-packages\\keras\\src\\models\\functional.py:225: UserWarning: The structure of `inputs` doesn't match the expected structure: ['keras_tensor_944', 'keras_tensor_948']. Received: the structure of inputs=('*', '*')\n",
            "  warnings.warn(\n"
          ]
        },
        {
          "name": "stdout",
          "output_type": "stream",
          "text": [
            "\u001b[1m1342/1342\u001b[0m \u001b[32m━━━━━━━━━━━━━━━━━━━━\u001b[0m\u001b[37m\u001b[0m \u001b[1m52s\u001b[0m 34ms/step - accuracy: 0.7396 - loss: 0.5089 - val_accuracy: 0.9334 - val_loss: 0.2408\n",
            "Epoch 2/10\n",
            "\u001b[1m1342/1342\u001b[0m \u001b[32m━━━━━━━━━━━━━━━━━━━━\u001b[0m\u001b[37m\u001b[0m \u001b[1m46s\u001b[0m 34ms/step - accuracy: 0.9431 - loss: 0.2131 - val_accuracy: 0.9322 - val_loss: 0.2361\n",
            "Epoch 3/10\n",
            "\u001b[1m1342/1342\u001b[0m \u001b[32m━━━━━━━━━━━━━━━━━━━━\u001b[0m\u001b[37m\u001b[0m \u001b[1m53s\u001b[0m 39ms/step - accuracy: 0.9517 - loss: 0.1811 - val_accuracy: 0.9206 - val_loss: 0.2577\n",
            "Epoch 4/10\n",
            "\u001b[1m1342/1342\u001b[0m \u001b[32m━━━━━━━━━━━━━━━━━━━━\u001b[0m\u001b[37m\u001b[0m \u001b[1m53s\u001b[0m 39ms/step - accuracy: 0.9596 - loss: 0.1522 - val_accuracy: 0.9166 - val_loss: 0.2712\n"
          ]
        },
        {
          "name": "stderr",
          "output_type": "stream",
          "text": [
            "[I 2024-11-01 19:13:29,578] Trial 49 finished with value: 0.9334481954574585 and parameters: {'embedding_dim': 64, 'filters_1': 20, 'filters_2': 20, 'kernel_size1': 5, 'kernel_size_2': 3, 'kernel_reg_1': 0.001, 'dense_1': 128, 'dense_2': 64, 'dropout_1': 0.4, 'dropout_2': 0.5, 'learning_rate': 0.001, 'batch_size': 64, 'epochs': 10}. Best is trial 34 with value: 0.9352179765701294.\n"
          ]
        },
        {
          "name": "stdout",
          "output_type": "stream",
          "text": [
            "Epoch 1/5\n"
          ]
        },
        {
          "name": "stderr",
          "output_type": "stream",
          "text": [
            "c:\\Users\\spooj\\Downloads\\dsa4266\\fake_news\\lib\\site-packages\\keras\\src\\models\\functional.py:225: UserWarning: The structure of `inputs` doesn't match the expected structure: ['keras_tensor_960', 'keras_tensor_964']. Received: the structure of inputs=('*', '*')\n",
            "  warnings.warn(\n"
          ]
        },
        {
          "name": "stdout",
          "output_type": "stream",
          "text": [
            "\u001b[1m1342/1342\u001b[0m \u001b[32m━━━━━━━━━━━━━━━━━━━━\u001b[0m\u001b[37m\u001b[0m \u001b[1m124s\u001b[0m 86ms/step - accuracy: 0.5176 - loss: 0.9656 - val_accuracy: 0.5694 - val_loss: 0.7514\n",
            "Epoch 2/5\n",
            "\u001b[1m1342/1342\u001b[0m \u001b[32m━━━━━━━━━━━━━━━━━━━━\u001b[0m\u001b[37m\u001b[0m \u001b[1m112s\u001b[0m 83ms/step - accuracy: 0.5540 - loss: 0.7394 - val_accuracy: 0.6615 - val_loss: 0.6664\n",
            "Epoch 3/5\n",
            "\u001b[1m1342/1342\u001b[0m \u001b[32m━━━━━━━━━━━━━━━━━━━━\u001b[0m\u001b[37m\u001b[0m \u001b[1m111s\u001b[0m 83ms/step - accuracy: 0.7797 - loss: 0.5201 - val_accuracy: 0.9127 - val_loss: 0.3131\n",
            "Epoch 4/5\n",
            "\u001b[1m1342/1342\u001b[0m \u001b[32m━━━━━━━━━━━━━━━━━━━━\u001b[0m\u001b[37m\u001b[0m \u001b[1m112s\u001b[0m 83ms/step - accuracy: 0.9126 - loss: 0.3150 - val_accuracy: 0.9213 - val_loss: 0.2866\n",
            "Epoch 5/5\n",
            "\u001b[1m1342/1342\u001b[0m \u001b[32m━━━━━━━━━━━━━━━━━━━━\u001b[0m\u001b[37m\u001b[0m \u001b[1m110s\u001b[0m 82ms/step - accuracy: 0.9266 - loss: 0.2791 - val_accuracy: 0.9226 - val_loss: 0.2785\n"
          ]
        },
        {
          "name": "stderr",
          "output_type": "stream",
          "text": [
            "[I 2024-11-01 19:22:59,998] Trial 50 finished with value: 0.9226434230804443 and parameters: {'embedding_dim': 256, 'filters_1': 10, 'filters_2': 10, 'kernel_size1': 5, 'kernel_size_2': 5, 'kernel_reg_1': 0.01, 'dense_1': 128, 'dense_2': 64, 'dropout_1': 0.6, 'dropout_2': 0.5, 'learning_rate': 0.0001, 'batch_size': 64, 'epochs': 5}. Best is trial 34 with value: 0.9352179765701294.\n"
          ]
        },
        {
          "name": "stdout",
          "output_type": "stream",
          "text": [
            "Epoch 1/10\n"
          ]
        },
        {
          "name": "stderr",
          "output_type": "stream",
          "text": [
            "c:\\Users\\spooj\\Downloads\\dsa4266\\fake_news\\lib\\site-packages\\keras\\src\\models\\functional.py:225: UserWarning: The structure of `inputs` doesn't match the expected structure: ['keras_tensor_976', 'keras_tensor_980']. Received: the structure of inputs=('*', '*')\n",
            "  warnings.warn(\n"
          ]
        },
        {
          "name": "stdout",
          "output_type": "stream",
          "text": [
            "\u001b[1m1342/1342\u001b[0m \u001b[32m━━━━━━━━━━━━━━━━━━━━\u001b[0m\u001b[37m\u001b[0m \u001b[1m86s\u001b[0m 58ms/step - accuracy: 0.7515 - loss: 0.4879 - val_accuracy: 0.9322 - val_loss: 0.2418\n",
            "Epoch 2/10\n",
            "\u001b[1m1342/1342\u001b[0m \u001b[32m━━━━━━━━━━━━━━━━━━━━\u001b[0m\u001b[37m\u001b[0m \u001b[1m70s\u001b[0m 52ms/step - accuracy: 0.9438 - loss: 0.2096 - val_accuracy: 0.9329 - val_loss: 0.2331\n",
            "Epoch 3/10\n",
            "\u001b[1m1342/1342\u001b[0m \u001b[32m━━━━━━━━━━━━━━━━━━━━\u001b[0m\u001b[37m\u001b[0m \u001b[1m71s\u001b[0m 53ms/step - accuracy: 0.9514 - loss: 0.1848 - val_accuracy: 0.9251 - val_loss: 0.2488\n",
            "Epoch 4/10\n",
            "\u001b[1m1342/1342\u001b[0m \u001b[32m━━━━━━━━━━━━━━━━━━━━\u001b[0m\u001b[37m\u001b[0m \u001b[1m70s\u001b[0m 52ms/step - accuracy: 0.9581 - loss: 0.1573 - val_accuracy: 0.9105 - val_loss: 0.2876\n",
            "Epoch 5/10\n",
            "\u001b[1m1342/1342\u001b[0m \u001b[32m━━━━━━━━━━━━━━━━━━━━\u001b[0m\u001b[37m\u001b[0m \u001b[1m68s\u001b[0m 51ms/step - accuracy: 0.9650 - loss: 0.1325 - val_accuracy: 0.9084 - val_loss: 0.3171\n"
          ]
        },
        {
          "name": "stderr",
          "output_type": "stream",
          "text": [
            "[I 2024-11-01 19:29:05,616] Trial 51 finished with value: 0.932935893535614 and parameters: {'embedding_dim': 128, 'filters_1': 20, 'filters_2': 20, 'kernel_size1': 5, 'kernel_size_2': 5, 'kernel_reg_1': 0.001, 'dense_1': 128, 'dense_2': 64, 'dropout_1': 0.4, 'dropout_2': 0.5, 'learning_rate': 0.001, 'batch_size': 64, 'epochs': 10}. Best is trial 34 with value: 0.9352179765701294.\n"
          ]
        },
        {
          "name": "stdout",
          "output_type": "stream",
          "text": [
            "Epoch 1/10\n"
          ]
        },
        {
          "name": "stderr",
          "output_type": "stream",
          "text": [
            "c:\\Users\\spooj\\Downloads\\dsa4266\\fake_news\\lib\\site-packages\\keras\\src\\models\\functional.py:225: UserWarning: The structure of `inputs` doesn't match the expected structure: ['keras_tensor_992', 'keras_tensor_996']. Received: the structure of inputs=('*', '*')\n",
            "  warnings.warn(\n"
          ]
        },
        {
          "name": "stdout",
          "output_type": "stream",
          "text": [
            "\u001b[1m1342/1342\u001b[0m \u001b[32m━━━━━━━━━━━━━━━━━━━━\u001b[0m\u001b[37m\u001b[0m \u001b[1m74s\u001b[0m 50ms/step - accuracy: 0.7755 - loss: 0.4658 - val_accuracy: 0.9338 - val_loss: 0.2397\n",
            "Epoch 2/10\n",
            "\u001b[1m1342/1342\u001b[0m \u001b[32m━━━━━━━━━━━━━━━━━━━━\u001b[0m\u001b[37m\u001b[0m \u001b[1m72s\u001b[0m 54ms/step - accuracy: 0.9444 - loss: 0.2069 - val_accuracy: 0.9306 - val_loss: 0.2353\n",
            "Epoch 3/10\n",
            "\u001b[1m1342/1342\u001b[0m \u001b[32m━━━━━━━━━━━━━━━━━━━━\u001b[0m\u001b[37m\u001b[0m \u001b[1m70s\u001b[0m 52ms/step - accuracy: 0.9523 - loss: 0.1804 - val_accuracy: 0.9236 - val_loss: 0.2529\n",
            "Epoch 4/10\n",
            "\u001b[1m1342/1342\u001b[0m \u001b[32m━━━━━━━━━━━━━━━━━━━━\u001b[0m\u001b[37m\u001b[0m \u001b[1m72s\u001b[0m 53ms/step - accuracy: 0.9604 - loss: 0.1518 - val_accuracy: 0.9175 - val_loss: 0.2793\n"
          ]
        },
        {
          "name": "stderr",
          "output_type": "stream",
          "text": [
            "[I 2024-11-01 19:33:54,295] Trial 52 finished with value: 0.9337742328643799 and parameters: {'embedding_dim': 128, 'filters_1': 20, 'filters_2': 20, 'kernel_size1': 5, 'kernel_size_2': 5, 'kernel_reg_1': 0.001, 'dense_1': 128, 'dense_2': 64, 'dropout_1': 0.4, 'dropout_2': 0.5, 'learning_rate': 0.001, 'batch_size': 64, 'epochs': 10}. Best is trial 34 with value: 0.9352179765701294.\n"
          ]
        },
        {
          "name": "stdout",
          "output_type": "stream",
          "text": [
            "Epoch 1/10\n"
          ]
        },
        {
          "name": "stderr",
          "output_type": "stream",
          "text": [
            "c:\\Users\\spooj\\Downloads\\dsa4266\\fake_news\\lib\\site-packages\\keras\\src\\models\\functional.py:225: UserWarning: The structure of `inputs` doesn't match the expected structure: ['keras_tensor_1008', 'keras_tensor_1012']. Received: the structure of inputs=('*', '*')\n",
            "  warnings.warn(\n"
          ]
        },
        {
          "name": "stdout",
          "output_type": "stream",
          "text": [
            "\u001b[1m1342/1342\u001b[0m \u001b[32m━━━━━━━━━━━━━━━━━━━━\u001b[0m\u001b[37m\u001b[0m \u001b[1m80s\u001b[0m 54ms/step - accuracy: 0.7636 - loss: 0.4756 - val_accuracy: 0.9333 - val_loss: 0.2471\n",
            "Epoch 2/10\n",
            "\u001b[1m1342/1342\u001b[0m \u001b[32m━━━━━━━━━━━━━━━━━━━━\u001b[0m\u001b[37m\u001b[0m \u001b[1m73s\u001b[0m 54ms/step - accuracy: 0.9442 - loss: 0.2113 - val_accuracy: 0.9318 - val_loss: 0.2391\n",
            "Epoch 3/10\n",
            "\u001b[1m1342/1342\u001b[0m \u001b[32m━━━━━━━━━━━━━━━━━━━━\u001b[0m\u001b[37m\u001b[0m \u001b[1m72s\u001b[0m 53ms/step - accuracy: 0.9526 - loss: 0.1790 - val_accuracy: 0.9271 - val_loss: 0.2476\n",
            "Epoch 4/10\n",
            "\u001b[1m1342/1342\u001b[0m \u001b[32m━━━━━━━━━━━━━━━━━━━━\u001b[0m\u001b[37m\u001b[0m \u001b[1m72s\u001b[0m 54ms/step - accuracy: 0.9595 - loss: 0.1523 - val_accuracy: 0.9150 - val_loss: 0.2809\n"
          ]
        },
        {
          "name": "stderr",
          "output_type": "stream",
          "text": [
            "[I 2024-11-01 19:38:51,561] Trial 53 finished with value: 0.9332619309425354 and parameters: {'embedding_dim': 128, 'filters_1': 20, 'filters_2': 20, 'kernel_size1': 5, 'kernel_size_2': 5, 'kernel_reg_1': 0.001, 'dense_1': 128, 'dense_2': 64, 'dropout_1': 0.4, 'dropout_2': 0.5, 'learning_rate': 0.001, 'batch_size': 64, 'epochs': 10}. Best is trial 34 with value: 0.9352179765701294.\n"
          ]
        },
        {
          "name": "stdout",
          "output_type": "stream",
          "text": [
            "Epoch 1/10\n"
          ]
        },
        {
          "name": "stderr",
          "output_type": "stream",
          "text": [
            "c:\\Users\\spooj\\Downloads\\dsa4266\\fake_news\\lib\\site-packages\\keras\\src\\models\\functional.py:225: UserWarning: The structure of `inputs` doesn't match the expected structure: ['keras_tensor_1024', 'keras_tensor_1028']. Received: the structure of inputs=('*', '*')\n",
            "  warnings.warn(\n"
          ]
        },
        {
          "name": "stdout",
          "output_type": "stream",
          "text": [
            "\u001b[1m1342/1342\u001b[0m \u001b[32m━━━━━━━━━━━━━━━━━━━━\u001b[0m\u001b[37m\u001b[0m \u001b[1m82s\u001b[0m 55ms/step - accuracy: 0.7733 - loss: 0.4702 - val_accuracy: 0.9318 - val_loss: 0.2416\n",
            "Epoch 2/10\n",
            "\u001b[1m1342/1342\u001b[0m \u001b[32m━━━━━━━━━━━━━━━━━━━━\u001b[0m\u001b[37m\u001b[0m \u001b[1m75s\u001b[0m 56ms/step - accuracy: 0.9438 - loss: 0.2107 - val_accuracy: 0.9297 - val_loss: 0.2434\n",
            "Epoch 3/10\n",
            "\u001b[1m1342/1342\u001b[0m \u001b[32m━━━━━━━━━━━━━━━━━━━━\u001b[0m\u001b[37m\u001b[0m \u001b[1m72s\u001b[0m 54ms/step - accuracy: 0.9528 - loss: 0.1778 - val_accuracy: 0.9245 - val_loss: 0.2516\n",
            "Epoch 4/10\n",
            "\u001b[1m1342/1342\u001b[0m \u001b[32m━━━━━━━━━━━━━━━━━━━━\u001b[0m\u001b[37m\u001b[0m \u001b[1m74s\u001b[0m 55ms/step - accuracy: 0.9596 - loss: 0.1520 - val_accuracy: 0.9153 - val_loss: 0.2813\n"
          ]
        },
        {
          "name": "stderr",
          "output_type": "stream",
          "text": [
            "[I 2024-11-01 19:43:55,153] Trial 54 finished with value: 0.9318181872367859 and parameters: {'embedding_dim': 128, 'filters_1': 20, 'filters_2': 20, 'kernel_size1': 5, 'kernel_size_2': 5, 'kernel_reg_1': 0.001, 'dense_1': 128, 'dense_2': 64, 'dropout_1': 0.4, 'dropout_2': 0.5, 'learning_rate': 0.001, 'batch_size': 64, 'epochs': 10}. Best is trial 34 with value: 0.9352179765701294.\n"
          ]
        },
        {
          "name": "stdout",
          "output_type": "stream",
          "text": [
            "Epoch 1/10\n"
          ]
        },
        {
          "name": "stderr",
          "output_type": "stream",
          "text": [
            "c:\\Users\\spooj\\Downloads\\dsa4266\\fake_news\\lib\\site-packages\\keras\\src\\models\\functional.py:225: UserWarning: The structure of `inputs` doesn't match the expected structure: ['keras_tensor_1040', 'keras_tensor_1044']. Received: the structure of inputs=('*', '*')\n",
            "  warnings.warn(\n"
          ]
        },
        {
          "name": "stdout",
          "output_type": "stream",
          "text": [
            "\u001b[1m1342/1342\u001b[0m \u001b[32m━━━━━━━━━━━━━━━━━━━━\u001b[0m\u001b[37m\u001b[0m \u001b[1m72s\u001b[0m 49ms/step - accuracy: 0.7310 - loss: 0.5082 - val_accuracy: 0.9260 - val_loss: 0.2534\n",
            "Epoch 2/10\n",
            "\u001b[1m1342/1342\u001b[0m \u001b[32m━━━━━━━━━━━━━━━━━━━━\u001b[0m\u001b[37m\u001b[0m \u001b[1m65s\u001b[0m 48ms/step - accuracy: 0.9386 - loss: 0.2244 - val_accuracy: 0.9294 - val_loss: 0.2421\n",
            "Epoch 3/10\n",
            "\u001b[1m1342/1342\u001b[0m \u001b[32m━━━━━━━━━━━━━━━━━━━━\u001b[0m\u001b[37m\u001b[0m \u001b[1m63s\u001b[0m 47ms/step - accuracy: 0.9489 - loss: 0.1903 - val_accuracy: 0.9261 - val_loss: 0.2493\n",
            "Epoch 4/10\n",
            "\u001b[1m1342/1342\u001b[0m \u001b[32m━━━━━━━━━━━━━━━━━━━━\u001b[0m\u001b[37m\u001b[0m \u001b[1m64s\u001b[0m 48ms/step - accuracy: 0.9571 - loss: 0.1621 - val_accuracy: 0.9175 - val_loss: 0.2653\n",
            "Epoch 5/10\n",
            "\u001b[1m1342/1342\u001b[0m \u001b[32m━━━━━━━━━━━━━━━━━━━━\u001b[0m\u001b[37m\u001b[0m \u001b[1m64s\u001b[0m 47ms/step - accuracy: 0.9649 - loss: 0.1368 - val_accuracy: 0.9083 - val_loss: 0.2935\n"
          ]
        },
        {
          "name": "stderr",
          "output_type": "stream",
          "text": [
            "[I 2024-11-01 19:49:23,871] Trial 55 finished with value: 0.9294430017471313 and parameters: {'embedding_dim': 128, 'filters_1': 5, 'filters_2': 5, 'kernel_size1': 5, 'kernel_size_2': 5, 'kernel_reg_1': 0.001, 'dense_1': 128, 'dense_2': 64, 'dropout_1': 0.4, 'dropout_2': 0.4, 'learning_rate': 0.001, 'batch_size': 64, 'epochs': 10}. Best is trial 34 with value: 0.9352179765701294.\n"
          ]
        },
        {
          "name": "stdout",
          "output_type": "stream",
          "text": [
            "Epoch 1/10\n"
          ]
        },
        {
          "name": "stderr",
          "output_type": "stream",
          "text": [
            "c:\\Users\\spooj\\Downloads\\dsa4266\\fake_news\\lib\\site-packages\\keras\\src\\models\\functional.py:225: UserWarning: The structure of `inputs` doesn't match the expected structure: ['keras_tensor_1056', 'keras_tensor_1060']. Received: the structure of inputs=('*', '*')\n",
            "  warnings.warn(\n"
          ]
        },
        {
          "name": "stdout",
          "output_type": "stream",
          "text": [
            "\u001b[1m1342/1342\u001b[0m \u001b[32m━━━━━━━━━━━━━━━━━━━━\u001b[0m\u001b[37m\u001b[0m \u001b[1m169s\u001b[0m 121ms/step - accuracy: 0.8018 - loss: 0.4485 - val_accuracy: 0.9333 - val_loss: 0.2549\n",
            "Epoch 2/10\n",
            "\u001b[1m1342/1342\u001b[0m \u001b[32m━━━━━━━━━━━━━━━━━━━━\u001b[0m\u001b[37m\u001b[0m \u001b[1m159s\u001b[0m 118ms/step - accuracy: 0.9423 - loss: 0.2173 - val_accuracy: 0.9310 - val_loss: 0.2451\n",
            "Epoch 3/10\n",
            "\u001b[1m1342/1342\u001b[0m \u001b[32m━━━━━━━━━━━━━━━━━━━━\u001b[0m\u001b[37m\u001b[0m \u001b[1m161s\u001b[0m 120ms/step - accuracy: 0.9525 - loss: 0.1779 - val_accuracy: 0.9233 - val_loss: 0.2564\n",
            "Epoch 4/10\n",
            "\u001b[1m1342/1342\u001b[0m \u001b[32m━━━━━━━━━━━━━━━━━━━━\u001b[0m\u001b[37m\u001b[0m \u001b[1m160s\u001b[0m 119ms/step - accuracy: 0.9597 - loss: 0.1484 - val_accuracy: 0.9121 - val_loss: 0.2858\n"
          ]
        },
        {
          "name": "stderr",
          "output_type": "stream",
          "text": [
            "[I 2024-11-01 20:00:12,804] Trial 56 finished with value: 0.933308482170105 and parameters: {'embedding_dim': 256, 'filters_1': 20, 'filters_2': 20, 'kernel_size1': 15, 'kernel_size_2': 3, 'kernel_reg_1': 0.001, 'dense_1': 128, 'dense_2': 64, 'dropout_1': 0.4, 'dropout_2': 0.5, 'learning_rate': 0.001, 'batch_size': 64, 'epochs': 10}. Best is trial 34 with value: 0.9352179765701294.\n"
          ]
        },
        {
          "name": "stdout",
          "output_type": "stream",
          "text": [
            "Epoch 1/5\n"
          ]
        },
        {
          "name": "stderr",
          "output_type": "stream",
          "text": [
            "c:\\Users\\spooj\\Downloads\\dsa4266\\fake_news\\lib\\site-packages\\keras\\src\\models\\functional.py:225: UserWarning: The structure of `inputs` doesn't match the expected structure: ['keras_tensor_1072', 'keras_tensor_1076']. Received: the structure of inputs=('*', '*')\n",
            "  warnings.warn(\n"
          ]
        },
        {
          "name": "stdout",
          "output_type": "stream",
          "text": [
            "\u001b[1m1342/1342\u001b[0m \u001b[32m━━━━━━━━━━━━━━━━━━━━\u001b[0m\u001b[37m\u001b[0m \u001b[1m98s\u001b[0m 60ms/step - accuracy: 0.7905 - loss: 0.4543 - val_accuracy: 0.9339 - val_loss: 0.2385\n",
            "Epoch 2/5\n",
            "\u001b[1m1342/1342\u001b[0m \u001b[32m━━━━━━━━━━━━━━━━━━━━\u001b[0m\u001b[37m\u001b[0m \u001b[1m78s\u001b[0m 58ms/step - accuracy: 0.9435 - loss: 0.2118 - val_accuracy: 0.9312 - val_loss: 0.2373\n",
            "Epoch 3/5\n",
            "\u001b[1m1342/1342\u001b[0m \u001b[32m━━━━━━━━━━━━━━━━━━━━\u001b[0m\u001b[37m\u001b[0m \u001b[1m79s\u001b[0m 59ms/step - accuracy: 0.9529 - loss: 0.1761 - val_accuracy: 0.9244 - val_loss: 0.2553\n",
            "Epoch 4/5\n",
            "\u001b[1m1342/1342\u001b[0m \u001b[32m━━━━━━━━━━━━━━━━━━━━\u001b[0m\u001b[37m\u001b[0m \u001b[1m78s\u001b[0m 58ms/step - accuracy: 0.9603 - loss: 0.1492 - val_accuracy: 0.9151 - val_loss: 0.2833\n"
          ]
        },
        {
          "name": "stderr",
          "output_type": "stream",
          "text": [
            "[I 2024-11-01 20:05:46,571] Trial 57 finished with value: 0.9339139461517334 and parameters: {'embedding_dim': 128, 'filters_1': 20, 'filters_2': 20, 'kernel_size1': 7, 'kernel_size_2': 5, 'kernel_reg_1': 0.001, 'dense_1': 128, 'dense_2': 64, 'dropout_1': 0.4, 'dropout_2': 0.4, 'learning_rate': 0.001, 'batch_size': 64, 'epochs': 5}. Best is trial 34 with value: 0.9352179765701294.\n"
          ]
        },
        {
          "name": "stdout",
          "output_type": "stream",
          "text": [
            "Epoch 1/10\n"
          ]
        },
        {
          "name": "stderr",
          "output_type": "stream",
          "text": [
            "c:\\Users\\spooj\\Downloads\\dsa4266\\fake_news\\lib\\site-packages\\keras\\src\\models\\functional.py:225: UserWarning: The structure of `inputs` doesn't match the expected structure: ['keras_tensor_1088', 'keras_tensor_1092']. Received: the structure of inputs=('*', '*')\n",
            "  warnings.warn(\n"
          ]
        },
        {
          "name": "stdout",
          "output_type": "stream",
          "text": [
            "\u001b[1m2684/2684\u001b[0m \u001b[32m━━━━━━━━━━━━━━━━━━━━\u001b[0m\u001b[37m\u001b[0m \u001b[1m227s\u001b[0m 82ms/step - accuracy: 0.8318 - loss: 0.4001 - val_accuracy: 0.9330 - val_loss: 0.2337\n",
            "Epoch 2/10\n",
            "\u001b[1m2684/2684\u001b[0m \u001b[32m━━━━━━━━━━━━━━━━━━━━\u001b[0m\u001b[37m\u001b[0m \u001b[1m203s\u001b[0m 76ms/step - accuracy: 0.9435 - loss: 0.2098 - val_accuracy: 0.9310 - val_loss: 0.2425\n",
            "Epoch 3/10\n",
            "\u001b[1m2684/2684\u001b[0m \u001b[32m━━━━━━━━━━━━━━━━━━━━\u001b[0m\u001b[37m\u001b[0m \u001b[1m219s\u001b[0m 81ms/step - accuracy: 0.9504 - loss: 0.1859 - val_accuracy: 0.9270 - val_loss: 0.2471\n",
            "Epoch 4/10\n",
            "\u001b[1m2684/2684\u001b[0m \u001b[32m━━━━━━━━━━━━━━━━━━━━\u001b[0m\u001b[37m\u001b[0m \u001b[1m222s\u001b[0m 83ms/step - accuracy: 0.9589 - loss: 0.1537 - val_accuracy: 0.9148 - val_loss: 0.2746\n"
          ]
        },
        {
          "name": "stderr",
          "output_type": "stream",
          "text": [
            "[I 2024-11-01 20:20:17,880] Trial 58 finished with value: 0.933029055595398 and parameters: {'embedding_dim': 256, 'filters_1': 20, 'filters_2': 20, 'kernel_size1': 7, 'kernel_size_2': 5, 'kernel_reg_1': 0.001, 'dense_1': 128, 'dense_2': 64, 'dropout_1': 0.4, 'dropout_2': 0.4, 'learning_rate': 0.001, 'batch_size': 32, 'epochs': 10}. Best is trial 34 with value: 0.9352179765701294.\n"
          ]
        },
        {
          "name": "stdout",
          "output_type": "stream",
          "text": [
            "Epoch 1/20\n"
          ]
        },
        {
          "name": "stderr",
          "output_type": "stream",
          "text": [
            "c:\\Users\\spooj\\Downloads\\dsa4266\\fake_news\\lib\\site-packages\\keras\\src\\models\\functional.py:225: UserWarning: The structure of `inputs` doesn't match the expected structure: ['keras_tensor_1104', 'keras_tensor_1108']. Received: the structure of inputs=('*', '*')\n",
            "  warnings.warn(\n"
          ]
        },
        {
          "name": "stdout",
          "output_type": "stream",
          "text": [
            "\u001b[1m1342/1342\u001b[0m \u001b[32m━━━━━━━━━━━━━━━━━━━━\u001b[0m\u001b[37m\u001b[0m \u001b[1m77s\u001b[0m 52ms/step - accuracy: 0.7755 - loss: 0.4737 - val_accuracy: 0.9330 - val_loss: 0.2786\n",
            "Epoch 2/20\n",
            "\u001b[1m1342/1342\u001b[0m \u001b[32m━━━━━━━━━━━━━━━━━━━━\u001b[0m\u001b[37m\u001b[0m \u001b[1m53s\u001b[0m 40ms/step - accuracy: 0.9409 - loss: 0.2195 - val_accuracy: 0.9315 - val_loss: 0.2803\n",
            "Epoch 3/20\n",
            "\u001b[1m1342/1342\u001b[0m \u001b[32m━━━━━━━━━━━━━━━━━━━━\u001b[0m\u001b[37m\u001b[0m \u001b[1m53s\u001b[0m 40ms/step - accuracy: 0.9505 - loss: 0.1834 - val_accuracy: 0.9227 - val_loss: 0.2633\n",
            "Epoch 4/20\n",
            "\u001b[1m1342/1342\u001b[0m \u001b[32m━━━━━━━━━━━━━━━━━━━━\u001b[0m\u001b[37m\u001b[0m \u001b[1m52s\u001b[0m 38ms/step - accuracy: 0.9577 - loss: 0.1573 - val_accuracy: 0.9167 - val_loss: 0.2799\n"
          ]
        },
        {
          "name": "stderr",
          "output_type": "stream",
          "text": [
            "[I 2024-11-01 20:24:14,228] Trial 59 finished with value: 0.933029055595398 and parameters: {'embedding_dim': 128, 'filters_1': 5, 'filters_2': 20, 'kernel_size1': 5, 'kernel_size_2': 5, 'kernel_reg_1': 0.001, 'dense_1': 64, 'dense_2': 64, 'dropout_1': 0.4, 'dropout_2': 0.5, 'learning_rate': 0.001, 'batch_size': 64, 'epochs': 20}. Best is trial 34 with value: 0.9352179765701294.\n"
          ]
        },
        {
          "name": "stdout",
          "output_type": "stream",
          "text": [
            "Epoch 1/5\n"
          ]
        },
        {
          "name": "stderr",
          "output_type": "stream",
          "text": [
            "c:\\Users\\spooj\\Downloads\\dsa4266\\fake_news\\lib\\site-packages\\keras\\src\\models\\functional.py:225: UserWarning: The structure of `inputs` doesn't match the expected structure: ['keras_tensor_1120', 'keras_tensor_1124']. Received: the structure of inputs=('*', '*')\n",
            "  warnings.warn(\n"
          ]
        },
        {
          "name": "stdout",
          "output_type": "stream",
          "text": [
            "\u001b[1m1342/1342\u001b[0m \u001b[32m━━━━━━━━━━━━━━━━━━━━\u001b[0m\u001b[37m\u001b[0m \u001b[1m44s\u001b[0m 31ms/step - accuracy: 0.5285 - loss: 0.7585 - val_accuracy: 0.6096 - val_loss: 0.6729\n",
            "Epoch 2/5\n",
            "\u001b[1m1342/1342\u001b[0m \u001b[32m━━━━━━━━━━━━━━━━━━━━\u001b[0m\u001b[37m\u001b[0m \u001b[1m48s\u001b[0m 36ms/step - accuracy: 0.7557 - loss: 0.4949 - val_accuracy: 0.9191 - val_loss: 0.2719\n",
            "Epoch 3/5\n",
            "\u001b[1m1342/1342\u001b[0m \u001b[32m━━━━━━━━━━━━━━━━━━━━\u001b[0m\u001b[37m\u001b[0m \u001b[1m45s\u001b[0m 34ms/step - accuracy: 0.9258 - loss: 0.2652 - val_accuracy: 0.9271 - val_loss: 0.2525\n",
            "Epoch 4/5\n",
            "\u001b[1m1342/1342\u001b[0m \u001b[32m━━━━━━━━━━━━━━━━━━━━\u001b[0m\u001b[37m\u001b[0m \u001b[1m54s\u001b[0m 40ms/step - accuracy: 0.9403 - loss: 0.2298 - val_accuracy: 0.9279 - val_loss: 0.2501\n",
            "Epoch 5/5\n",
            "\u001b[1m1342/1342\u001b[0m \u001b[32m━━━━━━━━━━━━━━━━━━━━\u001b[0m\u001b[37m\u001b[0m \u001b[1m56s\u001b[0m 42ms/step - accuracy: 0.9448 - loss: 0.2132 - val_accuracy: 0.9264 - val_loss: 0.2512\n"
          ]
        },
        {
          "name": "stderr",
          "output_type": "stream",
          "text": [
            "[I 2024-11-01 20:28:22,797] Trial 60 finished with value: 0.9279060959815979 and parameters: {'embedding_dim': 64, 'filters_1': 20, 'filters_2': 5, 'kernel_size1': 7, 'kernel_size_2': 7, 'kernel_reg_1': 0.001, 'dense_1': 128, 'dense_2': 64, 'dropout_1': 0.6, 'dropout_2': 0.4, 'learning_rate': 0.00015, 'batch_size': 64, 'epochs': 5}. Best is trial 34 with value: 0.9352179765701294.\n"
          ]
        },
        {
          "name": "stdout",
          "output_type": "stream",
          "text": [
            "Epoch 1/20\n"
          ]
        },
        {
          "name": "stderr",
          "output_type": "stream",
          "text": [
            "c:\\Users\\spooj\\Downloads\\dsa4266\\fake_news\\lib\\site-packages\\keras\\src\\models\\functional.py:225: UserWarning: The structure of `inputs` doesn't match the expected structure: ['keras_tensor_1136', 'keras_tensor_1140']. Received: the structure of inputs=('*', '*')\n",
            "  warnings.warn(\n"
          ]
        },
        {
          "name": "stdout",
          "output_type": "stream",
          "text": [
            "\u001b[1m5368/5368\u001b[0m \u001b[32m━━━━━━━━━━━━━━━━━━━━\u001b[0m\u001b[37m\u001b[0m \u001b[1m414s\u001b[0m 76ms/step - accuracy: 0.8445 - loss: 0.3827 - val_accuracy: 0.9334 - val_loss: 0.2335\n",
            "Epoch 2/20\n",
            "\u001b[1m5368/5368\u001b[0m \u001b[32m━━━━━━━━━━━━━━━━━━━━\u001b[0m\u001b[37m\u001b[0m \u001b[1m392s\u001b[0m 73ms/step - accuracy: 0.9424 - loss: 0.2153 - val_accuracy: 0.9317 - val_loss: 0.2375\n",
            "Epoch 3/20\n",
            "\u001b[1m5368/5368\u001b[0m \u001b[32m━━━━━━━━━━━━━━━━━━━━\u001b[0m\u001b[37m\u001b[0m \u001b[1m362s\u001b[0m 67ms/step - accuracy: 0.9501 - loss: 0.1871 - val_accuracy: 0.9265 - val_loss: 0.2461\n",
            "Epoch 4/20\n",
            "\u001b[1m5368/5368\u001b[0m \u001b[32m━━━━━━━━━━━━━━━━━━━━\u001b[0m\u001b[37m\u001b[0m \u001b[1m320s\u001b[0m 60ms/step - accuracy: 0.9574 - loss: 0.1571 - val_accuracy: 0.9190 - val_loss: 0.2740\n"
          ]
        },
        {
          "name": "stderr",
          "output_type": "stream",
          "text": [
            "[I 2024-11-01 20:53:12,465] Trial 61 finished with value: 0.9333550930023193 and parameters: {'embedding_dim': 256, 'filters_1': 20, 'filters_2': 20, 'kernel_size1': 7, 'kernel_size_2': 5, 'kernel_reg_1': 0.001, 'dense_1': 128, 'dense_2': 32, 'dropout_1': 0.4, 'dropout_2': 0.4, 'learning_rate': 0.001, 'batch_size': 16, 'epochs': 20}. Best is trial 34 with value: 0.9352179765701294.\n"
          ]
        },
        {
          "name": "stdout",
          "output_type": "stream",
          "text": [
            "Epoch 1/20\n"
          ]
        },
        {
          "name": "stderr",
          "output_type": "stream",
          "text": [
            "c:\\Users\\spooj\\Downloads\\dsa4266\\fake_news\\lib\\site-packages\\keras\\src\\models\\functional.py:225: UserWarning: The structure of `inputs` doesn't match the expected structure: ['keras_tensor_1152', 'keras_tensor_1156']. Received: the structure of inputs=('*', '*')\n",
            "  warnings.warn(\n"
          ]
        },
        {
          "name": "stdout",
          "output_type": "stream",
          "text": [
            "\u001b[1m5368/5368\u001b[0m \u001b[32m━━━━━━━━━━━━━━━━━━━━\u001b[0m\u001b[37m\u001b[0m \u001b[1m332s\u001b[0m 61ms/step - accuracy: 0.8465 - loss: 0.3858 - val_accuracy: 0.9341 - val_loss: 0.2325\n",
            "Epoch 2/20\n",
            "\u001b[1m5368/5368\u001b[0m \u001b[32m━━━━━━━━━━━━━━━━━━━━\u001b[0m\u001b[37m\u001b[0m \u001b[1m315s\u001b[0m 59ms/step - accuracy: 0.9417 - loss: 0.2124 - val_accuracy: 0.9337 - val_loss: 0.2335\n",
            "Epoch 3/20\n",
            "\u001b[1m5368/5368\u001b[0m \u001b[32m━━━━━━━━━━━━━━━━━━━━\u001b[0m\u001b[37m\u001b[0m \u001b[1m318s\u001b[0m 59ms/step - accuracy: 0.9494 - loss: 0.1885 - val_accuracy: 0.9269 - val_loss: 0.2502\n",
            "Epoch 4/20\n",
            "\u001b[1m5368/5368\u001b[0m \u001b[32m━━━━━━━━━━━━━━━━━━━━\u001b[0m\u001b[37m\u001b[0m \u001b[1m468s\u001b[0m 87ms/step - accuracy: 0.9555 - loss: 0.1633 - val_accuracy: 0.9197 - val_loss: 0.2717\n"
          ]
        },
        {
          "name": "stderr",
          "output_type": "stream",
          "text": [
            "[I 2024-11-01 21:17:09,993] Trial 62 finished with value: 0.9340536594390869 and parameters: {'embedding_dim': 256, 'filters_1': 20, 'filters_2': 20, 'kernel_size1': 7, 'kernel_size_2': 5, 'kernel_reg_1': 0.001, 'dense_1': 128, 'dense_2': 32, 'dropout_1': 0.4, 'dropout_2': 0.4, 'learning_rate': 0.001, 'batch_size': 16, 'epochs': 20}. Best is trial 34 with value: 0.9352179765701294.\n"
          ]
        },
        {
          "name": "stdout",
          "output_type": "stream",
          "text": [
            "Epoch 1/20\n"
          ]
        },
        {
          "name": "stderr",
          "output_type": "stream",
          "text": [
            "c:\\Users\\spooj\\Downloads\\dsa4266\\fake_news\\lib\\site-packages\\keras\\src\\models\\functional.py:225: UserWarning: The structure of `inputs` doesn't match the expected structure: ['keras_tensor_1168', 'keras_tensor_1172']. Received: the structure of inputs=('*', '*')\n",
            "  warnings.warn(\n"
          ]
        },
        {
          "name": "stdout",
          "output_type": "stream",
          "text": [
            "\u001b[1m5368/5368\u001b[0m \u001b[32m━━━━━━━━━━━━━━━━━━━━\u001b[0m\u001b[37m\u001b[0m \u001b[1m335s\u001b[0m 62ms/step - accuracy: 0.8414 - loss: 0.3847 - val_accuracy: 0.9317 - val_loss: 0.2353\n",
            "Epoch 2/20\n",
            "\u001b[1m5368/5368\u001b[0m \u001b[32m━━━━━━━━━━━━━━━━━━━━\u001b[0m\u001b[37m\u001b[0m \u001b[1m319s\u001b[0m 59ms/step - accuracy: 0.9428 - loss: 0.2116 - val_accuracy: 0.9304 - val_loss: 0.2417\n",
            "Epoch 3/20\n",
            "\u001b[1m5368/5368\u001b[0m \u001b[32m━━━━━━━━━━━━━━━━━━━━\u001b[0m\u001b[37m\u001b[0m \u001b[1m311s\u001b[0m 58ms/step - accuracy: 0.9513 - loss: 0.1844 - val_accuracy: 0.9268 - val_loss: 0.2480\n",
            "Epoch 4/20\n",
            "\u001b[1m5368/5368\u001b[0m \u001b[32m━━━━━━━━━━━━━━━━━━━━\u001b[0m\u001b[37m\u001b[0m \u001b[1m326s\u001b[0m 61ms/step - accuracy: 0.9562 - loss: 0.1618 - val_accuracy: 0.9176 - val_loss: 0.2749\n"
          ]
        },
        {
          "name": "stderr",
          "output_type": "stream",
          "text": [
            "[I 2024-11-01 21:38:40,692] Trial 63 finished with value: 0.9316784739494324 and parameters: {'embedding_dim': 256, 'filters_1': 20, 'filters_2': 20, 'kernel_size1': 7, 'kernel_size_2': 5, 'kernel_reg_1': 0.001, 'dense_1': 128, 'dense_2': 32, 'dropout_1': 0.4, 'dropout_2': 0.4, 'learning_rate': 0.001, 'batch_size': 16, 'epochs': 20}. Best is trial 34 with value: 0.9352179765701294.\n"
          ]
        },
        {
          "name": "stdout",
          "output_type": "stream",
          "text": [
            "Epoch 1/20\n"
          ]
        },
        {
          "name": "stderr",
          "output_type": "stream",
          "text": [
            "c:\\Users\\spooj\\Downloads\\dsa4266\\fake_news\\lib\\site-packages\\keras\\src\\models\\functional.py:225: UserWarning: The structure of `inputs` doesn't match the expected structure: ['keras_tensor_1184', 'keras_tensor_1188']. Received: the structure of inputs=('*', '*')\n",
            "  warnings.warn(\n"
          ]
        },
        {
          "name": "stdout",
          "output_type": "stream",
          "text": [
            "\u001b[1m5368/5368\u001b[0m \u001b[32m━━━━━━━━━━━━━━━━━━━━\u001b[0m\u001b[37m\u001b[0m \u001b[1m311s\u001b[0m 57ms/step - accuracy: 0.8466 - loss: 0.3799 - val_accuracy: 0.9347 - val_loss: 0.2317\n",
            "Epoch 2/20\n",
            "\u001b[1m5368/5368\u001b[0m \u001b[32m━━━━━━━━━━━━━━━━━━━━\u001b[0m\u001b[37m\u001b[0m \u001b[1m289s\u001b[0m 54ms/step - accuracy: 0.9402 - loss: 0.2187 - val_accuracy: 0.9311 - val_loss: 0.2351\n",
            "Epoch 3/20\n",
            "\u001b[1m5368/5368\u001b[0m \u001b[32m━━━━━━━━━━━━━━━━━━━━\u001b[0m\u001b[37m\u001b[0m \u001b[1m295s\u001b[0m 55ms/step - accuracy: 0.9497 - loss: 0.1884 - val_accuracy: 0.9217 - val_loss: 0.2589\n",
            "Epoch 4/20\n",
            "\u001b[1m5368/5368\u001b[0m \u001b[32m━━━━━━━━━━━━━━━━━━━━\u001b[0m\u001b[37m\u001b[0m \u001b[1m313s\u001b[0m 58ms/step - accuracy: 0.9568 - loss: 0.1627 - val_accuracy: 0.9186 - val_loss: 0.2681\n"
          ]
        },
        {
          "name": "stderr",
          "output_type": "stream",
          "text": [
            "[I 2024-11-01 21:58:49,271] Trial 64 finished with value: 0.9346590638160706 and parameters: {'embedding_dim': 256, 'filters_1': 20, 'filters_2': 20, 'kernel_size1': 7, 'kernel_size_2': 5, 'kernel_reg_1': 0.001, 'dense_1': 128, 'dense_2': 32, 'dropout_1': 0.4, 'dropout_2': 0.4, 'learning_rate': 0.001, 'batch_size': 16, 'epochs': 20}. Best is trial 34 with value: 0.9352179765701294.\n"
          ]
        },
        {
          "name": "stdout",
          "output_type": "stream",
          "text": [
            "Epoch 1/20\n"
          ]
        },
        {
          "name": "stderr",
          "output_type": "stream",
          "text": [
            "c:\\Users\\spooj\\Downloads\\dsa4266\\fake_news\\lib\\site-packages\\keras\\src\\models\\functional.py:225: UserWarning: The structure of `inputs` doesn't match the expected structure: ['keras_tensor_1200', 'keras_tensor_1204']. Received: the structure of inputs=('*', '*')\n",
            "  warnings.warn(\n"
          ]
        },
        {
          "name": "stdout",
          "output_type": "stream",
          "text": [
            "\u001b[1m5368/5368\u001b[0m \u001b[32m━━━━━━━━━━━━━━━━━━━━\u001b[0m\u001b[37m\u001b[0m \u001b[1m318s\u001b[0m 59ms/step - accuracy: 0.8538 - loss: 0.3709 - val_accuracy: 0.9357 - val_loss: 0.2332\n",
            "Epoch 2/20\n",
            "\u001b[1m5368/5368\u001b[0m \u001b[32m━━━━━━━━━━━━━━━━━━━━\u001b[0m\u001b[37m\u001b[0m \u001b[1m353s\u001b[0m 66ms/step - accuracy: 0.9436 - loss: 0.2091 - val_accuracy: 0.9301 - val_loss: 0.2397\n",
            "Epoch 3/20\n",
            "\u001b[1m5368/5368\u001b[0m \u001b[32m━━━━━━━━━━━━━━━━━━━━\u001b[0m\u001b[37m\u001b[0m \u001b[1m318s\u001b[0m 59ms/step - accuracy: 0.9512 - loss: 0.1860 - val_accuracy: 0.9246 - val_loss: 0.2520\n",
            "Epoch 4/20\n",
            "\u001b[1m5368/5368\u001b[0m \u001b[32m━━━━━━━━━━━━━━━━━━━━\u001b[0m\u001b[37m\u001b[0m \u001b[1m346s\u001b[0m 64ms/step - accuracy: 0.9577 - loss: 0.1590 - val_accuracy: 0.9209 - val_loss: 0.2646\n"
          ]
        },
        {
          "name": "stderr",
          "output_type": "stream",
          "text": [
            "[I 2024-11-01 22:21:04,685] Trial 65 finished with value: 0.9356836676597595 and parameters: {'embedding_dim': 256, 'filters_1': 20, 'filters_2': 20, 'kernel_size1': 7, 'kernel_size_2': 3, 'kernel_reg_1': 0.001, 'dense_1': 128, 'dense_2': 32, 'dropout_1': 0.4, 'dropout_2': 0.4, 'learning_rate': 0.001, 'batch_size': 16, 'epochs': 20}. Best is trial 65 with value: 0.9356836676597595.\n"
          ]
        },
        {
          "name": "stdout",
          "output_type": "stream",
          "text": [
            "Epoch 1/20\n"
          ]
        },
        {
          "name": "stderr",
          "output_type": "stream",
          "text": [
            "c:\\Users\\spooj\\Downloads\\dsa4266\\fake_news\\lib\\site-packages\\keras\\src\\models\\functional.py:225: UserWarning: The structure of `inputs` doesn't match the expected structure: ['keras_tensor_1216', 'keras_tensor_1220']. Received: the structure of inputs=('*', '*')\n",
            "  warnings.warn(\n"
          ]
        },
        {
          "name": "stdout",
          "output_type": "stream",
          "text": [
            "\u001b[1m5368/5368\u001b[0m \u001b[32m━━━━━━━━━━━━━━━━━━━━\u001b[0m\u001b[37m\u001b[0m \u001b[1m330s\u001b[0m 61ms/step - accuracy: 0.8455 - loss: 0.3834 - val_accuracy: 0.9318 - val_loss: 0.2386\n",
            "Epoch 2/20\n",
            "\u001b[1m5368/5368\u001b[0m \u001b[32m━━━━━━━━━━━━━━━━━━━━\u001b[0m\u001b[37m\u001b[0m \u001b[1m309s\u001b[0m 57ms/step - accuracy: 0.9430 - loss: 0.2099 - val_accuracy: 0.9324 - val_loss: 0.2354\n",
            "Epoch 3/20\n",
            "\u001b[1m5368/5368\u001b[0m \u001b[32m━━━━━━━━━━━━━━━━━━━━\u001b[0m\u001b[37m\u001b[0m \u001b[1m315s\u001b[0m 59ms/step - accuracy: 0.9507 - loss: 0.1830 - val_accuracy: 0.9240 - val_loss: 0.2551\n",
            "Epoch 4/20\n",
            "\u001b[1m5368/5368\u001b[0m \u001b[32m━━━━━━━━━━━━━━━━━━━━\u001b[0m\u001b[37m\u001b[0m \u001b[1m301s\u001b[0m 56ms/step - accuracy: 0.9562 - loss: 0.1595 - val_accuracy: 0.9184 - val_loss: 0.2742\n",
            "Epoch 5/20\n",
            "\u001b[1m5368/5368\u001b[0m \u001b[32m━━━━━━━━━━━━━━━━━━━━\u001b[0m\u001b[37m\u001b[0m \u001b[1m351s\u001b[0m 65ms/step - accuracy: 0.9629 - loss: 0.1356 - val_accuracy: 0.9081 - val_loss: 0.3033\n"
          ]
        },
        {
          "name": "stderr",
          "output_type": "stream",
          "text": [
            "[I 2024-11-01 22:47:51,048] Trial 66 finished with value: 0.9323770403862 and parameters: {'embedding_dim': 256, 'filters_1': 20, 'filters_2': 20, 'kernel_size1': 7, 'kernel_size_2': 3, 'kernel_reg_1': 0.001, 'dense_1': 128, 'dense_2': 32, 'dropout_1': 0.4, 'dropout_2': 0.4, 'learning_rate': 0.001, 'batch_size': 16, 'epochs': 20}. Best is trial 65 with value: 0.9356836676597595.\n"
          ]
        },
        {
          "name": "stdout",
          "output_type": "stream",
          "text": [
            "Epoch 1/20\n"
          ]
        },
        {
          "name": "stderr",
          "output_type": "stream",
          "text": [
            "c:\\Users\\spooj\\Downloads\\dsa4266\\fake_news\\lib\\site-packages\\keras\\src\\models\\functional.py:225: UserWarning: The structure of `inputs` doesn't match the expected structure: ['keras_tensor_1232', 'keras_tensor_1236']. Received: the structure of inputs=('*', '*')\n",
            "  warnings.warn(\n"
          ]
        },
        {
          "name": "stdout",
          "output_type": "stream",
          "text": [
            "\u001b[1m5368/5368\u001b[0m \u001b[32m━━━━━━━━━━━━━━━━━━━━\u001b[0m\u001b[37m\u001b[0m \u001b[1m381s\u001b[0m 68ms/step - accuracy: 0.8278 - loss: 0.4566 - val_accuracy: 0.9295 - val_loss: 0.2498\n",
            "Epoch 2/20\n",
            "\u001b[1m5368/5368\u001b[0m \u001b[32m━━━━━━━━━━━━━━━━━━━━\u001b[0m\u001b[37m\u001b[0m \u001b[1m353s\u001b[0m 66ms/step - accuracy: 0.9387 - loss: 0.2259 - val_accuracy: 0.9299 - val_loss: 0.2418\n",
            "Epoch 3/20\n",
            "\u001b[1m5368/5368\u001b[0m \u001b[32m━━━━━━━━━━━━━━━━━━━━\u001b[0m\u001b[37m\u001b[0m \u001b[1m342s\u001b[0m 64ms/step - accuracy: 0.9464 - loss: 0.2007 - val_accuracy: 0.9311 - val_loss: 0.2406\n",
            "Epoch 4/20\n",
            "\u001b[1m5368/5368\u001b[0m \u001b[32m━━━━━━━━━━━━━━━━━━━━\u001b[0m\u001b[37m\u001b[0m \u001b[1m399s\u001b[0m 74ms/step - accuracy: 0.9512 - loss: 0.1845 - val_accuracy: 0.9250 - val_loss: 0.2572\n",
            "Epoch 5/20\n",
            "\u001b[1m5368/5368\u001b[0m \u001b[32m━━━━━━━━━━━━━━━━━━━━\u001b[0m\u001b[37m\u001b[0m \u001b[1m329s\u001b[0m 61ms/step - accuracy: 0.9560 - loss: 0.1669 - val_accuracy: 0.9170 - val_loss: 0.2706\n",
            "Epoch 6/20\n",
            "\u001b[1m5368/5368\u001b[0m \u001b[32m━━━━━━━━━━━━━━━━━━━━\u001b[0m\u001b[37m\u001b[0m \u001b[1m310s\u001b[0m 58ms/step - accuracy: 0.9584 - loss: 0.1574 - val_accuracy: 0.9141 - val_loss: 0.2845\n"
          ]
        },
        {
          "name": "stderr",
          "output_type": "stream",
          "text": [
            "[I 2024-11-01 23:23:05,699] Trial 67 finished with value: 0.931073009967804 and parameters: {'embedding_dim': 256, 'filters_1': 10, 'filters_2': 20, 'kernel_size1': 7, 'kernel_size_2': 3, 'kernel_reg_1': 0.01, 'dense_1': 64, 'dense_2': 32, 'dropout_1': 0.4, 'dropout_2': 0.4, 'learning_rate': 0.001, 'batch_size': 16, 'epochs': 20}. Best is trial 65 with value: 0.9356836676597595.\n"
          ]
        },
        {
          "name": "stdout",
          "output_type": "stream",
          "text": [
            "Epoch 1/20\n"
          ]
        },
        {
          "name": "stderr",
          "output_type": "stream",
          "text": [
            "c:\\Users\\spooj\\Downloads\\dsa4266\\fake_news\\lib\\site-packages\\keras\\src\\models\\functional.py:225: UserWarning: The structure of `inputs` doesn't match the expected structure: ['keras_tensor_1248', 'keras_tensor_1252']. Received: the structure of inputs=('*', '*')\n",
            "  warnings.warn(\n"
          ]
        },
        {
          "name": "stdout",
          "output_type": "stream",
          "text": [
            "\u001b[1m5368/5368\u001b[0m \u001b[32m━━━━━━━━━━━━━━━━━━━━\u001b[0m\u001b[37m\u001b[0m \u001b[1m274s\u001b[0m 50ms/step - accuracy: 0.6937 - loss: 0.5742 - val_accuracy: 0.9263 - val_loss: 0.2746\n",
            "Epoch 2/20\n",
            "\u001b[1m5368/5368\u001b[0m \u001b[32m━━━━━━━━━━━━━━━━━━━━\u001b[0m\u001b[37m\u001b[0m \u001b[1m270s\u001b[0m 50ms/step - accuracy: 0.9339 - loss: 0.2571 - val_accuracy: 0.9314 - val_loss: 0.2556\n",
            "Epoch 3/20\n",
            "\u001b[1m5368/5368\u001b[0m \u001b[32m━━━━━━━━━━━━━━━━━━━━\u001b[0m\u001b[37m\u001b[0m \u001b[1m271s\u001b[0m 50ms/step - accuracy: 0.9479 - loss: 0.2145 - val_accuracy: 0.9274 - val_loss: 0.2608\n",
            "Epoch 4/20\n",
            "\u001b[1m5368/5368\u001b[0m \u001b[32m━━━━━━━━━━━━━━━━━━━━\u001b[0m\u001b[37m\u001b[0m \u001b[1m299s\u001b[0m 56ms/step - accuracy: 0.9524 - loss: 0.1938 - val_accuracy: 0.9253 - val_loss: 0.2615\n",
            "Epoch 5/20\n",
            "\u001b[1m5368/5368\u001b[0m \u001b[32m━━━━━━━━━━━━━━━━━━━━\u001b[0m\u001b[37m\u001b[0m \u001b[1m298s\u001b[0m 55ms/step - accuracy: 0.9586 - loss: 0.1711 - val_accuracy: 0.9192 - val_loss: 0.2811\n"
          ]
        },
        {
          "name": "stderr",
          "output_type": "stream",
          "text": [
            "[I 2024-11-01 23:46:37,568] Trial 68 finished with value: 0.931352436542511 and parameters: {'embedding_dim': 256, 'filters_1': 5, 'filters_2': 20, 'kernel_size1': 7, 'kernel_size_2': 3, 'kernel_reg_1': 0.001, 'dense_1': 128, 'dense_2': 32, 'dropout_1': 0.4, 'dropout_2': 0.4, 'learning_rate': 0.0001, 'batch_size': 16, 'epochs': 20}. Best is trial 65 with value: 0.9356836676597595.\n"
          ]
        },
        {
          "name": "stdout",
          "output_type": "stream",
          "text": [
            "Epoch 1/20\n"
          ]
        },
        {
          "name": "stderr",
          "output_type": "stream",
          "text": [
            "c:\\Users\\spooj\\Downloads\\dsa4266\\fake_news\\lib\\site-packages\\keras\\src\\models\\functional.py:225: UserWarning: The structure of `inputs` doesn't match the expected structure: ['keras_tensor_1264', 'keras_tensor_1268']. Received: the structure of inputs=('*', '*')\n",
            "  warnings.warn(\n"
          ]
        },
        {
          "name": "stdout",
          "output_type": "stream",
          "text": [
            "\u001b[1m5368/5368\u001b[0m \u001b[32m━━━━━━━━━━━━━━━━━━━━\u001b[0m\u001b[37m\u001b[0m \u001b[1m343s\u001b[0m 63ms/step - accuracy: 0.7810 - loss: 0.4498 - val_accuracy: 0.9322 - val_loss: 0.2346\n",
            "Epoch 2/20\n",
            "\u001b[1m5368/5368\u001b[0m \u001b[32m━━━━━━━━━━━━━━━━━━━━\u001b[0m\u001b[37m\u001b[0m \u001b[1m387s\u001b[0m 72ms/step - accuracy: 0.9401 - loss: 0.2184 - val_accuracy: 0.9323 - val_loss: 0.2342\n",
            "Epoch 3/20\n",
            "\u001b[1m5368/5368\u001b[0m \u001b[32m━━━━━━━━━━━━━━━━━━━━\u001b[0m\u001b[37m\u001b[0m \u001b[1m388s\u001b[0m 72ms/step - accuracy: 0.9497 - loss: 0.1867 - val_accuracy: 0.9231 - val_loss: 0.2593\n",
            "Epoch 4/20\n",
            "\u001b[1m5368/5368\u001b[0m \u001b[32m━━━━━━━━━━━━━━━━━━━━\u001b[0m\u001b[37m\u001b[0m \u001b[1m390s\u001b[0m 73ms/step - accuracy: 0.9558 - loss: 0.1649 - val_accuracy: 0.9214 - val_loss: 0.2737\n",
            "Epoch 5/20\n",
            "\u001b[1m5368/5368\u001b[0m \u001b[32m━━━━━━━━━━━━━━━━━━━━\u001b[0m\u001b[37m\u001b[0m \u001b[1m390s\u001b[0m 73ms/step - accuracy: 0.9611 - loss: 0.1413 - val_accuracy: 0.9049 - val_loss: 0.3050\n"
          ]
        },
        {
          "name": "stderr",
          "output_type": "stream",
          "text": [
            "[I 2024-11-02 00:18:15,697] Trial 69 finished with value: 0.9323304891586304 and parameters: {'embedding_dim': 256, 'filters_1': 20, 'filters_2': 10, 'kernel_size1': 7, 'kernel_size_2': 3, 'kernel_reg_1': 0.001, 'dense_1': 128, 'dense_2': 32, 'dropout_1': 0.4, 'dropout_2': 0.4, 'learning_rate': 0.001, 'batch_size': 16, 'epochs': 20}. Best is trial 65 with value: 0.9356836676597595.\n"
          ]
        },
        {
          "name": "stdout",
          "output_type": "stream",
          "text": [
            "Epoch 1/20\n"
          ]
        },
        {
          "name": "stderr",
          "output_type": "stream",
          "text": [
            "c:\\Users\\spooj\\Downloads\\dsa4266\\fake_news\\lib\\site-packages\\keras\\src\\models\\functional.py:225: UserWarning: The structure of `inputs` doesn't match the expected structure: ['keras_tensor_1280', 'keras_tensor_1284']. Received: the structure of inputs=('*', '*')\n",
            "  warnings.warn(\n"
          ]
        },
        {
          "name": "stdout",
          "output_type": "stream",
          "text": [
            "\u001b[1m5368/5368\u001b[0m \u001b[32m━━━━━━━━━━━━━━━━━━━━\u001b[0m\u001b[37m\u001b[0m \u001b[1m390s\u001b[0m 71ms/step - accuracy: 0.8224 - loss: 0.4069 - val_accuracy: 0.9311 - val_loss: 0.2407\n",
            "Epoch 2/20\n",
            "\u001b[1m5368/5368\u001b[0m \u001b[32m━━━━━━━━━━━━━━━━━━━━\u001b[0m\u001b[37m\u001b[0m \u001b[1m428s\u001b[0m 80ms/step - accuracy: 0.9413 - loss: 0.2158 - val_accuracy: 0.9281 - val_loss: 0.2464\n",
            "Epoch 3/20\n",
            "\u001b[1m5368/5368\u001b[0m \u001b[32m━━━━━━━━━━━━━━━━━━━━\u001b[0m\u001b[37m\u001b[0m \u001b[1m441s\u001b[0m 82ms/step - accuracy: 0.9482 - loss: 0.1894 - val_accuracy: 0.9268 - val_loss: 0.2492\n",
            "Epoch 4/20\n",
            "\u001b[1m5368/5368\u001b[0m \u001b[32m━━━━━━━━━━━━━━━━━━━━\u001b[0m\u001b[37m\u001b[0m \u001b[1m442s\u001b[0m 82ms/step - accuracy: 0.9552 - loss: 0.1658 - val_accuracy: 0.9165 - val_loss: 0.2761\n"
          ]
        },
        {
          "name": "stderr",
          "output_type": "stream",
          "text": [
            "[I 2024-11-02 00:46:38,133] Trial 70 finished with value: 0.9311196208000183 and parameters: {'embedding_dim': 256, 'filters_1': 20, 'filters_2': 5, 'kernel_size1': 7, 'kernel_size_2': 3, 'kernel_reg_1': 0.001, 'dense_1': 128, 'dense_2': 32, 'dropout_1': 0.4, 'dropout_2': 0.4, 'learning_rate': 0.001, 'batch_size': 16, 'epochs': 20}. Best is trial 65 with value: 0.9356836676597595.\n"
          ]
        },
        {
          "name": "stdout",
          "output_type": "stream",
          "text": [
            "Epoch 1/20\n"
          ]
        },
        {
          "name": "stderr",
          "output_type": "stream",
          "text": [
            "c:\\Users\\spooj\\Downloads\\dsa4266\\fake_news\\lib\\site-packages\\keras\\src\\models\\functional.py:225: UserWarning: The structure of `inputs` doesn't match the expected structure: ['keras_tensor_1296', 'keras_tensor_1300']. Received: the structure of inputs=('*', '*')\n",
            "  warnings.warn(\n"
          ]
        },
        {
          "name": "stdout",
          "output_type": "stream",
          "text": [
            "\u001b[1m5368/5368\u001b[0m \u001b[32m━━━━━━━━━━━━━━━━━━━━\u001b[0m\u001b[37m\u001b[0m \u001b[1m464s\u001b[0m 85ms/step - accuracy: 0.8435 - loss: 0.3794 - val_accuracy: 0.9325 - val_loss: 0.2381\n",
            "Epoch 2/20\n",
            "\u001b[1m5368/5368\u001b[0m \u001b[32m━━━━━━━━━━━━━━━━━━━━\u001b[0m\u001b[37m\u001b[0m \u001b[1m450s\u001b[0m 84ms/step - accuracy: 0.9425 - loss: 0.2115 - val_accuracy: 0.9319 - val_loss: 0.2356\n",
            "Epoch 3/20\n",
            "\u001b[1m5368/5368\u001b[0m \u001b[32m━━━━━━━━━━━━━━━━━━━━\u001b[0m\u001b[37m\u001b[0m \u001b[1m450s\u001b[0m 84ms/step - accuracy: 0.9497 - loss: 0.1843 - val_accuracy: 0.9273 - val_loss: 0.2509\n",
            "Epoch 4/20\n",
            "\u001b[1m5368/5368\u001b[0m \u001b[32m━━━━━━━━━━━━━━━━━━━━\u001b[0m\u001b[37m\u001b[0m \u001b[1m453s\u001b[0m 84ms/step - accuracy: 0.9575 - loss: 0.1580 - val_accuracy: 0.9169 - val_loss: 0.2740\n"
          ]
        },
        {
          "name": "stderr",
          "output_type": "stream",
          "text": [
            "[I 2024-11-02 01:16:56,110] Trial 71 finished with value: 0.9324702024459839 and parameters: {'embedding_dim': 256, 'filters_1': 20, 'filters_2': 20, 'kernel_size1': 7, 'kernel_size_2': 5, 'kernel_reg_1': 0.001, 'dense_1': 128, 'dense_2': 32, 'dropout_1': 0.4, 'dropout_2': 0.4, 'learning_rate': 0.001, 'batch_size': 16, 'epochs': 20}. Best is trial 65 with value: 0.9356836676597595.\n"
          ]
        },
        {
          "name": "stdout",
          "output_type": "stream",
          "text": [
            "Epoch 1/20\n"
          ]
        },
        {
          "name": "stderr",
          "output_type": "stream",
          "text": [
            "c:\\Users\\spooj\\Downloads\\dsa4266\\fake_news\\lib\\site-packages\\keras\\src\\models\\functional.py:225: UserWarning: The structure of `inputs` doesn't match the expected structure: ['keras_tensor_1312', 'keras_tensor_1316']. Received: the structure of inputs=('*', '*')\n",
            "  warnings.warn(\n"
          ]
        },
        {
          "name": "stdout",
          "output_type": "stream",
          "text": [
            "\u001b[1m2684/2684\u001b[0m \u001b[32m━━━━━━━━━━━━━━━━━━━━\u001b[0m\u001b[37m\u001b[0m \u001b[1m253s\u001b[0m 91ms/step - accuracy: 0.8328 - loss: 0.3971 - val_accuracy: 0.9342 - val_loss: 0.2333\n",
            "Epoch 2/20\n",
            "\u001b[1m2684/2684\u001b[0m \u001b[32m━━━━━━━━━━━━━━━━━━━━\u001b[0m\u001b[37m\u001b[0m \u001b[1m245s\u001b[0m 91ms/step - accuracy: 0.9435 - loss: 0.2101 - val_accuracy: 0.9301 - val_loss: 0.2414\n",
            "Epoch 3/20\n",
            "\u001b[1m2684/2684\u001b[0m \u001b[32m━━━━━━━━━━━━━━━━━━━━\u001b[0m\u001b[37m\u001b[0m \u001b[1m218s\u001b[0m 81ms/step - accuracy: 0.9513 - loss: 0.1816 - val_accuracy: 0.9200 - val_loss: 0.2689\n",
            "Epoch 4/20\n",
            "\u001b[1m2684/2684\u001b[0m \u001b[32m━━━━━━━━━━━━━━━━━━━━\u001b[0m\u001b[37m\u001b[0m \u001b[1m242s\u001b[0m 74ms/step - accuracy: 0.9592 - loss: 0.1532 - val_accuracy: 0.9120 - val_loss: 0.2943\n"
          ]
        },
        {
          "name": "stderr",
          "output_type": "stream",
          "text": [
            "[I 2024-11-02 01:32:55,554] Trial 72 finished with value: 0.93423992395401 and parameters: {'embedding_dim': 256, 'filters_1': 20, 'filters_2': 20, 'kernel_size1': 7, 'kernel_size_2': 5, 'kernel_reg_1': 0.001, 'dense_1': 128, 'dense_2': 32, 'dropout_1': 0.4, 'dropout_2': 0.4, 'learning_rate': 0.001, 'batch_size': 32, 'epochs': 20}. Best is trial 65 with value: 0.9356836676597595.\n"
          ]
        },
        {
          "name": "stdout",
          "output_type": "stream",
          "text": [
            "Epoch 1/20\n"
          ]
        },
        {
          "name": "stderr",
          "output_type": "stream",
          "text": [
            "c:\\Users\\spooj\\Downloads\\dsa4266\\fake_news\\lib\\site-packages\\keras\\src\\models\\functional.py:225: UserWarning: The structure of `inputs` doesn't match the expected structure: ['keras_tensor_1328', 'keras_tensor_1332']. Received: the structure of inputs=('*', '*')\n",
            "  warnings.warn(\n"
          ]
        },
        {
          "name": "stdout",
          "output_type": "stream",
          "text": [
            "\u001b[1m2684/2684\u001b[0m \u001b[32m━━━━━━━━━━━━━━━━━━━━\u001b[0m\u001b[37m\u001b[0m \u001b[1m204s\u001b[0m 74ms/step - accuracy: 0.8382 - loss: 0.3906 - val_accuracy: 0.9328 - val_loss: 0.2347\n",
            "Epoch 2/20\n",
            "\u001b[1m2684/2684\u001b[0m \u001b[32m━━━━━━━━━━━━━━━━━━━━\u001b[0m\u001b[37m\u001b[0m \u001b[1m201s\u001b[0m 75ms/step - accuracy: 0.9434 - loss: 0.2084 - val_accuracy: 0.9289 - val_loss: 0.2409\n",
            "Epoch 3/20\n",
            "\u001b[1m2684/2684\u001b[0m \u001b[32m━━━━━━━━━━━━━━━━━━━━\u001b[0m\u001b[37m\u001b[0m \u001b[1m198s\u001b[0m 74ms/step - accuracy: 0.9527 - loss: 0.1756 - val_accuracy: 0.9241 - val_loss: 0.2550\n",
            "Epoch 4/20\n",
            "\u001b[1m2684/2684\u001b[0m \u001b[32m━━━━━━━━━━━━━━━━━━━━\u001b[0m\u001b[37m\u001b[0m \u001b[1m202s\u001b[0m 75ms/step - accuracy: 0.9609 - loss: 0.1456 - val_accuracy: 0.9118 - val_loss: 0.2891\n"
          ]
        },
        {
          "name": "stderr",
          "output_type": "stream",
          "text": [
            "[I 2024-11-02 01:46:20,773] Trial 73 finished with value: 0.9327961802482605 and parameters: {'embedding_dim': 256, 'filters_1': 20, 'filters_2': 20, 'kernel_size1': 7, 'kernel_size_2': 3, 'kernel_reg_1': 0.001, 'dense_1': 128, 'dense_2': 32, 'dropout_1': 0.4, 'dropout_2': 0.4, 'learning_rate': 0.001, 'batch_size': 32, 'epochs': 20}. Best is trial 65 with value: 0.9356836676597595.\n"
          ]
        },
        {
          "name": "stdout",
          "output_type": "stream",
          "text": [
            "Epoch 1/20\n"
          ]
        },
        {
          "name": "stderr",
          "output_type": "stream",
          "text": [
            "c:\\Users\\spooj\\Downloads\\dsa4266\\fake_news\\lib\\site-packages\\keras\\src\\models\\functional.py:225: UserWarning: The structure of `inputs` doesn't match the expected structure: ['keras_tensor_1344', 'keras_tensor_1348']. Received: the structure of inputs=('*', '*')\n",
            "  warnings.warn(\n"
          ]
        },
        {
          "name": "stdout",
          "output_type": "stream",
          "text": [
            "\u001b[1m2684/2684\u001b[0m \u001b[32m━━━━━━━━━━━━━━━━━━━━\u001b[0m\u001b[37m\u001b[0m \u001b[1m204s\u001b[0m 75ms/step - accuracy: 0.8326 - loss: 0.3974 - val_accuracy: 0.9334 - val_loss: 0.2330\n",
            "Epoch 2/20\n",
            "\u001b[1m2684/2684\u001b[0m \u001b[32m━━━━━━━━━━━━━━━━━━━━\u001b[0m\u001b[37m\u001b[0m \u001b[1m185s\u001b[0m 69ms/step - accuracy: 0.9450 - loss: 0.2068 - val_accuracy: 0.9303 - val_loss: 0.2401\n",
            "Epoch 3/20\n",
            "\u001b[1m2684/2684\u001b[0m \u001b[32m━━━━━━━━━━━━━━━━━━━━\u001b[0m\u001b[37m\u001b[0m \u001b[1m194s\u001b[0m 72ms/step - accuracy: 0.9516 - loss: 0.1805 - val_accuracy: 0.9246 - val_loss: 0.2581\n",
            "Epoch 4/20\n",
            "\u001b[1m2684/2684\u001b[0m \u001b[32m━━━━━━━━━━━━━━━━━━━━\u001b[0m\u001b[37m\u001b[0m \u001b[1m191s\u001b[0m 71ms/step - accuracy: 0.9580 - loss: 0.1553 - val_accuracy: 0.9117 - val_loss: 0.2898\n"
          ]
        },
        {
          "name": "stderr",
          "output_type": "stream",
          "text": [
            "[I 2024-11-02 01:59:15,370] Trial 74 finished with value: 0.9334016442298889 and parameters: {'embedding_dim': 256, 'filters_1': 20, 'filters_2': 20, 'kernel_size1': 7, 'kernel_size_2': 5, 'kernel_reg_1': 0.001, 'dense_1': 128, 'dense_2': 32, 'dropout_1': 0.4, 'dropout_2': 0.4, 'learning_rate': 0.001, 'batch_size': 32, 'epochs': 20}. Best is trial 65 with value: 0.9356836676597595.\n"
          ]
        },
        {
          "name": "stdout",
          "output_type": "stream",
          "text": [
            "Epoch 1/20\n"
          ]
        },
        {
          "name": "stderr",
          "output_type": "stream",
          "text": [
            "c:\\Users\\spooj\\Downloads\\dsa4266\\fake_news\\lib\\site-packages\\keras\\src\\models\\functional.py:225: UserWarning: The structure of `inputs` doesn't match the expected structure: ['keras_tensor_1360', 'keras_tensor_1364']. Received: the structure of inputs=('*', '*')\n",
            "  warnings.warn(\n"
          ]
        },
        {
          "name": "stdout",
          "output_type": "stream",
          "text": [
            "\u001b[1m2684/2684\u001b[0m \u001b[32m━━━━━━━━━━━━━━━━━━━━\u001b[0m\u001b[37m\u001b[0m \u001b[1m205s\u001b[0m 75ms/step - accuracy: 0.8339 - loss: 0.3957 - val_accuracy: 0.9343 - val_loss: 0.2358\n",
            "Epoch 2/20\n",
            "\u001b[1m2684/2684\u001b[0m \u001b[32m━━━━━━━━━━━━━━━━━━━━\u001b[0m\u001b[37m\u001b[0m \u001b[1m188s\u001b[0m 70ms/step - accuracy: 0.9429 - loss: 0.2128 - val_accuracy: 0.9306 - val_loss: 0.2406\n",
            "Epoch 3/20\n",
            "\u001b[1m2684/2684\u001b[0m \u001b[32m━━━━━━━━━━━━━━━━━━━━\u001b[0m\u001b[37m\u001b[0m \u001b[1m195s\u001b[0m 73ms/step - accuracy: 0.9505 - loss: 0.1818 - val_accuracy: 0.9207 - val_loss: 0.2678\n",
            "Epoch 4/20\n",
            "\u001b[1m2684/2684\u001b[0m \u001b[32m━━━━━━━━━━━━━━━━━━━━\u001b[0m\u001b[37m\u001b[0m \u001b[1m190s\u001b[0m 71ms/step - accuracy: 0.9588 - loss: 0.1519 - val_accuracy: 0.9140 - val_loss: 0.2992\n"
          ]
        },
        {
          "name": "stderr",
          "output_type": "stream",
          "text": [
            "[I 2024-11-02 02:12:14,259] Trial 75 finished with value: 0.934333086013794 and parameters: {'embedding_dim': 256, 'filters_1': 20, 'filters_2': 20, 'kernel_size1': 7, 'kernel_size_2': 5, 'kernel_reg_1': 0.001, 'dense_1': 128, 'dense_2': 32, 'dropout_1': 0.4, 'dropout_2': 0.4, 'learning_rate': 0.001, 'batch_size': 32, 'epochs': 20}. Best is trial 65 with value: 0.9356836676597595.\n"
          ]
        },
        {
          "name": "stdout",
          "output_type": "stream",
          "text": [
            "Epoch 1/20\n"
          ]
        },
        {
          "name": "stderr",
          "output_type": "stream",
          "text": [
            "c:\\Users\\spooj\\Downloads\\dsa4266\\fake_news\\lib\\site-packages\\keras\\src\\models\\functional.py:225: UserWarning: The structure of `inputs` doesn't match the expected structure: ['keras_tensor_1376', 'keras_tensor_1380']. Received: the structure of inputs=('*', '*')\n",
            "  warnings.warn(\n"
          ]
        },
        {
          "name": "stdout",
          "output_type": "stream",
          "text": [
            "\u001b[1m2684/2684\u001b[0m \u001b[32m━━━━━━━━━━━━━━━━━━━━\u001b[0m\u001b[37m\u001b[0m \u001b[1m205s\u001b[0m 75ms/step - accuracy: 0.8309 - loss: 0.3956 - val_accuracy: 0.9343 - val_loss: 0.2344\n",
            "Epoch 2/20\n",
            "\u001b[1m2684/2684\u001b[0m \u001b[32m━━━━━━━━━━━━━━━━━━━━\u001b[0m\u001b[37m\u001b[0m \u001b[1m202s\u001b[0m 75ms/step - accuracy: 0.9449 - loss: 0.2066 - val_accuracy: 0.9305 - val_loss: 0.2375\n",
            "Epoch 3/20\n",
            "\u001b[1m2684/2684\u001b[0m \u001b[32m━━━━━━━━━━━━━━━━━━━━\u001b[0m\u001b[37m\u001b[0m \u001b[1m198s\u001b[0m 74ms/step - accuracy: 0.9515 - loss: 0.1827 - val_accuracy: 0.9250 - val_loss: 0.2665\n",
            "Epoch 4/20\n",
            "\u001b[1m2684/2684\u001b[0m \u001b[32m━━━━━━━━━━━━━━━━━━━━\u001b[0m\u001b[37m\u001b[0m \u001b[1m202s\u001b[0m 75ms/step - accuracy: 0.9596 - loss: 0.1520 - val_accuracy: 0.9170 - val_loss: 0.2760\n"
          ]
        },
        {
          "name": "stderr",
          "output_type": "stream",
          "text": [
            "[I 2024-11-02 02:25:40,945] Trial 76 finished with value: 0.9342865347862244 and parameters: {'embedding_dim': 256, 'filters_1': 5, 'filters_2': 20, 'kernel_size1': 7, 'kernel_size_2': 7, 'kernel_reg_1': 0.001, 'dense_1': 128, 'dense_2': 32, 'dropout_1': 0.4, 'dropout_2': 0.4, 'learning_rate': 0.001, 'batch_size': 32, 'epochs': 20}. Best is trial 65 with value: 0.9356836676597595.\n"
          ]
        },
        {
          "name": "stdout",
          "output_type": "stream",
          "text": [
            "Epoch 1/20\n"
          ]
        },
        {
          "name": "stderr",
          "output_type": "stream",
          "text": [
            "c:\\Users\\spooj\\Downloads\\dsa4266\\fake_news\\lib\\site-packages\\keras\\src\\models\\functional.py:225: UserWarning: The structure of `inputs` doesn't match the expected structure: ['keras_tensor_1392', 'keras_tensor_1396']. Received: the structure of inputs=('*', '*')\n",
            "  warnings.warn(\n"
          ]
        },
        {
          "name": "stdout",
          "output_type": "stream",
          "text": [
            "\u001b[1m5368/5368\u001b[0m \u001b[32m━━━━━━━━━━━━━━━━━━━━\u001b[0m\u001b[37m\u001b[0m \u001b[1m393s\u001b[0m 72ms/step - accuracy: 0.7174 - loss: 0.5391 - val_accuracy: 0.9287 - val_loss: 0.2598\n",
            "Epoch 2/20\n",
            "\u001b[1m5368/5368\u001b[0m \u001b[32m━━━━━━━━━━━━━━━━━━━━\u001b[0m\u001b[37m\u001b[0m \u001b[1m364s\u001b[0m 68ms/step - accuracy: 0.9374 - loss: 0.2385 - val_accuracy: 0.9300 - val_loss: 0.2572\n",
            "Epoch 3/20\n",
            "\u001b[1m5368/5368\u001b[0m \u001b[32m━━━━━━━━━━━━━━━━━━━━\u001b[0m\u001b[37m\u001b[0m \u001b[1m345s\u001b[0m 64ms/step - accuracy: 0.9457 - loss: 0.2086 - val_accuracy: 0.9301 - val_loss: 0.2447\n",
            "Epoch 4/20\n",
            "\u001b[1m5368/5368\u001b[0m \u001b[32m━━━━━━━━━━━━━━━━━━━━\u001b[0m\u001b[37m\u001b[0m \u001b[1m347s\u001b[0m 65ms/step - accuracy: 0.9524 - loss: 0.1865 - val_accuracy: 0.9253 - val_loss: 0.2575\n",
            "Epoch 5/20\n",
            "\u001b[1m5368/5368\u001b[0m \u001b[32m━━━━━━━━━━━━━━━━━━━━\u001b[0m\u001b[37m\u001b[0m \u001b[1m349s\u001b[0m 65ms/step - accuracy: 0.9550 - loss: 0.1703 - val_accuracy: 0.9186 - val_loss: 0.2791\n",
            "Epoch 6/20\n",
            "\u001b[1m5368/5368\u001b[0m \u001b[32m━━━━━━━━━━━━━━━━━━━━\u001b[0m\u001b[37m\u001b[0m \u001b[1m331s\u001b[0m 62ms/step - accuracy: 0.9605 - loss: 0.1492 - val_accuracy: 0.9162 - val_loss: 0.2964\n"
          ]
        },
        {
          "name": "stderr",
          "output_type": "stream",
          "text": [
            "[I 2024-11-02 03:01:10,879] Trial 77 finished with value: 0.9301415681838989 and parameters: {'embedding_dim': 256, 'filters_1': 20, 'filters_2': 20, 'kernel_size1': 7, 'kernel_size_2': 5, 'kernel_reg_1': 0.001, 'dense_1': 64, 'dense_2': 32, 'dropout_1': 0.6, 'dropout_2': 0.4, 'learning_rate': 0.00015, 'batch_size': 16, 'epochs': 20}. Best is trial 65 with value: 0.9356836676597595.\n"
          ]
        },
        {
          "name": "stdout",
          "output_type": "stream",
          "text": [
            "Epoch 1/20\n"
          ]
        },
        {
          "name": "stderr",
          "output_type": "stream",
          "text": [
            "c:\\Users\\spooj\\Downloads\\dsa4266\\fake_news\\lib\\site-packages\\keras\\src\\models\\functional.py:225: UserWarning: The structure of `inputs` doesn't match the expected structure: ['keras_tensor_1408', 'keras_tensor_1412']. Received: the structure of inputs=('*', '*')\n",
            "  warnings.warn(\n"
          ]
        },
        {
          "name": "stdout",
          "output_type": "stream",
          "text": [
            "\u001b[1m2684/2684\u001b[0m \u001b[32m━━━━━━━━━━━━━━━━━━━━\u001b[0m\u001b[37m\u001b[0m \u001b[1m166s\u001b[0m 60ms/step - accuracy: 0.7945 - loss: 0.5006 - val_accuracy: 0.9314 - val_loss: 0.2426\n",
            "Epoch 2/20\n",
            "\u001b[1m2684/2684\u001b[0m \u001b[32m━━━━━━━━━━━━━━━━━━━━\u001b[0m\u001b[37m\u001b[0m \u001b[1m162s\u001b[0m 60ms/step - accuracy: 0.9421 - loss: 0.2169 - val_accuracy: 0.9319 - val_loss: 0.2391\n",
            "Epoch 3/20\n",
            "\u001b[1m2684/2684\u001b[0m \u001b[32m━━━━━━━━━━━━━━━━━━━━\u001b[0m\u001b[37m\u001b[0m \u001b[1m165s\u001b[0m 62ms/step - accuracy: 0.9487 - loss: 0.1956 - val_accuracy: 0.9272 - val_loss: 0.2515\n",
            "Epoch 4/20\n",
            "\u001b[1m2684/2684\u001b[0m \u001b[32m━━━━━━━━━━━━━━━━━━━━\u001b[0m\u001b[37m\u001b[0m \u001b[1m163s\u001b[0m 61ms/step - accuracy: 0.9542 - loss: 0.1750 - val_accuracy: 0.9202 - val_loss: 0.2607\n",
            "Epoch 5/20\n",
            "\u001b[1m2684/2684\u001b[0m \u001b[32m━━━━━━━━━━━━━━━━━━━━\u001b[0m\u001b[37m\u001b[0m \u001b[1m162s\u001b[0m 60ms/step - accuracy: 0.9589 - loss: 0.1571 - val_accuracy: 0.9093 - val_loss: 0.3052\n"
          ]
        },
        {
          "name": "stderr",
          "output_type": "stream",
          "text": [
            "[I 2024-11-02 03:14:50,312] Trial 78 finished with value: 0.9318647384643555 and parameters: {'embedding_dim': 256, 'filters_1': 20, 'filters_2': 20, 'kernel_size1': 7, 'kernel_size_2': 3, 'kernel_reg_1': 0.01, 'dense_1': 128, 'dense_2': 32, 'dropout_1': 0.4, 'dropout_2': 0.4, 'learning_rate': 0.001, 'batch_size': 32, 'epochs': 20}. Best is trial 65 with value: 0.9356836676597595.\n"
          ]
        },
        {
          "name": "stdout",
          "output_type": "stream",
          "text": [
            "Epoch 1/5\n"
          ]
        },
        {
          "name": "stderr",
          "output_type": "stream",
          "text": [
            "c:\\Users\\spooj\\Downloads\\dsa4266\\fake_news\\lib\\site-packages\\keras\\src\\models\\functional.py:225: UserWarning: The structure of `inputs` doesn't match the expected structure: ['keras_tensor_1424', 'keras_tensor_1428']. Received: the structure of inputs=('*', '*')\n",
            "  warnings.warn(\n"
          ]
        },
        {
          "name": "stdout",
          "output_type": "stream",
          "text": [
            "\u001b[1m5368/5368\u001b[0m \u001b[32m━━━━━━━━━━━━━━━━━━━━\u001b[0m\u001b[37m\u001b[0m \u001b[1m294s\u001b[0m 54ms/step - accuracy: 0.8371 - loss: 0.3845 - val_accuracy: 0.9335 - val_loss: 0.2334\n",
            "Epoch 2/5\n",
            "\u001b[1m5368/5368\u001b[0m \u001b[32m━━━━━━━━━━━━━━━━━━━━\u001b[0m\u001b[37m\u001b[0m \u001b[1m290s\u001b[0m 54ms/step - accuracy: 0.9417 - loss: 0.2138 - val_accuracy: 0.9332 - val_loss: 0.2345\n",
            "Epoch 3/5\n",
            "\u001b[1m5368/5368\u001b[0m \u001b[32m━━━━━━━━━━━━━━━━━━━━\u001b[0m\u001b[37m\u001b[0m \u001b[1m290s\u001b[0m 54ms/step - accuracy: 0.9508 - loss: 0.1866 - val_accuracy: 0.9281 - val_loss: 0.2443\n",
            "Epoch 4/5\n",
            "\u001b[1m5368/5368\u001b[0m \u001b[32m━━━━━━━━━━━━━━━━━━━━\u001b[0m\u001b[37m\u001b[0m \u001b[1m296s\u001b[0m 55ms/step - accuracy: 0.9548 - loss: 0.1668 - val_accuracy: 0.9193 - val_loss: 0.2737\n"
          ]
        },
        {
          "name": "stderr",
          "output_type": "stream",
          "text": [
            "[I 2024-11-02 03:34:20,753] Trial 79 finished with value: 0.9335413575172424 and parameters: {'embedding_dim': 256, 'filters_1': 10, 'filters_2': 20, 'kernel_size1': 7, 'kernel_size_2': 5, 'kernel_reg_1': 0.001, 'dense_1': 128, 'dense_2': 32, 'dropout_1': 0.4, 'dropout_2': 0.4, 'learning_rate': 0.001, 'batch_size': 16, 'epochs': 5}. Best is trial 65 with value: 0.9356836676597595.\n"
          ]
        },
        {
          "name": "stdout",
          "output_type": "stream",
          "text": [
            "Epoch 1/20\n"
          ]
        },
        {
          "name": "stderr",
          "output_type": "stream",
          "text": [
            "c:\\Users\\spooj\\Downloads\\dsa4266\\fake_news\\lib\\site-packages\\keras\\src\\models\\functional.py:225: UserWarning: The structure of `inputs` doesn't match the expected structure: ['keras_tensor_1440', 'keras_tensor_1444']. Received: the structure of inputs=('*', '*')\n",
            "  warnings.warn(\n"
          ]
        },
        {
          "name": "stdout",
          "output_type": "stream",
          "text": [
            "\u001b[1m5368/5368\u001b[0m \u001b[32m━━━━━━━━━━━━━━━━━━━━\u001b[0m\u001b[37m\u001b[0m \u001b[1m198s\u001b[0m 36ms/step - accuracy: 0.6125 - loss: 0.6618 - val_accuracy: 0.9221 - val_loss: 0.2693\n",
            "Epoch 2/20\n",
            "\u001b[1m5368/5368\u001b[0m \u001b[32m━━━━━━━━━━━━━━━━━━━━\u001b[0m\u001b[37m\u001b[0m \u001b[1m165s\u001b[0m 31ms/step - accuracy: 0.9301 - loss: 0.2612 - val_accuracy: 0.9289 - val_loss: 0.2476\n",
            "Epoch 3/20\n",
            "\u001b[1m5368/5368\u001b[0m \u001b[32m━━━━━━━━━━━━━━━━━━━━\u001b[0m\u001b[37m\u001b[0m \u001b[1m159s\u001b[0m 30ms/step - accuracy: 0.9427 - loss: 0.2221 - val_accuracy: 0.9309 - val_loss: 0.2453\n",
            "Epoch 4/20\n",
            "\u001b[1m5368/5368\u001b[0m \u001b[32m━━━━━━━━━━━━━━━━━━━━\u001b[0m\u001b[37m\u001b[0m \u001b[1m156s\u001b[0m 29ms/step - accuracy: 0.9489 - loss: 0.1982 - val_accuracy: 0.9281 - val_loss: 0.2465\n",
            "Epoch 5/20\n",
            "\u001b[1m5368/5368\u001b[0m \u001b[32m━━━━━━━━━━━━━━━━━━━━\u001b[0m\u001b[37m\u001b[0m \u001b[1m158s\u001b[0m 29ms/step - accuracy: 0.9545 - loss: 0.1793 - val_accuracy: 0.9235 - val_loss: 0.2580\n",
            "Epoch 6/20\n",
            "\u001b[1m5368/5368\u001b[0m \u001b[32m━━━━━━━━━━━━━━━━━━━━\u001b[0m\u001b[37m\u001b[0m \u001b[1m159s\u001b[0m 30ms/step - accuracy: 0.9574 - loss: 0.1658 - val_accuracy: 0.9127 - val_loss: 0.2871\n"
          ]
        },
        {
          "name": "stderr",
          "output_type": "stream",
          "text": [
            "[I 2024-11-02 03:50:56,760] Trial 80 finished with value: 0.9308867454528809 and parameters: {'embedding_dim': 64, 'filters_1': 20, 'filters_2': 20, 'kernel_size1': 15, 'kernel_size_2': 5, 'kernel_reg_1': 0.001, 'dense_1': 128, 'dense_2': 32, 'dropout_1': 0.4, 'dropout_2': 0.4, 'learning_rate': 0.0001, 'batch_size': 16, 'epochs': 20}. Best is trial 65 with value: 0.9356836676597595.\n"
          ]
        },
        {
          "name": "stdout",
          "output_type": "stream",
          "text": [
            "Epoch 1/20\n"
          ]
        },
        {
          "name": "stderr",
          "output_type": "stream",
          "text": [
            "c:\\Users\\spooj\\Downloads\\dsa4266\\fake_news\\lib\\site-packages\\keras\\src\\models\\functional.py:225: UserWarning: The structure of `inputs` doesn't match the expected structure: ['keras_tensor_1456', 'keras_tensor_1460']. Received: the structure of inputs=('*', '*')\n",
            "  warnings.warn(\n"
          ]
        },
        {
          "name": "stdout",
          "output_type": "stream",
          "text": [
            "\u001b[1m2684/2684\u001b[0m \u001b[32m━━━━━━━━━━━━━━━━━━━━\u001b[0m\u001b[37m\u001b[0m \u001b[1m162s\u001b[0m 59ms/step - accuracy: 0.8301 - loss: 0.4000 - val_accuracy: 0.9353 - val_loss: 0.2377\n",
            "Epoch 2/20\n",
            "\u001b[1m2684/2684\u001b[0m \u001b[32m━━━━━━━━━━━━━━━━━━━━\u001b[0m\u001b[37m\u001b[0m \u001b[1m166s\u001b[0m 62ms/step - accuracy: 0.9440 - loss: 0.2095 - val_accuracy: 0.9346 - val_loss: 0.2355\n",
            "Epoch 3/20\n",
            "\u001b[1m2684/2684\u001b[0m \u001b[32m━━━━━━━━━━━━━━━━━━━━\u001b[0m\u001b[37m\u001b[0m \u001b[1m159s\u001b[0m 59ms/step - accuracy: 0.9520 - loss: 0.1804 - val_accuracy: 0.9250 - val_loss: 0.2545\n",
            "Epoch 4/20\n",
            "\u001b[1m2684/2684\u001b[0m \u001b[32m━━━━━━━━━━━━━━━━━━━━\u001b[0m\u001b[37m\u001b[0m \u001b[1m155s\u001b[0m 58ms/step - accuracy: 0.9598 - loss: 0.1500 - val_accuracy: 0.9173 - val_loss: 0.2838\n"
          ]
        },
        {
          "name": "stderr",
          "output_type": "stream",
          "text": [
            "[I 2024-11-02 04:01:38,525] Trial 81 finished with value: 0.935264527797699 and parameters: {'embedding_dim': 256, 'filters_1': 5, 'filters_2': 20, 'kernel_size1': 7, 'kernel_size_2': 7, 'kernel_reg_1': 0.001, 'dense_1': 128, 'dense_2': 32, 'dropout_1': 0.4, 'dropout_2': 0.4, 'learning_rate': 0.001, 'batch_size': 32, 'epochs': 20}. Best is trial 65 with value: 0.9356836676597595.\n"
          ]
        },
        {
          "name": "stdout",
          "output_type": "stream",
          "text": [
            "Epoch 1/20\n"
          ]
        },
        {
          "name": "stderr",
          "output_type": "stream",
          "text": [
            "c:\\Users\\spooj\\Downloads\\dsa4266\\fake_news\\lib\\site-packages\\keras\\src\\models\\functional.py:225: UserWarning: The structure of `inputs` doesn't match the expected structure: ['keras_tensor_1472', 'keras_tensor_1476']. Received: the structure of inputs=('*', '*')\n",
            "  warnings.warn(\n"
          ]
        },
        {
          "name": "stdout",
          "output_type": "stream",
          "text": [
            "\u001b[1m2684/2684\u001b[0m \u001b[32m━━━━━━━━━━━━━━━━━━━━\u001b[0m\u001b[37m\u001b[0m \u001b[1m164s\u001b[0m 60ms/step - accuracy: 0.8295 - loss: 0.4042 - val_accuracy: 0.9261 - val_loss: 0.2477\n",
            "Epoch 2/20\n",
            "\u001b[1m2684/2684\u001b[0m \u001b[32m━━━━━━━━━━━━━━━━━━━━\u001b[0m\u001b[37m\u001b[0m \u001b[1m155s\u001b[0m 58ms/step - accuracy: 0.9397 - loss: 0.2174 - val_accuracy: 0.9195 - val_loss: 0.2584\n",
            "Epoch 3/20\n",
            "\u001b[1m2684/2684\u001b[0m \u001b[32m━━━━━━━━━━━━━━━━━━━━\u001b[0m\u001b[37m\u001b[0m \u001b[1m152s\u001b[0m 57ms/step - accuracy: 0.9505 - loss: 0.1828 - val_accuracy: 0.9153 - val_loss: 0.2690\n",
            "Epoch 4/20\n",
            "\u001b[1m2684/2684\u001b[0m \u001b[32m━━━━━━━━━━━━━━━━━━━━\u001b[0m\u001b[37m\u001b[0m \u001b[1m149s\u001b[0m 55ms/step - accuracy: 0.9600 - loss: 0.1503 - val_accuracy: 0.9057 - val_loss: 0.3123\n"
          ]
        },
        {
          "name": "stderr",
          "output_type": "stream",
          "text": [
            "[I 2024-11-02 04:11:59,382] Trial 82 finished with value: 0.9260897636413574 and parameters: {'embedding_dim': 256, 'filters_1': 5, 'filters_2': 20, 'kernel_size1': 7, 'kernel_size_2': 7, 'kernel_reg_1': 0.001, 'dense_1': 128, 'dense_2': 32, 'dropout_1': 0.4, 'dropout_2': 0.4, 'learning_rate': 0.001, 'batch_size': 32, 'epochs': 20}. Best is trial 65 with value: 0.9356836676597595.\n"
          ]
        },
        {
          "name": "stdout",
          "output_type": "stream",
          "text": [
            "Epoch 1/20\n"
          ]
        },
        {
          "name": "stderr",
          "output_type": "stream",
          "text": [
            "c:\\Users\\spooj\\Downloads\\dsa4266\\fake_news\\lib\\site-packages\\keras\\src\\models\\functional.py:225: UserWarning: The structure of `inputs` doesn't match the expected structure: ['keras_tensor_1488', 'keras_tensor_1492']. Received: the structure of inputs=('*', '*')\n",
            "  warnings.warn(\n"
          ]
        },
        {
          "name": "stdout",
          "output_type": "stream",
          "text": [
            "\u001b[1m2684/2684\u001b[0m \u001b[32m━━━━━━━━━━━━━━━━━━━━\u001b[0m\u001b[37m\u001b[0m \u001b[1m161s\u001b[0m 58ms/step - accuracy: 0.8144 - loss: 0.4115 - val_accuracy: 0.9323 - val_loss: 0.2378\n",
            "Epoch 2/20\n",
            "\u001b[1m2684/2684\u001b[0m \u001b[32m━━━━━━━━━━━━━━━━━━━━\u001b[0m\u001b[37m\u001b[0m \u001b[1m155s\u001b[0m 58ms/step - accuracy: 0.9438 - loss: 0.2088 - val_accuracy: 0.9290 - val_loss: 0.2413\n",
            "Epoch 3/20\n",
            "\u001b[1m2684/2684\u001b[0m \u001b[32m━━━━━━━━━━━━━━━━━━━━\u001b[0m\u001b[37m\u001b[0m \u001b[1m152s\u001b[0m 57ms/step - accuracy: 0.9514 - loss: 0.1792 - val_accuracy: 0.9228 - val_loss: 0.2670\n",
            "Epoch 4/20\n",
            "\u001b[1m2684/2684\u001b[0m \u001b[32m━━━━━━━━━━━━━━━━━━━━\u001b[0m\u001b[37m\u001b[0m \u001b[1m166s\u001b[0m 62ms/step - accuracy: 0.9615 - loss: 0.1438 - val_accuracy: 0.9158 - val_loss: 0.2916\n"
          ]
        },
        {
          "name": "stderr",
          "output_type": "stream",
          "text": [
            "[I 2024-11-02 04:22:33,372] Trial 83 finished with value: 0.9323304891586304 and parameters: {'embedding_dim': 256, 'filters_1': 5, 'filters_2': 20, 'kernel_size1': 7, 'kernel_size_2': 7, 'kernel_reg_1': 0.001, 'dense_1': 128, 'dense_2': 32, 'dropout_1': 0.4, 'dropout_2': 0.4, 'learning_rate': 0.001, 'batch_size': 32, 'epochs': 20}. Best is trial 65 with value: 0.9356836676597595.\n"
          ]
        },
        {
          "name": "stdout",
          "output_type": "stream",
          "text": [
            "Epoch 1/20\n"
          ]
        },
        {
          "name": "stderr",
          "output_type": "stream",
          "text": [
            "c:\\Users\\spooj\\Downloads\\dsa4266\\fake_news\\lib\\site-packages\\keras\\src\\models\\functional.py:225: UserWarning: The structure of `inputs` doesn't match the expected structure: ['keras_tensor_1504', 'keras_tensor_1508']. Received: the structure of inputs=('*', '*')\n",
            "  warnings.warn(\n"
          ]
        },
        {
          "name": "stdout",
          "output_type": "stream",
          "text": [
            "\u001b[1m2684/2684\u001b[0m \u001b[32m━━━━━━━━━━━━━━━━━━━━\u001b[0m\u001b[37m\u001b[0m \u001b[1m176s\u001b[0m 64ms/step - accuracy: 0.8377 - loss: 0.3864 - val_accuracy: 0.9339 - val_loss: 0.2365\n",
            "Epoch 2/20\n",
            "\u001b[1m2684/2684\u001b[0m \u001b[32m━━━━━━━━━━━━━━━━━━━━\u001b[0m\u001b[37m\u001b[0m \u001b[1m170s\u001b[0m 63ms/step - accuracy: 0.9439 - loss: 0.2082 - val_accuracy: 0.9320 - val_loss: 0.2370\n",
            "Epoch 3/20\n",
            "\u001b[1m2684/2684\u001b[0m \u001b[32m━━━━━━━━━━━━━━━━━━━━\u001b[0m\u001b[37m\u001b[0m \u001b[1m161s\u001b[0m 60ms/step - accuracy: 0.9527 - loss: 0.1761 - val_accuracy: 0.9237 - val_loss: 0.2521\n",
            "Epoch 4/20\n",
            "\u001b[1m2684/2684\u001b[0m \u001b[32m━━━━━━━━━━━━━━━━━━━━\u001b[0m\u001b[37m\u001b[0m \u001b[1m161s\u001b[0m 60ms/step - accuracy: 0.9595 - loss: 0.1511 - val_accuracy: 0.9128 - val_loss: 0.3011\n"
          ]
        },
        {
          "name": "stderr",
          "output_type": "stream",
          "text": [
            "[I 2024-11-02 04:33:41,334] Trial 84 finished with value: 0.933867335319519 and parameters: {'embedding_dim': 256, 'filters_1': 5, 'filters_2': 20, 'kernel_size1': 7, 'kernel_size_2': 7, 'kernel_reg_1': 0.001, 'dense_1': 128, 'dense_2': 32, 'dropout_1': 0.4, 'dropout_2': 0.4, 'learning_rate': 0.001, 'batch_size': 32, 'epochs': 20}. Best is trial 65 with value: 0.9356836676597595.\n"
          ]
        },
        {
          "name": "stdout",
          "output_type": "stream",
          "text": [
            "Epoch 1/20\n"
          ]
        },
        {
          "name": "stderr",
          "output_type": "stream",
          "text": [
            "c:\\Users\\spooj\\Downloads\\dsa4266\\fake_news\\lib\\site-packages\\keras\\src\\models\\functional.py:225: UserWarning: The structure of `inputs` doesn't match the expected structure: ['keras_tensor_1520', 'keras_tensor_1524']. Received: the structure of inputs=('*', '*')\n",
            "  warnings.warn(\n"
          ]
        },
        {
          "name": "stdout",
          "output_type": "stream",
          "text": [
            "\u001b[1m2684/2684\u001b[0m \u001b[32m━━━━━━━━━━━━━━━━━━━━\u001b[0m\u001b[37m\u001b[0m \u001b[1m173s\u001b[0m 63ms/step - accuracy: 0.8096 - loss: 0.4228 - val_accuracy: 0.9300 - val_loss: 0.2470\n",
            "Epoch 2/20\n",
            "\u001b[1m2684/2684\u001b[0m \u001b[32m━━━━━━━━━━━━━━━━━━━━\u001b[0m\u001b[37m\u001b[0m \u001b[1m168s\u001b[0m 63ms/step - accuracy: 0.9420 - loss: 0.2132 - val_accuracy: 0.9275 - val_loss: 0.2463\n",
            "Epoch 3/20\n",
            "\u001b[1m2684/2684\u001b[0m \u001b[32m━━━━━━━━━━━━━━━━━━━━\u001b[0m\u001b[37m\u001b[0m \u001b[1m155s\u001b[0m 58ms/step - accuracy: 0.9504 - loss: 0.1854 - val_accuracy: 0.9204 - val_loss: 0.2611\n",
            "Epoch 4/20\n",
            "\u001b[1m2684/2684\u001b[0m \u001b[32m━━━━━━━━━━━━━━━━━━━━\u001b[0m\u001b[37m\u001b[0m \u001b[1m155s\u001b[0m 58ms/step - accuracy: 0.9613 - loss: 0.1474 - val_accuracy: 0.9142 - val_loss: 0.2901\n"
          ]
        },
        {
          "name": "stderr",
          "output_type": "stream",
          "text": [
            "[I 2024-11-02 04:44:32,940] Trial 85 finished with value: 0.9299553036689758 and parameters: {'embedding_dim': 256, 'filters_1': 5, 'filters_2': 10, 'kernel_size1': 7, 'kernel_size_2': 7, 'kernel_reg_1': 0.001, 'dense_1': 128, 'dense_2': 32, 'dropout_1': 0.4, 'dropout_2': 0.4, 'learning_rate': 0.001, 'batch_size': 32, 'epochs': 20}. Best is trial 65 with value: 0.9356836676597595.\n"
          ]
        },
        {
          "name": "stdout",
          "output_type": "stream",
          "text": [
            "Epoch 1/5\n"
          ]
        },
        {
          "name": "stderr",
          "output_type": "stream",
          "text": [
            "c:\\Users\\spooj\\Downloads\\dsa4266\\fake_news\\lib\\site-packages\\keras\\src\\models\\functional.py:225: UserWarning: The structure of `inputs` doesn't match the expected structure: ['keras_tensor_1536', 'keras_tensor_1540']. Received: the structure of inputs=('*', '*')\n",
            "  warnings.warn(\n"
          ]
        },
        {
          "name": "stdout",
          "output_type": "stream",
          "text": [
            "\u001b[1m5368/5368\u001b[0m \u001b[32m━━━━━━━━━━━━━━━━━━━━\u001b[0m\u001b[37m\u001b[0m \u001b[1m336s\u001b[0m 60ms/step - accuracy: 0.8500 - loss: 0.3749 - val_accuracy: 0.9349 - val_loss: 0.2320\n",
            "Epoch 2/5\n",
            "\u001b[1m5368/5368\u001b[0m \u001b[32m━━━━━━━━━━━━━━━━━━━━\u001b[0m\u001b[37m\u001b[0m \u001b[1m318s\u001b[0m 59ms/step - accuracy: 0.9430 - loss: 0.2106 - val_accuracy: 0.9330 - val_loss: 0.2326\n",
            "Epoch 3/5\n",
            "\u001b[1m5368/5368\u001b[0m \u001b[32m━━━━━━━━━━━━━━━━━━━━\u001b[0m\u001b[37m\u001b[0m \u001b[1m317s\u001b[0m 59ms/step - accuracy: 0.9500 - loss: 0.1853 - val_accuracy: 0.9268 - val_loss: 0.2471\n",
            "Epoch 4/5\n",
            "\u001b[1m5368/5368\u001b[0m \u001b[32m━━━━━━━━━━━━━━━━━━━━\u001b[0m\u001b[37m\u001b[0m \u001b[1m309s\u001b[0m 58ms/step - accuracy: 0.9577 - loss: 0.1570 - val_accuracy: 0.9172 - val_loss: 0.2697\n"
          ]
        },
        {
          "name": "stderr",
          "output_type": "stream",
          "text": [
            "[I 2024-11-02 05:05:54,334] Trial 86 finished with value: 0.934891939163208 and parameters: {'embedding_dim': 256, 'filters_1': 5, 'filters_2': 20, 'kernel_size1': 7, 'kernel_size_2': 5, 'kernel_reg_1': 0.001, 'dense_1': 128, 'dense_2': 32, 'dropout_1': 0.4, 'dropout_2': 0.4, 'learning_rate': 0.001, 'batch_size': 16, 'epochs': 5}. Best is trial 65 with value: 0.9356836676597595.\n"
          ]
        },
        {
          "name": "stdout",
          "output_type": "stream",
          "text": [
            "Epoch 1/5\n"
          ]
        },
        {
          "name": "stderr",
          "output_type": "stream",
          "text": [
            "c:\\Users\\spooj\\Downloads\\dsa4266\\fake_news\\lib\\site-packages\\keras\\src\\models\\functional.py:225: UserWarning: The structure of `inputs` doesn't match the expected structure: ['keras_tensor_1552', 'keras_tensor_1556']. Received: the structure of inputs=('*', '*')\n",
            "  warnings.warn(\n"
          ]
        },
        {
          "name": "stdout",
          "output_type": "stream",
          "text": [
            "\u001b[1m5368/5368\u001b[0m \u001b[32m━━━━━━━━━━━━━━━━━━━━\u001b[0m\u001b[37m\u001b[0m \u001b[1m323s\u001b[0m 59ms/step - accuracy: 0.8529 - loss: 0.3713 - val_accuracy: 0.9355 - val_loss: 0.2309\n",
            "Epoch 2/5\n",
            "\u001b[1m5368/5368\u001b[0m \u001b[32m━━━━━━━━━━━━━━━━━━━━\u001b[0m\u001b[37m\u001b[0m \u001b[1m330s\u001b[0m 61ms/step - accuracy: 0.9419 - loss: 0.2112 - val_accuracy: 0.9335 - val_loss: 0.2333\n",
            "Epoch 3/5\n",
            "\u001b[1m5368/5368\u001b[0m \u001b[32m━━━━━━━━━━━━━━━━━━━━\u001b[0m\u001b[37m\u001b[0m \u001b[1m324s\u001b[0m 60ms/step - accuracy: 0.9531 - loss: 0.1773 - val_accuracy: 0.9271 - val_loss: 0.2500\n",
            "Epoch 4/5\n",
            "\u001b[1m5368/5368\u001b[0m \u001b[32m━━━━━━━━━━━━━━━━━━━━\u001b[0m\u001b[37m\u001b[0m \u001b[1m320s\u001b[0m 60ms/step - accuracy: 0.9578 - loss: 0.1558 - val_accuracy: 0.9158 - val_loss: 0.2755\n"
          ]
        },
        {
          "name": "stderr",
          "output_type": "stream",
          "text": [
            "[I 2024-11-02 05:27:30,756] Trial 87 finished with value: 0.9354974031448364 and parameters: {'embedding_dim': 256, 'filters_1': 5, 'filters_2': 20, 'kernel_size1': 7, 'kernel_size_2': 3, 'kernel_reg_1': 0.001, 'dense_1': 128, 'dense_2': 32, 'dropout_1': 0.4, 'dropout_2': 0.4, 'learning_rate': 0.001, 'batch_size': 16, 'epochs': 5}. Best is trial 65 with value: 0.9356836676597595.\n"
          ]
        },
        {
          "name": "stdout",
          "output_type": "stream",
          "text": [
            "Epoch 1/5\n"
          ]
        },
        {
          "name": "stderr",
          "output_type": "stream",
          "text": [
            "c:\\Users\\spooj\\Downloads\\dsa4266\\fake_news\\lib\\site-packages\\keras\\src\\models\\functional.py:225: UserWarning: The structure of `inputs` doesn't match the expected structure: ['keras_tensor_1568', 'keras_tensor_1572']. Received: the structure of inputs=('*', '*')\n",
            "  warnings.warn(\n"
          ]
        },
        {
          "name": "stdout",
          "output_type": "stream",
          "text": [
            "\u001b[1m5368/5368\u001b[0m \u001b[32m━━━━━━━━━━━━━━━━━━━━\u001b[0m\u001b[37m\u001b[0m \u001b[1m321s\u001b[0m 59ms/step - accuracy: 0.8593 - loss: 0.3689 - val_accuracy: 0.9358 - val_loss: 0.2334\n",
            "Epoch 2/5\n",
            "\u001b[1m5368/5368\u001b[0m \u001b[32m━━━━━━━━━━━━━━━━━━━━\u001b[0m\u001b[37m\u001b[0m \u001b[1m313s\u001b[0m 58ms/step - accuracy: 0.9437 - loss: 0.2100 - val_accuracy: 0.9335 - val_loss: 0.2333\n",
            "Epoch 3/5\n",
            "\u001b[1m5368/5368\u001b[0m \u001b[32m━━━━━━━━━━━━━━━━━━━━\u001b[0m\u001b[37m\u001b[0m \u001b[1m320s\u001b[0m 60ms/step - accuracy: 0.9510 - loss: 0.1838 - val_accuracy: 0.9275 - val_loss: 0.2535\n",
            "Epoch 4/5\n",
            "\u001b[1m5368/5368\u001b[0m \u001b[32m━━━━━━━━━━━━━━━━━━━━\u001b[0m\u001b[37m\u001b[0m \u001b[1m320s\u001b[0m 60ms/step - accuracy: 0.9580 - loss: 0.1560 - val_accuracy: 0.9187 - val_loss: 0.2755\n"
          ]
        },
        {
          "name": "stderr",
          "output_type": "stream",
          "text": [
            "[I 2024-11-02 05:48:45,461] Trial 88 finished with value: 0.9357768297195435 and parameters: {'embedding_dim': 256, 'filters_1': 5, 'filters_2': 20, 'kernel_size1': 7, 'kernel_size_2': 3, 'kernel_reg_1': 0.001, 'dense_1': 128, 'dense_2': 32, 'dropout_1': 0.4, 'dropout_2': 0.4, 'learning_rate': 0.001, 'batch_size': 16, 'epochs': 5}. Best is trial 88 with value: 0.9357768297195435.\n"
          ]
        },
        {
          "name": "stdout",
          "output_type": "stream",
          "text": [
            "Epoch 1/5\n"
          ]
        },
        {
          "name": "stderr",
          "output_type": "stream",
          "text": [
            "c:\\Users\\spooj\\Downloads\\dsa4266\\fake_news\\lib\\site-packages\\keras\\src\\models\\functional.py:225: UserWarning: The structure of `inputs` doesn't match the expected structure: ['keras_tensor_1584', 'keras_tensor_1588']. Received: the structure of inputs=('*', '*')\n",
            "  warnings.warn(\n"
          ]
        },
        {
          "name": "stdout",
          "output_type": "stream",
          "text": [
            "\u001b[1m5368/5368\u001b[0m \u001b[32m━━━━━━━━━━━━━━━━━━━━\u001b[0m\u001b[37m\u001b[0m \u001b[1m319s\u001b[0m 59ms/step - accuracy: 0.8350 - loss: 0.3880 - val_accuracy: 0.9353 - val_loss: 0.2360\n",
            "Epoch 2/5\n",
            "\u001b[1m5368/5368\u001b[0m \u001b[32m━━━━━━━━━━━━━━━━━━━━\u001b[0m\u001b[37m\u001b[0m \u001b[1m304s\u001b[0m 57ms/step - accuracy: 0.9427 - loss: 0.2144 - val_accuracy: 0.9292 - val_loss: 0.2387\n",
            "Epoch 3/5\n",
            "\u001b[1m5368/5368\u001b[0m \u001b[32m━━━━━━━━━━━━━━━━━━━━\u001b[0m\u001b[37m\u001b[0m \u001b[1m307s\u001b[0m 57ms/step - accuracy: 0.9499 - loss: 0.1862 - val_accuracy: 0.9260 - val_loss: 0.2522\n",
            "Epoch 4/5\n",
            "\u001b[1m5368/5368\u001b[0m \u001b[32m━━━━━━━━━━━━━━━━━━━━\u001b[0m\u001b[37m\u001b[0m \u001b[1m314s\u001b[0m 58ms/step - accuracy: 0.9569 - loss: 0.1605 - val_accuracy: 0.9192 - val_loss: 0.2691\n"
          ]
        },
        {
          "name": "stderr",
          "output_type": "stream",
          "text": [
            "[I 2024-11-02 06:09:29,460] Trial 89 finished with value: 0.935264527797699 and parameters: {'embedding_dim': 256, 'filters_1': 5, 'filters_2': 20, 'kernel_size1': 7, 'kernel_size_2': 3, 'kernel_reg_1': 0.001, 'dense_1': 128, 'dense_2': 32, 'dropout_1': 0.6, 'dropout_2': 0.4, 'learning_rate': 0.001, 'batch_size': 16, 'epochs': 5}. Best is trial 88 with value: 0.9357768297195435.\n"
          ]
        },
        {
          "name": "stdout",
          "output_type": "stream",
          "text": [
            "Epoch 1/5\n"
          ]
        },
        {
          "name": "stderr",
          "output_type": "stream",
          "text": [
            "c:\\Users\\spooj\\Downloads\\dsa4266\\fake_news\\lib\\site-packages\\keras\\src\\models\\functional.py:225: UserWarning: The structure of `inputs` doesn't match the expected structure: ['keras_tensor_1600', 'keras_tensor_1604']. Received: the structure of inputs=('*', '*')\n",
            "  warnings.warn(\n"
          ]
        },
        {
          "name": "stdout",
          "output_type": "stream",
          "text": [
            "\u001b[1m5368/5368\u001b[0m \u001b[32m━━━━━━━━━━━━━━━━━━━━\u001b[0m\u001b[37m\u001b[0m \u001b[1m300s\u001b[0m 55ms/step - accuracy: 0.7475 - loss: 0.5135 - val_accuracy: 0.9284 - val_loss: 0.2534\n",
            "Epoch 2/5\n",
            "\u001b[1m5368/5368\u001b[0m \u001b[32m━━━━━━━━━━━━━━━━━━━━\u001b[0m\u001b[37m\u001b[0m \u001b[1m283s\u001b[0m 53ms/step - accuracy: 0.9351 - loss: 0.2359 - val_accuracy: 0.9268 - val_loss: 0.2549\n",
            "Epoch 3/5\n",
            "\u001b[1m5368/5368\u001b[0m \u001b[32m━━━━━━━━━━━━━━━━━━━━\u001b[0m\u001b[37m\u001b[0m \u001b[1m289s\u001b[0m 54ms/step - accuracy: 0.9455 - loss: 0.2032 - val_accuracy: 0.9266 - val_loss: 0.2471\n",
            "Epoch 4/5\n",
            "\u001b[1m5368/5368\u001b[0m \u001b[32m━━━━━━━━━━━━━━━━━━━━\u001b[0m\u001b[37m\u001b[0m \u001b[1m295s\u001b[0m 55ms/step - accuracy: 0.9489 - loss: 0.1895 - val_accuracy: 0.9232 - val_loss: 0.2572\n"
          ]
        },
        {
          "name": "stderr",
          "output_type": "stream",
          "text": [
            "[I 2024-11-02 06:28:56,142] Trial 90 finished with value: 0.9284183979034424 and parameters: {'embedding_dim': 256, 'filters_1': 5, 'filters_2': 5, 'kernel_size1': 7, 'kernel_size_2': 3, 'kernel_reg_1': 0.01, 'dense_1': 64, 'dense_2': 32, 'dropout_1': 0.6, 'dropout_2': 0.4, 'learning_rate': 0.001, 'batch_size': 16, 'epochs': 5}. Best is trial 88 with value: 0.9357768297195435.\n"
          ]
        },
        {
          "name": "stdout",
          "output_type": "stream",
          "text": [
            "Epoch 1/5\n"
          ]
        },
        {
          "name": "stderr",
          "output_type": "stream",
          "text": [
            "c:\\Users\\spooj\\Downloads\\dsa4266\\fake_news\\lib\\site-packages\\keras\\src\\models\\functional.py:225: UserWarning: The structure of `inputs` doesn't match the expected structure: ['keras_tensor_1616', 'keras_tensor_1620']. Received: the structure of inputs=('*', '*')\n",
            "  warnings.warn(\n"
          ]
        },
        {
          "name": "stdout",
          "output_type": "stream",
          "text": [
            "\u001b[1m5368/5368\u001b[0m \u001b[32m━━━━━━━━━━━━━━━━━━━━\u001b[0m\u001b[37m\u001b[0m \u001b[1m316s\u001b[0m 58ms/step - accuracy: 0.8572 - loss: 0.3710 - val_accuracy: 0.9335 - val_loss: 0.2368\n",
            "Epoch 2/5\n",
            "\u001b[1m5368/5368\u001b[0m \u001b[32m━━━━━━━━━━━━━━━━━━━━\u001b[0m\u001b[37m\u001b[0m \u001b[1m300s\u001b[0m 56ms/step - accuracy: 0.9437 - loss: 0.2105 - val_accuracy: 0.9297 - val_loss: 0.2413\n",
            "Epoch 3/5\n",
            "\u001b[1m5368/5368\u001b[0m \u001b[32m━━━━━━━━━━━━━━━━━━━━\u001b[0m\u001b[37m\u001b[0m \u001b[1m301s\u001b[0m 56ms/step - accuracy: 0.9506 - loss: 0.1829 - val_accuracy: 0.9239 - val_loss: 0.2592\n",
            "Epoch 4/5\n",
            "\u001b[1m5368/5368\u001b[0m \u001b[32m━━━━━━━━━━━━━━━━━━━━\u001b[0m\u001b[37m\u001b[0m \u001b[1m297s\u001b[0m 55ms/step - accuracy: 0.9573 - loss: 0.1590 - val_accuracy: 0.9208 - val_loss: 0.2730\n"
          ]
        },
        {
          "name": "stderr",
          "output_type": "stream",
          "text": [
            "[I 2024-11-02 06:49:10,934] Trial 91 finished with value: 0.9334948062896729 and parameters: {'embedding_dim': 256, 'filters_1': 5, 'filters_2': 20, 'kernel_size1': 7, 'kernel_size_2': 3, 'kernel_reg_1': 0.001, 'dense_1': 128, 'dense_2': 32, 'dropout_1': 0.6, 'dropout_2': 0.4, 'learning_rate': 0.001, 'batch_size': 16, 'epochs': 5}. Best is trial 88 with value: 0.9357768297195435.\n"
          ]
        },
        {
          "name": "stdout",
          "output_type": "stream",
          "text": [
            "Epoch 1/5\n"
          ]
        },
        {
          "name": "stderr",
          "output_type": "stream",
          "text": [
            "c:\\Users\\spooj\\Downloads\\dsa4266\\fake_news\\lib\\site-packages\\keras\\src\\models\\functional.py:225: UserWarning: The structure of `inputs` doesn't match the expected structure: ['keras_tensor_1632', 'keras_tensor_1636']. Received: the structure of inputs=('*', '*')\n",
            "  warnings.warn(\n"
          ]
        },
        {
          "name": "stdout",
          "output_type": "stream",
          "text": [
            "\u001b[1m5368/5368\u001b[0m \u001b[32m━━━━━━━━━━━━━━━━━━━━\u001b[0m\u001b[37m\u001b[0m \u001b[1m301s\u001b[0m 55ms/step - accuracy: 0.8444 - loss: 0.3815 - val_accuracy: 0.9347 - val_loss: 0.2335\n",
            "Epoch 2/5\n",
            "\u001b[1m5368/5368\u001b[0m \u001b[32m━━━━━━━━━━━━━━━━━━━━\u001b[0m\u001b[37m\u001b[0m \u001b[1m307s\u001b[0m 57ms/step - accuracy: 0.9429 - loss: 0.2118 - val_accuracy: 0.9326 - val_loss: 0.2375\n",
            "Epoch 3/5\n",
            "\u001b[1m5368/5368\u001b[0m \u001b[32m━━━━━━━━━━━━━━━━━━━━\u001b[0m\u001b[37m\u001b[0m \u001b[1m301s\u001b[0m 56ms/step - accuracy: 0.9520 - loss: 0.1806 - val_accuracy: 0.9270 - val_loss: 0.2459\n",
            "Epoch 4/5\n",
            "\u001b[1m5368/5368\u001b[0m \u001b[32m━━━━━━━━━━━━━━━━━━━━\u001b[0m\u001b[37m\u001b[0m \u001b[1m304s\u001b[0m 57ms/step - accuracy: 0.9558 - loss: 0.1632 - val_accuracy: 0.9200 - val_loss: 0.2737\n"
          ]
        },
        {
          "name": "stderr",
          "output_type": "stream",
          "text": [
            "[I 2024-11-02 07:09:24,266] Trial 92 finished with value: 0.9346590638160706 and parameters: {'embedding_dim': 256, 'filters_1': 5, 'filters_2': 20, 'kernel_size1': 7, 'kernel_size_2': 3, 'kernel_reg_1': 0.001, 'dense_1': 128, 'dense_2': 32, 'dropout_1': 0.6, 'dropout_2': 0.4, 'learning_rate': 0.001, 'batch_size': 16, 'epochs': 5}. Best is trial 88 with value: 0.9357768297195435.\n"
          ]
        },
        {
          "name": "stdout",
          "output_type": "stream",
          "text": [
            "Epoch 1/5\n"
          ]
        },
        {
          "name": "stderr",
          "output_type": "stream",
          "text": [
            "c:\\Users\\spooj\\Downloads\\dsa4266\\fake_news\\lib\\site-packages\\keras\\src\\models\\functional.py:225: UserWarning: The structure of `inputs` doesn't match the expected structure: ['keras_tensor_1648', 'keras_tensor_1652']. Received: the structure of inputs=('*', '*')\n",
            "  warnings.warn(\n"
          ]
        },
        {
          "name": "stdout",
          "output_type": "stream",
          "text": [
            "\u001b[1m5368/5368\u001b[0m \u001b[32m━━━━━━━━━━━━━━━━━━━━\u001b[0m\u001b[37m\u001b[0m \u001b[1m306s\u001b[0m 56ms/step - accuracy: 0.8314 - loss: 0.3914 - val_accuracy: 0.9313 - val_loss: 0.2365\n",
            "Epoch 2/5\n",
            "\u001b[1m5368/5368\u001b[0m \u001b[32m━━━━━━━━━━━━━━━━━━━━\u001b[0m\u001b[37m\u001b[0m \u001b[1m305s\u001b[0m 57ms/step - accuracy: 0.9438 - loss: 0.2098 - val_accuracy: 0.9325 - val_loss: 0.2363\n",
            "Epoch 3/5\n",
            "\u001b[1m5368/5368\u001b[0m \u001b[32m━━━━━━━━━━━━━━━━━━━━\u001b[0m\u001b[37m\u001b[0m \u001b[1m302s\u001b[0m 56ms/step - accuracy: 0.9500 - loss: 0.1838 - val_accuracy: 0.9250 - val_loss: 0.2517\n",
            "Epoch 4/5\n",
            "\u001b[1m5368/5368\u001b[0m \u001b[32m━━━━━━━━━━━━━━━━━━━━\u001b[0m\u001b[37m\u001b[0m \u001b[1m302s\u001b[0m 56ms/step - accuracy: 0.9576 - loss: 0.1584 - val_accuracy: 0.9204 - val_loss: 0.2754\n",
            "Epoch 5/5\n",
            "\u001b[1m5368/5368\u001b[0m \u001b[32m━━━━━━━━━━━━━━━━━━━━\u001b[0m\u001b[37m\u001b[0m \u001b[1m297s\u001b[0m 55ms/step - accuracy: 0.9621 - loss: 0.1404 - val_accuracy: 0.9058 - val_loss: 0.3146\n"
          ]
        },
        {
          "name": "stderr",
          "output_type": "stream",
          "text": [
            "[I 2024-11-02 07:34:36,324] Trial 93 finished with value: 0.9325167536735535 and parameters: {'embedding_dim': 256, 'filters_1': 5, 'filters_2': 20, 'kernel_size1': 7, 'kernel_size_2': 3, 'kernel_reg_1': 0.001, 'dense_1': 128, 'dense_2': 32, 'dropout_1': 0.6, 'dropout_2': 0.4, 'learning_rate': 0.001, 'batch_size': 16, 'epochs': 5}. Best is trial 88 with value: 0.9357768297195435.\n"
          ]
        },
        {
          "name": "stdout",
          "output_type": "stream",
          "text": [
            "Epoch 1/5\n"
          ]
        },
        {
          "name": "stderr",
          "output_type": "stream",
          "text": [
            "c:\\Users\\spooj\\Downloads\\dsa4266\\fake_news\\lib\\site-packages\\keras\\src\\models\\functional.py:225: UserWarning: The structure of `inputs` doesn't match the expected structure: ['keras_tensor_1664', 'keras_tensor_1668']. Received: the structure of inputs=('*', '*')\n",
            "  warnings.warn(\n"
          ]
        },
        {
          "name": "stdout",
          "output_type": "stream",
          "text": [
            "\u001b[1m5368/5368\u001b[0m \u001b[32m━━━━━━━━━━━━━━━━━━━━\u001b[0m\u001b[37m\u001b[0m \u001b[1m297s\u001b[0m 55ms/step - accuracy: 0.8516 - loss: 0.3767 - val_accuracy: 0.9282 - val_loss: 0.2489\n",
            "Epoch 2/5\n",
            "\u001b[1m5368/5368\u001b[0m \u001b[32m━━━━━━━━━━━━━━━━━━━━\u001b[0m\u001b[37m\u001b[0m \u001b[1m295s\u001b[0m 55ms/step - accuracy: 0.9432 - loss: 0.2117 - val_accuracy: 0.9333 - val_loss: 0.2338\n",
            "Epoch 3/5\n",
            "\u001b[1m5368/5368\u001b[0m \u001b[32m━━━━━━━━━━━━━━━━━━━━\u001b[0m\u001b[37m\u001b[0m \u001b[1m304s\u001b[0m 57ms/step - accuracy: 0.9517 - loss: 0.1820 - val_accuracy: 0.9278 - val_loss: 0.2474\n",
            "Epoch 4/5\n",
            "\u001b[1m5368/5368\u001b[0m \u001b[32m━━━━━━━━━━━━━━━━━━━━\u001b[0m\u001b[37m\u001b[0m \u001b[1m299s\u001b[0m 56ms/step - accuracy: 0.9571 - loss: 0.1603 - val_accuracy: 0.9195 - val_loss: 0.2674\n",
            "Epoch 5/5\n",
            "\u001b[1m5368/5368\u001b[0m \u001b[32m━━━━━━━━━━━━━━━━━━━━\u001b[0m\u001b[37m\u001b[0m \u001b[1m306s\u001b[0m 57ms/step - accuracy: 0.9642 - loss: 0.1337 - val_accuracy: 0.9078 - val_loss: 0.2932\n"
          ]
        },
        {
          "name": "stderr",
          "output_type": "stream",
          "text": [
            "[I 2024-11-02 07:59:37,375] Trial 94 finished with value: 0.9332619309425354 and parameters: {'embedding_dim': 256, 'filters_1': 5, 'filters_2': 20, 'kernel_size1': 7, 'kernel_size_2': 3, 'kernel_reg_1': 0.001, 'dense_1': 128, 'dense_2': 32, 'dropout_1': 0.6, 'dropout_2': 0.4, 'learning_rate': 0.001, 'batch_size': 16, 'epochs': 5}. Best is trial 88 with value: 0.9357768297195435.\n"
          ]
        },
        {
          "name": "stdout",
          "output_type": "stream",
          "text": [
            "Epoch 1/5\n"
          ]
        },
        {
          "name": "stderr",
          "output_type": "stream",
          "text": [
            "c:\\Users\\spooj\\Downloads\\dsa4266\\fake_news\\lib\\site-packages\\keras\\src\\models\\functional.py:225: UserWarning: The structure of `inputs` doesn't match the expected structure: ['keras_tensor_1680', 'keras_tensor_1684']. Received: the structure of inputs=('*', '*')\n",
            "  warnings.warn(\n"
          ]
        },
        {
          "name": "stdout",
          "output_type": "stream",
          "text": [
            "\u001b[1m5368/5368\u001b[0m \u001b[32m━━━━━━━━━━━━━━━━━━━━\u001b[0m\u001b[37m\u001b[0m \u001b[1m186s\u001b[0m 34ms/step - accuracy: 0.7358 - loss: 0.5206 - val_accuracy: 0.9285 - val_loss: 0.2626\n",
            "Epoch 2/5\n",
            "\u001b[1m5368/5368\u001b[0m \u001b[32m━━━━━━━━━━━━━━━━━━━━\u001b[0m\u001b[37m\u001b[0m \u001b[1m188s\u001b[0m 35ms/step - accuracy: 0.9363 - loss: 0.2437 - val_accuracy: 0.9321 - val_loss: 0.2517\n",
            "Epoch 3/5\n",
            "\u001b[1m5368/5368\u001b[0m \u001b[32m━━━━━━━━━━━━━━━━━━━━\u001b[0m\u001b[37m\u001b[0m \u001b[1m197s\u001b[0m 37ms/step - accuracy: 0.9473 - loss: 0.2092 - val_accuracy: 0.9312 - val_loss: 0.2477\n",
            "Epoch 4/5\n",
            "\u001b[1m5368/5368\u001b[0m \u001b[32m━━━━━━━━━━━━━━━━━━━━\u001b[0m\u001b[37m\u001b[0m \u001b[1m198s\u001b[0m 37ms/step - accuracy: 0.9520 - loss: 0.1902 - val_accuracy: 0.9247 - val_loss: 0.2584\n",
            "Epoch 5/5\n",
            "\u001b[1m5368/5368\u001b[0m \u001b[32m━━━━━━━━━━━━━━━━━━━━\u001b[0m\u001b[37m\u001b[0m \u001b[1m189s\u001b[0m 35ms/step - accuracy: 0.9585 - loss: 0.1644 - val_accuracy: 0.9192 - val_loss: 0.2742\n"
          ]
        },
        {
          "name": "stderr",
          "output_type": "stream",
          "text": [
            "[I 2024-11-02 08:15:35,809] Trial 95 finished with value: 0.9320976138114929 and parameters: {'embedding_dim': 128, 'filters_1': 5, 'filters_2': 20, 'kernel_size1': 7, 'kernel_size_2': 3, 'kernel_reg_1': 0.001, 'dense_1': 128, 'dense_2': 32, 'dropout_1': 0.4, 'dropout_2': 0.4, 'learning_rate': 0.00015, 'batch_size': 16, 'epochs': 5}. Best is trial 88 with value: 0.9357768297195435.\n"
          ]
        },
        {
          "name": "stdout",
          "output_type": "stream",
          "text": [
            "Epoch 1/5\n"
          ]
        },
        {
          "name": "stderr",
          "output_type": "stream",
          "text": [
            "c:\\Users\\spooj\\Downloads\\dsa4266\\fake_news\\lib\\site-packages\\keras\\src\\models\\functional.py:225: UserWarning: The structure of `inputs` doesn't match the expected structure: ['keras_tensor_1696', 'keras_tensor_1700']. Received: the structure of inputs=('*', '*')\n",
            "  warnings.warn(\n"
          ]
        },
        {
          "name": "stdout",
          "output_type": "stream",
          "text": [
            "\u001b[1m5368/5368\u001b[0m \u001b[32m━━━━━━━━━━━━━━━━━━━━\u001b[0m\u001b[37m\u001b[0m \u001b[1m163s\u001b[0m 29ms/step - accuracy: 0.8209 - loss: 0.4102 - val_accuracy: 0.9183 - val_loss: 0.2653\n",
            "Epoch 2/5\n",
            "\u001b[1m5368/5368\u001b[0m \u001b[32m━━━━━━━━━━━━━━━━━━━━\u001b[0m\u001b[37m\u001b[0m \u001b[1m150s\u001b[0m 28ms/step - accuracy: 0.9346 - loss: 0.2284 - val_accuracy: 0.9243 - val_loss: 0.2488\n",
            "Epoch 3/5\n",
            "\u001b[1m5368/5368\u001b[0m \u001b[32m━━━━━━━━━━━━━━━━━━━━\u001b[0m\u001b[37m\u001b[0m \u001b[1m154s\u001b[0m 29ms/step - accuracy: 0.9445 - loss: 0.1960 - val_accuracy: 0.9187 - val_loss: 0.2600\n",
            "Epoch 4/5\n",
            "\u001b[1m5368/5368\u001b[0m \u001b[32m━━━━━━━━━━━━━━━━━━━━\u001b[0m\u001b[37m\u001b[0m \u001b[1m151s\u001b[0m 28ms/step - accuracy: 0.9532 - loss: 0.1686 - val_accuracy: 0.9115 - val_loss: 0.2751\n",
            "Epoch 5/5\n",
            "\u001b[1m5368/5368\u001b[0m \u001b[32m━━━━━━━━━━━━━━━━━━━━\u001b[0m\u001b[37m\u001b[0m \u001b[1m153s\u001b[0m 28ms/step - accuracy: 0.9601 - loss: 0.1463 - val_accuracy: 0.9079 - val_loss: 0.2871\n"
          ]
        },
        {
          "name": "stderr",
          "output_type": "stream",
          "text": [
            "[I 2024-11-02 08:28:27,292] Trial 96 finished with value: 0.9242734909057617 and parameters: {'embedding_dim': 64, 'filters_1': 5, 'filters_2': 20, 'kernel_size1': 7, 'kernel_size_2': 3, 'kernel_reg_1': 0.001, 'dense_1': 128, 'dense_2': 32, 'dropout_1': 0.4, 'dropout_2': 0.4, 'learning_rate': 0.001, 'batch_size': 16, 'epochs': 5}. Best is trial 88 with value: 0.9357768297195435.\n"
          ]
        },
        {
          "name": "stdout",
          "output_type": "stream",
          "text": [
            "Epoch 1/5\n"
          ]
        },
        {
          "name": "stderr",
          "output_type": "stream",
          "text": [
            "c:\\Users\\spooj\\Downloads\\dsa4266\\fake_news\\lib\\site-packages\\keras\\src\\models\\functional.py:225: UserWarning: The structure of `inputs` doesn't match the expected structure: ['keras_tensor_1712', 'keras_tensor_1716']. Received: the structure of inputs=('*', '*')\n",
            "  warnings.warn(\n"
          ]
        },
        {
          "name": "stdout",
          "output_type": "stream",
          "text": [
            "\u001b[1m5368/5368\u001b[0m \u001b[32m━━━━━━━━━━━━━━━━━━━━\u001b[0m\u001b[37m\u001b[0m \u001b[1m306s\u001b[0m 56ms/step - accuracy: 0.8378 - loss: 0.3900 - val_accuracy: 0.9328 - val_loss: 0.2356\n",
            "Epoch 2/5\n",
            "\u001b[1m5368/5368\u001b[0m \u001b[32m━━━━━━━━━━━━━━━━━━━━\u001b[0m\u001b[37m\u001b[0m \u001b[1m305s\u001b[0m 57ms/step - accuracy: 0.9435 - loss: 0.2090 - val_accuracy: 0.9318 - val_loss: 0.2354\n",
            "Epoch 3/5\n",
            "\u001b[1m5368/5368\u001b[0m \u001b[32m━━━━━━━━━━━━━━━━━━━━\u001b[0m\u001b[37m\u001b[0m \u001b[1m454s\u001b[0m 85ms/step - accuracy: 0.9491 - loss: 0.1873 - val_accuracy: 0.9262 - val_loss: 0.2583\n",
            "Epoch 4/5\n",
            "\u001b[1m5368/5368\u001b[0m \u001b[32m━━━━━━━━━━━━━━━━━━━━\u001b[0m\u001b[37m\u001b[0m \u001b[1m476s\u001b[0m 89ms/step - accuracy: 0.9576 - loss: 0.1575 - val_accuracy: 0.9179 - val_loss: 0.2756\n"
          ]
        },
        {
          "name": "stderr",
          "output_type": "stream",
          "text": [
            "[I 2024-11-02 08:54:09,743] Trial 97 finished with value: 0.9328427910804749 and parameters: {'embedding_dim': 256, 'filters_1': 5, 'filters_2': 20, 'kernel_size1': 7, 'kernel_size_2': 3, 'kernel_reg_1': 0.001, 'dense_1': 128, 'dense_2': 32, 'dropout_1': 0.4, 'dropout_2': 0.4, 'learning_rate': 0.001, 'batch_size': 16, 'epochs': 5}. Best is trial 88 with value: 0.9357768297195435.\n"
          ]
        },
        {
          "name": "stdout",
          "output_type": "stream",
          "text": [
            "Epoch 1/5\n"
          ]
        },
        {
          "name": "stderr",
          "output_type": "stream",
          "text": [
            "c:\\Users\\spooj\\Downloads\\dsa4266\\fake_news\\lib\\site-packages\\keras\\src\\models\\functional.py:225: UserWarning: The structure of `inputs` doesn't match the expected structure: ['keras_tensor_1728', 'keras_tensor_1732']. Received: the structure of inputs=('*', '*')\n",
            "  warnings.warn(\n"
          ]
        },
        {
          "name": "stdout",
          "output_type": "stream",
          "text": [
            "\u001b[1m5368/5368\u001b[0m \u001b[32m━━━━━━━━━━━━━━━━━━━━\u001b[0m\u001b[37m\u001b[0m \u001b[1m489s\u001b[0m 89ms/step - accuracy: 0.8362 - loss: 0.3888 - val_accuracy: 0.9317 - val_loss: 0.2351\n",
            "Epoch 2/5\n",
            "\u001b[1m5368/5368\u001b[0m \u001b[32m━━━━━━━━━━━━━━━━━━━━\u001b[0m\u001b[37m\u001b[0m \u001b[1m481s\u001b[0m 90ms/step - accuracy: 0.9420 - loss: 0.2127 - val_accuracy: 0.9308 - val_loss: 0.2410\n",
            "Epoch 3/5\n",
            "\u001b[1m5368/5368\u001b[0m \u001b[32m━━━━━━━━━━━━━━━━━━━━\u001b[0m\u001b[37m\u001b[0m \u001b[1m484s\u001b[0m 90ms/step - accuracy: 0.9503 - loss: 0.1845 - val_accuracy: 0.9253 - val_loss: 0.2511\n",
            "Epoch 4/5\n",
            "\u001b[1m5368/5368\u001b[0m \u001b[32m━━━━━━━━━━━━━━━━━━━━\u001b[0m\u001b[37m\u001b[0m \u001b[1m477s\u001b[0m 89ms/step - accuracy: 0.9575 - loss: 0.1583 - val_accuracy: 0.9159 - val_loss: 0.2826\n"
          ]
        },
        {
          "name": "stderr",
          "output_type": "stream",
          "text": [
            "[I 2024-11-02 09:26:22,073] Trial 98 finished with value: 0.9316784739494324 and parameters: {'embedding_dim': 256, 'filters_1': 5, 'filters_2': 20, 'kernel_size1': 7, 'kernel_size_2': 3, 'kernel_reg_1': 0.001, 'dense_1': 128, 'dense_2': 32, 'dropout_1': 0.6, 'dropout_2': 0.4, 'learning_rate': 0.001, 'batch_size': 16, 'epochs': 5}. Best is trial 88 with value: 0.9357768297195435.\n"
          ]
        },
        {
          "name": "stdout",
          "output_type": "stream",
          "text": [
            "Epoch 1/5\n"
          ]
        },
        {
          "name": "stderr",
          "output_type": "stream",
          "text": [
            "c:\\Users\\spooj\\Downloads\\dsa4266\\fake_news\\lib\\site-packages\\keras\\src\\models\\functional.py:225: UserWarning: The structure of `inputs` doesn't match the expected structure: ['keras_tensor_1744', 'keras_tensor_1748']. Received: the structure of inputs=('*', '*')\n",
            "  warnings.warn(\n"
          ]
        },
        {
          "name": "stdout",
          "output_type": "stream",
          "text": [
            "\u001b[1m5368/5368\u001b[0m \u001b[32m━━━━━━━━━━━━━━━━━━━━\u001b[0m\u001b[37m\u001b[0m \u001b[1m398s\u001b[0m 72ms/step - accuracy: 0.8557 - loss: 0.3654 - val_accuracy: 0.9329 - val_loss: 0.2344\n",
            "Epoch 2/5\n",
            "\u001b[1m5368/5368\u001b[0m \u001b[32m━━━━━━━━━━━━━━━━━━━━\u001b[0m\u001b[37m\u001b[0m \u001b[1m389s\u001b[0m 73ms/step - accuracy: 0.9415 - loss: 0.2135 - val_accuracy: 0.9294 - val_loss: 0.2461\n",
            "Epoch 3/5\n",
            "\u001b[1m5368/5368\u001b[0m \u001b[32m━━━━━━━━━━━━━━━━━━━━\u001b[0m\u001b[37m\u001b[0m \u001b[1m394s\u001b[0m 73ms/step - accuracy: 0.9508 - loss: 0.1812 - val_accuracy: 0.9250 - val_loss: 0.2526\n",
            "Epoch 4/5\n",
            "\u001b[1m5368/5368\u001b[0m \u001b[32m━━━━━━━━━━━━━━━━━━━━\u001b[0m\u001b[37m\u001b[0m \u001b[1m395s\u001b[0m 74ms/step - accuracy: 0.9575 - loss: 0.1527 - val_accuracy: 0.9164 - val_loss: 0.2805\n"
          ]
        },
        {
          "name": "stderr",
          "output_type": "stream",
          "text": [
            "[I 2024-11-02 09:52:39,202] Trial 99 finished with value: 0.9328893423080444 and parameters: {'embedding_dim': 128, 'filters_1': 5, 'filters_2': 20, 'kernel_size1': 15, 'kernel_size_2': 3, 'kernel_reg_1': 0.001, 'dense_1': 128, 'dense_2': 32, 'dropout_1': 0.4, 'dropout_2': 0.4, 'learning_rate': 0.001, 'batch_size': 16, 'epochs': 5}. Best is trial 88 with value: 0.9357768297195435.\n"
          ]
        },
        {
          "name": "stdout",
          "output_type": "stream",
          "text": [
            "Best hyperparameters: {'embedding_dim': 256, 'filters_1': 5, 'filters_2': 20, 'kernel_size1': 7, 'kernel_size_2': 3, 'kernel_reg_1': 0.001, 'dense_1': 128, 'dense_2': 32, 'dropout_1': 0.4, 'dropout_2': 0.4, 'learning_rate': 0.001, 'batch_size': 16, 'epochs': 5}\n",
            "Best validation accuracy: 0.9357768297195435\n"
          ]
        }
      ],
      "source": [
        "study = optuna.create_study(direction=\"maximize\")\n",
        "study.optimize(lambda trial: objective(trial, X_ml_train, X_ml_val, X_text_train, X_text_val, y_train, y_val), n_trials=100)  # Adjust number of trials as needed\n",
        "\n",
        "# Print best hyperparameters\n",
        "print(\"Best hyperparameters:\", study.best_params)\n",
        "print(\"Best validation accuracy:\", study.best_value)\n"
      ]
    },
    {
      "cell_type": "code",
      "execution_count": 45,
      "metadata": {},
      "outputs": [],
      "source": [
        "from tensorflow import keras\n",
        "model = keras.models.load_model(\"../../dsa4266/cnn-88.keras\")"
      ]
    },
    {
      "cell_type": "code",
      "execution_count": 46,
      "metadata": {},
      "outputs": [
        {
          "name": "stdout",
          "output_type": "stream",
          "text": [
            "\u001b[1m 13/839\u001b[0m \u001b[37m━━━━━━━━━━━━━━━━━━━━\u001b[0m \u001b[1m3s\u001b[0m 4ms/step    "
          ]
        },
        {
          "name": "stderr",
          "output_type": "stream",
          "text": [
            "c:\\Users\\spooj\\Downloads\\dsa4266\\fake_news\\lib\\site-packages\\keras\\src\\models\\functional.py:225: UserWarning: The structure of `inputs` doesn't match the expected structure: ['input_layer_196', 'input_layer_197']. Received: the structure of inputs=('*', '*')\n",
            "  warnings.warn(\n"
          ]
        },
        {
          "name": "stdout",
          "output_type": "stream",
          "text": [
            "\u001b[1m839/839\u001b[0m \u001b[32m━━━━━━━━━━━━━━━━━━━━\u001b[0m\u001b[37m\u001b[0m \u001b[1m3s\u001b[0m 4ms/step\n",
            "              precision    recall  f1-score   support\n",
            "\n",
            "           0       0.93      0.94      0.94     13059\n",
            "           1       0.94      0.94      0.94     13781\n",
            "\n",
            "    accuracy                           0.94     26840\n",
            "   macro avg       0.94      0.94      0.94     26840\n",
            "weighted avg       0.94      0.94      0.94     26840\n",
            "\n",
            "[[12261   798]\n",
            " [  885 12896]]\n"
          ]
        }
      ],
      "source": [
        "predictions = model.predict([X_ml_test, X_text_test])\n",
        "predictions = np.where(predictions >= 0.5, 1, 0)\n",
        "print(classification_report(y_test, predictions))\n",
        "print(confusion_matrix(y_test, predictions))"
      ]
    },
    {
      "cell_type": "markdown",
      "metadata": {},
      "source": [
        "All preprocessing techniques applied, vocab_size = 50,000  \n",
        "\n",
        "All the trials which performed well didn't train for long.  \n",
        "\n",
        "Based on the hyperparameter tuning results (looking at runs 9, 20, 34, 65, 85):\n",
        "\n",
        "- embedding: 256  \n",
        "- filters_1: 5  \n",
        "- filters_2: 20  \n",
        "- kernel_size_1: 7  \n",
        "- kernel_size_2: 3  \n",
        "- Dense_1: 128  \n",
        "- Dense_2: 32/64  \n",
        "- LR: 0.001  \n",
        "- Batch size: 16/64  \n"
      ]
    },
    {
      "cell_type": "markdown",
      "metadata": {},
      "source": [
        "## Others"
      ]
    },
    {
      "cell_type": "code",
      "execution_count": null,
      "metadata": {
        "colab": {
          "base_uri": "https://localhost:8080/"
        },
        "id": "wGGodHsoO79g",
        "outputId": "872111ae-e463-458f-9112-034e6cd5ad44"
      },
      "outputs": [
        {
          "name": "stdout",
          "output_type": "stream",
          "text": [
            "Epoch 1/10\n"
          ]
        },
        {
          "name": "stderr",
          "output_type": "stream",
          "text": [
            "c:\\Users\\spooj\\Downloads\\dsa4266\\fake_news\\lib\\site-packages\\keras\\src\\layers\\core\\embedding.py:90: UserWarning: Argument `input_length` is deprecated. Just remove it.\n",
            "  warnings.warn(\n",
            "c:\\Users\\spooj\\Downloads\\dsa4266\\fake_news\\lib\\site-packages\\keras\\src\\models\\functional.py:225: UserWarning: The structure of `inputs` doesn't match the expected structure: ['keras_tensor_16', 'keras_tensor_20']. Received: the structure of inputs=('*', '*')\n",
            "  warnings.warn(\n"
          ]
        },
        {
          "name": "stdout",
          "output_type": "stream",
          "text": [
            "\u001b[1m2684/2684\u001b[0m \u001b[32m━━━━━━━━━━━━━━━━━━━━\u001b[0m\u001b[37m\u001b[0m \u001b[1m0s\u001b[0m 14ms/step - accuracy: 0.7724 - loss: 0.4710\n",
            "Epoch 1: val_loss improved from inf to 0.26638, saving model to ./best_model_mutual_info_3.keras\n",
            "\u001b[1m2684/2684\u001b[0m \u001b[32m━━━━━━━━━━━━━━━━━━━━\u001b[0m\u001b[37m\u001b[0m \u001b[1m43s\u001b[0m 15ms/step - accuracy: 0.7725 - loss: 0.4709 - val_accuracy: 0.9203 - val_loss: 0.2664\n",
            "Epoch 2/10\n",
            "\u001b[1m2684/2684\u001b[0m \u001b[32m━━━━━━━━━━━━━━━━━━━━\u001b[0m\u001b[37m\u001b[0m \u001b[1m0s\u001b[0m 14ms/step - accuracy: 0.9269 - loss: 0.2510\n",
            "Epoch 2: val_loss improved from 0.26638 to 0.26367, saving model to ./best_model_mutual_info_3.keras\n",
            "\u001b[1m2684/2684\u001b[0m \u001b[32m━━━━━━━━━━━━━━━━━━━━\u001b[0m\u001b[37m\u001b[0m \u001b[1m40s\u001b[0m 15ms/step - accuracy: 0.9269 - loss: 0.2510 - val_accuracy: 0.9206 - val_loss: 0.2637\n",
            "Epoch 3/10\n",
            "\u001b[1m2682/2684\u001b[0m \u001b[32m━━━━━━━━━━━━━━━━━━━\u001b[0m\u001b[37m━\u001b[0m \u001b[1m0s\u001b[0m 15ms/step - accuracy: 0.9368 - loss: 0.2217\n",
            "Epoch 3: val_loss did not improve from 0.26367\n",
            "\u001b[1m2684/2684\u001b[0m \u001b[32m━━━━━━━━━━━━━━━━━━━━\u001b[0m\u001b[37m\u001b[0m \u001b[1m41s\u001b[0m 15ms/step - accuracy: 0.9368 - loss: 0.2218 - val_accuracy: 0.9180 - val_loss: 0.2752\n",
            "Epoch 4/10\n",
            "\u001b[1m2684/2684\u001b[0m \u001b[32m━━━━━━━━━━━━━━━━━━━━\u001b[0m\u001b[37m\u001b[0m \u001b[1m0s\u001b[0m 15ms/step - accuracy: 0.9433 - loss: 0.2064\n",
            "Epoch 4: val_loss did not improve from 0.26367\n",
            "\u001b[1m2684/2684\u001b[0m \u001b[32m━━━━━━━━━━━━━━━━━━━━\u001b[0m\u001b[37m\u001b[0m \u001b[1m41s\u001b[0m 15ms/step - accuracy: 0.9433 - loss: 0.2064 - val_accuracy: 0.9180 - val_loss: 0.2690\n",
            "Epoch 5/10\n",
            "\u001b[1m2683/2684\u001b[0m \u001b[32m━━━━━━━━━━━━━━━━━━━\u001b[0m\u001b[37m━\u001b[0m \u001b[1m0s\u001b[0m 15ms/step - accuracy: 0.9479 - loss: 0.1920\n",
            "Epoch 5: val_loss did not improve from 0.26367\n",
            "\u001b[1m2684/2684\u001b[0m \u001b[32m━━━━━━━━━━━━━━━━━━━━\u001b[0m\u001b[37m\u001b[0m \u001b[1m43s\u001b[0m 16ms/step - accuracy: 0.9479 - loss: 0.1921 - val_accuracy: 0.9187 - val_loss: 0.2686\n",
            "Epoch 6/10\n",
            "\u001b[1m2683/2684\u001b[0m \u001b[32m━━━━━━━━━━━━━━━━━━━\u001b[0m\u001b[37m━\u001b[0m \u001b[1m0s\u001b[0m 15ms/step - accuracy: 0.9516 - loss: 0.1804\n",
            "Epoch 6: val_loss did not improve from 0.26367\n",
            "\u001b[1m2684/2684\u001b[0m \u001b[32m━━━━━━━━━━━━━━━━━━━━\u001b[0m\u001b[37m\u001b[0m \u001b[1m42s\u001b[0m 15ms/step - accuracy: 0.9516 - loss: 0.1804 - val_accuracy: 0.9049 - val_loss: 0.2930\n",
            "Epoch 7/10\n",
            "\u001b[1m2683/2684\u001b[0m \u001b[32m━━━━━━━━━━━━━━━━━━━\u001b[0m\u001b[37m━\u001b[0m \u001b[1m0s\u001b[0m 15ms/step - accuracy: 0.9556 - loss: 0.1692\n",
            "Epoch 7: val_loss did not improve from 0.26367\n",
            "\u001b[1m2684/2684\u001b[0m \u001b[32m━━━━━━━━━━━━━━━━━━━━\u001b[0m\u001b[37m\u001b[0m \u001b[1m42s\u001b[0m 16ms/step - accuracy: 0.9556 - loss: 0.1692 - val_accuracy: 0.9151 - val_loss: 0.2939\n"
          ]
        },
        {
          "data": {
            "text/plain": [
              "<keras.src.callbacks.history.History at 0x17854858280>"
            ]
          },
          "execution_count": 70,
          "metadata": {},
          "output_type": "execute_result"
        }
      ],
      "source": [
        "model = create_truth_faker_model(num_ml_features=X_ml_train.shape[1],\n",
        "                                 max_text_len=X_text_train.shape[1],\n",
        "                                 vocab_size=10000, embedding_dim=256,\n",
        "                                 num_labels=1)\n",
        "\n",
        "\n",
        "\n",
        "\n",
        "early_stopping = EarlyStopping(monitor='val_loss', patience=5, restore_best_weights=True)\n",
        "checkpoint = ModelCheckpoint(filepath='./best_model_mutual_info_3.keras',  # Save the model to this file\n",
        "                             monitor='val_loss',       # Monitor the validation loss\n",
        "                             save_best_only=True,      # Save only the best model (based on monitored metric)\n",
        "                             mode='min',               # 'min' because we want the minimum val_loss\n",
        "                             verbose=1)\n",
        "model.fit([X_ml_train, X_text_train], y_train, epochs=10, batch_size=32, validation_split=0.2, callbacks = [early_stopping, checkpoint])"
      ]
    },
    {
      "cell_type": "code",
      "execution_count": null,
      "metadata": {
        "colab": {
          "base_uri": "https://localhost:8080/"
        },
        "id": "gFRd5U1_QOYa",
        "outputId": "80c2eef4-335c-4d6c-a6ca-be6d2725a2c3"
      },
      "outputs": [
        {
          "name": "stdout",
          "output_type": "stream",
          "text": [
            "\u001b[1m839/839\u001b[0m \u001b[32m━━━━━━━━━━━━━━━━━━━━\u001b[0m\u001b[37m\u001b[0m \u001b[1m2s\u001b[0m 2ms/step\n",
            "              precision    recall  f1-score   support\n",
            "\n",
            "           0       0.93      0.91      0.92     13059\n",
            "           1       0.91      0.94      0.93     13781\n",
            "\n",
            "    accuracy                           0.92     26840\n",
            "   macro avg       0.92      0.92      0.92     26840\n",
            "weighted avg       0.92      0.92      0.92     26840\n",
            "\n",
            "[[11854  1205]\n",
            " [  867 12914]]\n"
          ]
        }
      ],
      "source": [
        "predictions = model.predict([X_ml_test, X_text_test])\n",
        "predictions = np.where(predictions >= 0.5, 1, 0)\n",
        "print(classification_report(y_test, predictions))\n",
        "print(confusion_matrix(y_test, predictions))"
      ]
    },
    {
      "cell_type": "code",
      "execution_count": null,
      "metadata": {
        "colab": {
          "base_uri": "https://localhost:8080/"
        },
        "id": "7DhmoS5TPV-g",
        "outputId": "6198db45-da99-4080-d538-bdd53066a950"
      },
      "outputs": [
        {
          "name": "stdout",
          "output_type": "stream",
          "text": [
            "\u001b[1m839/839\u001b[0m \u001b[32m━━━━━━━━━━━━━━━━━━━━\u001b[0m\u001b[37m\u001b[0m \u001b[1m2s\u001b[0m 3ms/step\n",
            "              precision    recall  f1-score   support\n",
            "\n",
            "           0       0.61      0.64      0.62     13059\n",
            "           1       0.64      0.61      0.63     13781\n",
            "\n",
            "    accuracy                           0.63     26840\n",
            "   macro avg       0.63      0.63      0.63     26840\n",
            "weighted avg       0.63      0.63      0.63     26840\n",
            "\n",
            "[[8360 4699]\n",
            " [5343 8438]]\n"
          ]
        }
      ],
      "source": [
        "\n",
        "predictions = model.predict([X_ml_test, X_text_test])\n",
        "predictions = np.where(predictions >= 0.5, 1, 0)\n",
        "print(classification_report(y_test, predictions))\n",
        "print(confusion_matrix(y_test, predictions))"
      ]
    },
    {
      "cell_type": "code",
      "execution_count": null,
      "metadata": {
        "colab": {
          "base_uri": "https://localhost:8080/"
        },
        "id": "n0Tx-zLBN0C5",
        "outputId": "b2954915-b545-4eea-d703-c7eae301a00f"
      },
      "outputs": [
        {
          "name": "stdout",
          "output_type": "stream",
          "text": [
            "Epoch 1/10\n"
          ]
        },
        {
          "name": "stderr",
          "output_type": "stream",
          "text": [
            "/usr/local/lib/python3.10/dist-packages/keras/src/layers/core/embedding.py:90: UserWarning: Argument `input_length` is deprecated. Just remove it.\n",
            "  warnings.warn(\n"
          ]
        },
        {
          "name": "stdout",
          "output_type": "stream",
          "text": [
            "\u001b[1m2684/2684\u001b[0m \u001b[32m━━━━━━━━━━━━━━━━━━━━\u001b[0m\u001b[37m\u001b[0m \u001b[1m0s\u001b[0m 4ms/step - accuracy: 0.8360 - loss: 0.3716\n",
            "Epoch 1: val_loss improved from inf to 0.22381, saving model to best_model_mutual_info.keras\n",
            "\u001b[1m2684/2684\u001b[0m \u001b[32m━━━━━━━━━━━━━━━━━━━━\u001b[0m\u001b[37m\u001b[0m \u001b[1m18s\u001b[0m 5ms/step - accuracy: 0.8360 - loss: 0.3716 - val_accuracy: 0.9392 - val_loss: 0.2238\n",
            "Epoch 2/10\n",
            "\u001b[1m2669/2684\u001b[0m \u001b[32m━━━━━━━━━━━━━━━━━━━\u001b[0m\u001b[37m━\u001b[0m \u001b[1m0s\u001b[0m 3ms/step - accuracy: 0.9466 - loss: 0.1977\n",
            "Epoch 2: val_loss did not improve from 0.22381\n",
            "\u001b[1m2684/2684\u001b[0m \u001b[32m━━━━━━━━━━━━━━━━━━━━\u001b[0m\u001b[37m\u001b[0m \u001b[1m12s\u001b[0m 3ms/step - accuracy: 0.9466 - loss: 0.1977 - val_accuracy: 0.9362 - val_loss: 0.2259\n",
            "Epoch 3/10\n",
            "\u001b[1m2676/2684\u001b[0m \u001b[32m━━━━━━━━━━━━━━━━━━━\u001b[0m\u001b[37m━\u001b[0m \u001b[1m0s\u001b[0m 4ms/step - accuracy: 0.9547 - loss: 0.1639\n",
            "Epoch 3: val_loss did not improve from 0.22381\n",
            "\u001b[1m2684/2684\u001b[0m \u001b[32m━━━━━━━━━━━━━━━━━━━━\u001b[0m\u001b[37m\u001b[0m \u001b[1m11s\u001b[0m 4ms/step - accuracy: 0.9547 - loss: 0.1639 - val_accuracy: 0.9332 - val_loss: 0.2353\n",
            "Epoch 4/10\n",
            "\u001b[1m2681/2684\u001b[0m \u001b[32m━━━━━━━━━━━━━━━━━━━\u001b[0m\u001b[37m━\u001b[0m \u001b[1m0s\u001b[0m 3ms/step - accuracy: 0.9620 - loss: 0.1281\n",
            "Epoch 4: val_loss did not improve from 0.22381\n",
            "\u001b[1m2684/2684\u001b[0m \u001b[32m━━━━━━━━━━━━━━━━━━━━\u001b[0m\u001b[37m\u001b[0m \u001b[1m9s\u001b[0m 3ms/step - accuracy: 0.9620 - loss: 0.1281 - val_accuracy: 0.9269 - val_loss: 0.2792\n",
            "Epoch 5/10\n",
            "\u001b[1m2677/2684\u001b[0m \u001b[32m━━━━━━━━━━━━━━━━━━━\u001b[0m\u001b[37m━\u001b[0m \u001b[1m0s\u001b[0m 3ms/step - accuracy: 0.9694 - loss: 0.0930\n",
            "Epoch 5: val_loss did not improve from 0.22381\n",
            "\u001b[1m2684/2684\u001b[0m \u001b[32m━━━━━━━━━━━━━━━━━━━━\u001b[0m\u001b[37m\u001b[0m \u001b[1m9s\u001b[0m 3ms/step - accuracy: 0.9694 - loss: 0.0930 - val_accuracy: 0.9242 - val_loss: 0.3685\n",
            "Epoch 6/10\n",
            "\u001b[1m2678/2684\u001b[0m \u001b[32m━━━━━━━━━━━━━━━━━━━\u001b[0m\u001b[37m━\u001b[0m \u001b[1m0s\u001b[0m 3ms/step - accuracy: 0.9735 - loss: 0.0719\n",
            "Epoch 6: val_loss did not improve from 0.22381\n",
            "\u001b[1m2684/2684\u001b[0m \u001b[32m━━━━━━━━━━━━━━━━━━━━\u001b[0m\u001b[37m\u001b[0m \u001b[1m10s\u001b[0m 3ms/step - accuracy: 0.9735 - loss: 0.0719 - val_accuracy: 0.9232 - val_loss: 0.3963\n"
          ]
        },
        {
          "data": {
            "text/plain": [
              "<keras.src.callbacks.history.History at 0x7a2fd46a59f0>"
            ]
          },
          "execution_count": 11,
          "metadata": {},
          "output_type": "execute_result"
        }
      ],
      "source": [
        "model = create_truth_faker_model(num_ml_features=X_ml_train.shape[1],\n",
        "                                 max_text_len=X_text_train.shape[1],\n",
        "                                 vocab_size=10000, embedding_dim=128,\n",
        "                                 num_labels=1)\n",
        "\n",
        "\n",
        "# Define EarlyStopping\n",
        "early_stopping = EarlyStopping(monitor='val_loss', patience=5, restore_best_weights=True)\n",
        "checkpoint = ModelCheckpoint(filepath='best_model_mutual_info.keras',  # Save the model to this file\n",
        "                             monitor='val_loss',       # Monitor the validation loss\n",
        "                             save_best_only=True,      # Save only the best model (based on monitored metric)\n",
        "                             mode='min',               # 'min' because we want the minimum val_loss\n",
        "                             verbose=1)\n",
        "model.fit([X_ml_train, X_text_train], y_train, epochs=10, batch_size=32, validation_split=0.2, callbacks = [early_stopping, checkpoint])"
      ]
    },
    {
      "cell_type": "code",
      "execution_count": null,
      "metadata": {
        "colab": {
          "base_uri": "https://localhost:8080/"
        },
        "id": "FWN6bHvMORM-",
        "outputId": "d65bea76-d529-4e2f-a952-7ebf81e64635"
      },
      "outputs": [
        {
          "name": "stdout",
          "output_type": "stream",
          "text": [
            "\u001b[1m839/839\u001b[0m \u001b[32m━━━━━━━━━━━━━━━━━━━━\u001b[0m\u001b[37m\u001b[0m \u001b[1m2s\u001b[0m 2ms/step\n",
            "              precision    recall  f1-score   support\n",
            "\n",
            "           0       0.94      0.94      0.94     13059\n",
            "           1       0.94      0.94      0.94     13781\n",
            "\n",
            "    accuracy                           0.94     26840\n",
            "   macro avg       0.94      0.94      0.94     26840\n",
            "weighted avg       0.94      0.94      0.94     26840\n",
            "\n",
            "[[12232   827]\n",
            " [  810 12971]]\n"
          ]
        }
      ],
      "source": [
        "predictions = model.predict([X_ml_test, X_text_test])\n",
        "predictions = np.where(predictions >= 0.5, 1, 0)\n",
        "print(classification_report(y_test, predictions))\n",
        "print(confusion_matrix(y_test, predictions))"
      ]
    },
    {
      "cell_type": "code",
      "execution_count": null,
      "metadata": {
        "colab": {
          "base_uri": "https://localhost:8080/"
        },
        "id": "Rfu9o9ljd89g",
        "outputId": "63c8460d-574a-4d2e-8cb2-0ab99c643724"
      },
      "outputs": [
        {
          "name": "stderr",
          "output_type": "stream",
          "text": [
            "/usr/local/lib/python3.10/dist-packages/keras/src/layers/core/embedding.py:90: UserWarning: Argument `input_length` is deprecated. Just remove it.\n",
            "  warnings.warn(\n"
          ]
        },
        {
          "name": "stdout",
          "output_type": "stream",
          "text": [
            "Epoch 1/10\n",
            "\u001b[1m2684/2684\u001b[0m \u001b[32m━━━━━━━━━━━━━━━━━━━━\u001b[0m\u001b[37m\u001b[0m \u001b[1m0s\u001b[0m 49ms/step - accuracy: 0.8358 - loss: 0.3707\n",
            "Epoch 1: val_loss improved from inf to 0.22299, saving model to best_model_1.keras\n",
            "\u001b[1m2684/2684\u001b[0m \u001b[32m━━━━━━━━━━━━━━━━━━━━\u001b[0m\u001b[37m\u001b[0m \u001b[1m143s\u001b[0m 52ms/step - accuracy: 0.8358 - loss: 0.3706 - val_accuracy: 0.9371 - val_loss: 0.2230\n",
            "Epoch 2/10\n",
            "\u001b[1m2683/2684\u001b[0m \u001b[32m━━━━━━━━━━━━━━━━━━━\u001b[0m\u001b[37m━\u001b[0m \u001b[1m0s\u001b[0m 50ms/step - accuracy: 0.9466 - loss: 0.1981\n",
            "Epoch 2: val_loss did not improve from 0.22299\n",
            "\u001b[1m2684/2684\u001b[0m \u001b[32m━━━━━━━━━━━━━━━━━━━━\u001b[0m\u001b[37m\u001b[0m \u001b[1m141s\u001b[0m 52ms/step - accuracy: 0.9466 - loss: 0.1981 - val_accuracy: 0.9373 - val_loss: 0.2261\n",
            "Epoch 3/10\n",
            "\u001b[1m2684/2684\u001b[0m \u001b[32m━━━━━━━━━━━━━━━━━━━━\u001b[0m\u001b[37m\u001b[0m \u001b[1m0s\u001b[0m 48ms/step - accuracy: 0.9541 - loss: 0.1656\n",
            "Epoch 3: val_loss did not improve from 0.22299\n",
            "\u001b[1m2684/2684\u001b[0m \u001b[32m━━━━━━━━━━━━━━━━━━━━\u001b[0m\u001b[37m\u001b[0m \u001b[1m141s\u001b[0m 52ms/step - accuracy: 0.9541 - loss: 0.1656 - val_accuracy: 0.9278 - val_loss: 0.2406\n",
            "Epoch 4/10\n",
            "\u001b[1m2683/2684\u001b[0m \u001b[32m━━━━━━━━━━━━━━━━━━━\u001b[0m\u001b[37m━\u001b[0m \u001b[1m0s\u001b[0m 49ms/step - accuracy: 0.9636 - loss: 0.1252\n",
            "Epoch 4: val_loss did not improve from 0.22299\n",
            "\u001b[1m2684/2684\u001b[0m \u001b[32m━━━━━━━━━━━━━━━━━━━━\u001b[0m\u001b[37m\u001b[0m \u001b[1m142s\u001b[0m 52ms/step - accuracy: 0.9636 - loss: 0.1252 - val_accuracy: 0.9308 - val_loss: 0.2629\n",
            "Epoch 5/10\n",
            "\u001b[1m2684/2684\u001b[0m \u001b[32m━━━━━━━━━━━━━━━━━━━━\u001b[0m\u001b[37m\u001b[0m \u001b[1m0s\u001b[0m 49ms/step - accuracy: 0.9696 - loss: 0.0933\n",
            "Epoch 5: val_loss did not improve from 0.22299\n",
            "\u001b[1m2684/2684\u001b[0m \u001b[32m━━━━━━━━━━━━━━━━━━━━\u001b[0m\u001b[37m\u001b[0m \u001b[1m143s\u001b[0m 52ms/step - accuracy: 0.9696 - loss: 0.0933 - val_accuracy: 0.9251 - val_loss: 0.3256\n",
            "Epoch 6/10\n",
            "\u001b[1m2683/2684\u001b[0m \u001b[32m━━━━━━━━━━━━━━━━━━━\u001b[0m\u001b[37m━\u001b[0m \u001b[1m0s\u001b[0m 51ms/step - accuracy: 0.9747 - loss: 0.0704\n",
            "Epoch 6: val_loss did not improve from 0.22299\n",
            "\u001b[1m2684/2684\u001b[0m \u001b[32m━━━━━━━━━━━━━━━━━━━━\u001b[0m\u001b[37m\u001b[0m \u001b[1m144s\u001b[0m 53ms/step - accuracy: 0.9747 - loss: 0.0705 - val_accuracy: 0.9254 - val_loss: 0.4120\n"
          ]
        },
        {
          "data": {
            "text/plain": [
              "<keras.src.callbacks.history.History at 0x7c3112cb7fd0>"
            ]
          },
          "execution_count": 35,
          "metadata": {},
          "output_type": "execute_result"
        }
      ],
      "source": [
        "model = create_truth_faker_model(num_ml_features=X_ml_train.shape[1],\n",
        "                                 max_text_len=X_text_train.shape[1],\n",
        "                                 vocab_size=10000, embedding_dim=128,\n",
        "                                 num_labels=1)\n",
        "\n",
        "\n",
        "\n",
        "# Define EarlyStopping\n",
        "early_stopping = EarlyStopping(monitor='val_loss', patience=5, restore_best_weights=True)\n",
        "checkpoint = ModelCheckpoint(filepath='best_model_1.keras',  # Save the model to this file\n",
        "                             monitor='val_loss',       # Monitor the validation loss\n",
        "                             save_best_only=True,      # Save only the best model (based on monitored metric)\n",
        "                             mode='min',               # 'min' because we want the minimum val_loss\n",
        "                             verbose=1)\n",
        "model.fit([X_ml_train, X_text_train], y_train, epochs=10, batch_size=32, validation_split=0.2, callbacks = [early_stopping, checkpoint])"
      ]
    },
    {
      "cell_type": "code",
      "execution_count": null,
      "metadata": {
        "colab": {
          "base_uri": "https://localhost:8080/"
        },
        "id": "oC0aEN8kr4y4",
        "outputId": "0eeabf54-4ea3-467c-a9e4-44dd7f2e7a99"
      },
      "outputs": [
        {
          "name": "stdout",
          "output_type": "stream",
          "text": [
            "\u001b[1m839/839\u001b[0m \u001b[32m━━━━━━━━━━━━━━━━━━━━\u001b[0m\u001b[37m\u001b[0m \u001b[1m11s\u001b[0m 13ms/step\n",
            "              precision    recall  f1-score   support\n",
            "\n",
            "           0       0.93      0.94      0.94     13059\n",
            "           1       0.95      0.93      0.94     13781\n",
            "\n",
            "    accuracy                           0.94     26840\n",
            "   macro avg       0.94      0.94      0.94     26840\n",
            "weighted avg       0.94      0.94      0.94     26840\n",
            "\n",
            "[[12337   722]\n",
            " [  919 12862]]\n"
          ]
        }
      ],
      "source": [
        "predictions = model.predict([X_ml_test, X_text_test])\n",
        "predictions = np.where(predictions >= 0.5, 1, 0)\n",
        "print(classification_report(y_test, predictions))\n",
        "print(confusion_matrix(y_test, predictions))"
      ]
    },
    {
      "cell_type": "code",
      "execution_count": null,
      "metadata": {
        "colab": {
          "base_uri": "https://localhost:8080/"
        },
        "id": "dci0upJLnlvp",
        "outputId": "193372ee-8e29-41e4-a7fa-a9726f53ab0e"
      },
      "outputs": [
        {
          "name": "stdout",
          "output_type": "stream",
          "text": [
            "\u001b[1m839/839\u001b[0m \u001b[32m━━━━━━━━━━━━━━━━━━━━\u001b[0m\u001b[37m\u001b[0m \u001b[1m8s\u001b[0m 10ms/step\n",
            "              precision    recall  f1-score   support\n",
            "\n",
            "           0       0.95      0.92      0.93     13059\n",
            "           1       0.92      0.95      0.94     13781\n",
            "\n",
            "    accuracy                           0.94     26840\n",
            "   macro avg       0.94      0.93      0.94     26840\n",
            "weighted avg       0.94      0.94      0.94     26840\n",
            "\n",
            "[[11992  1067]\n",
            " [  671 13110]]\n"
          ]
        }
      ],
      "source": [
        "predictions = model.predict([X_ml_test, X_text_test])\n",
        "predictions = np.where(predictions >= 0.5, 1, 0)\n",
        "print(classification_report(y_test, predictions))\n",
        "print(confusion_matrix(y_test, predictions))"
      ]
    },
    {
      "cell_type": "code",
      "execution_count": null,
      "metadata": {
        "id": "G4FLuXkakPkX"
      },
      "outputs": [],
      "source": [
        "from tensorflow.keras.models import save_model\n",
        "save_model(model, 'truth_faker_model.keras')"
      ]
    },
    {
      "cell_type": "code",
      "execution_count": null,
      "metadata": {
        "colab": {
          "base_uri": "https://localhost:8080/"
        },
        "id": "hqzVZQ8MiwUr",
        "outputId": "72316eba-2d07-4c2b-8f34-77c6aefd16f3"
      },
      "outputs": [
        {
          "name": "stdout",
          "output_type": "stream",
          "text": [
            "\u001b[1m839/839\u001b[0m \u001b[32m━━━━━━━━━━━━━━━━━━━━\u001b[0m\u001b[37m\u001b[0m \u001b[1m10s\u001b[0m 12ms/step\n"
          ]
        }
      ],
      "source": [
        "\n",
        "\n",
        "predictions = model.predict([X_ml_test, X_text_test])\n",
        "# Convert probabilities to binary predictions (0 or 1)\n"
      ]
    },
    {
      "cell_type": "code",
      "execution_count": null,
      "metadata": {
        "colab": {
          "base_uri": "https://localhost:8080/"
        },
        "id": "li9q10LgjET2",
        "outputId": "ed289d0c-76f5-4896-e31f-4bf3e2090fdc"
      },
      "outputs": [
        {
          "name": "stdout",
          "output_type": "stream",
          "text": [
            "              precision    recall  f1-score   support\n",
            "\n",
            "           0       0.94      0.88      0.91     13059\n",
            "           1       0.90      0.94      0.92     13781\n",
            "\n",
            "    accuracy                           0.91     26840\n",
            "   macro avg       0.92      0.91      0.91     26840\n",
            "weighted avg       0.92      0.91      0.91     26840\n",
            "\n",
            "[[11540  1519]\n",
            " [  784 12997]]\n"
          ]
        }
      ],
      "source": [
        "predictions = np.where(predictions >= 0.5, 1, 0)\n",
        "print(classification_report(y_test, predictions))\n",
        "print(confusion_matrix(y_test, predictions))"
      ]
    }
  ],
  "metadata": {
    "accelerator": "GPU",
    "colab": {
      "gpuType": "T4",
      "provenance": []
    },
    "kernelspec": {
      "display_name": "fake_news",
      "language": "python",
      "name": "python3"
    },
    "language_info": {
      "codemirror_mode": {
        "name": "ipython",
        "version": 3
      },
      "file_extension": ".py",
      "mimetype": "text/x-python",
      "name": "python",
      "nbconvert_exporter": "python",
      "pygments_lexer": "ipython3",
      "version": "3.9.7"
    }
  },
  "nbformat": 4,
  "nbformat_minor": 0
}
