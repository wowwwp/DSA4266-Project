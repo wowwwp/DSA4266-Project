{
 "cells": [
  {
   "cell_type": "markdown",
   "metadata": {},
   "source": [
    "# RF"
   ]
  },
  {
   "cell_type": "code",
   "execution_count": 1,
   "metadata": {},
   "outputs": [],
   "source": [
    "import pandas as pd\n",
    "import numpy as np\n",
    "from sklearn.ensemble import RandomForestClassifier\n",
    "from sklearn.model_selection import train_test_split\n",
    "from sklearn.metrics import accuracy_score, classification_report, confusion_matrix\n",
    "from sklearn.feature_selection import RFE\n",
    "from sklearn.feature_extraction.text import TfidfVectorizer"
   ]
  },
  {
   "cell_type": "code",
   "execution_count": 2,
   "metadata": {},
   "outputs": [],
   "source": [
    "with open(\"C:/Yee Ann/NUS/DSA4266/TruthSeeker2023/Features_For_Traditional_ML_Techniques.csv\") as file:\n",
    "    df = pd.read_csv(file)"
   ]
  },
  {
   "cell_type": "code",
   "execution_count": 3,
   "metadata": {},
   "outputs": [],
   "source": [
    "#remove columns with s single unique value\n",
    "df = df.drop(columns = ['Unnamed: 0'])\n",
    "df = df.loc[:, df.nunique() > 1]\n",
    "df = df.drop_duplicates()\n",
    "\n",
    "# Convert boolean columns to 0 and 1\n",
    "df['majority_target'] = df['majority_target'].astype(int)"
   ]
  },
  {
   "cell_type": "markdown",
   "metadata": {},
   "source": [
    "Convert Embeddings into numerical columns"
   ]
  },
  {
   "cell_type": "code",
   "execution_count": 4,
   "metadata": {},
   "outputs": [],
   "source": [
    "def replace_spaces_with_commas(emb_str):\n",
    "    return emb_str.replace(' ', ',')\n",
    "\n",
    "# Apply the function to the embeddings column\n",
    "df['embeddings'] = df['embeddings'].apply(replace_spaces_with_commas)\n",
    "\n",
    "# Function to extract the list from the string representation\n",
    "def extract_list(emb_str):\n",
    "    # Remove outer brackets and convert the string to a list\n",
    "    return eval(emb_str.strip(\"[]\"))\n",
    "\n",
    "# Apply the function and create a DataFrame from the list of embeddings\n",
    "embeddings_split = df['embeddings'].apply(extract_list).apply(pd.Series)\n",
    "\n",
    "# Rename columns to reflect the split embedding positions\n",
    "embeddings_split.columns = [f'embedding_{i}' for i in range(embeddings_split.shape[1])]\n",
    "\n",
    "# Concatenate the original DataFrame with the new embeddings DataFrame\n",
    "df = pd.concat([df, embeddings_split], axis=1)\n",
    "df = df.drop(['embeddings'], axis=1)"
   ]
  },
  {
   "cell_type": "markdown",
   "metadata": {},
   "source": [
    "Drop highly correlated features"
   ]
  },
  {
   "cell_type": "code",
   "execution_count": 5,
   "metadata": {},
   "outputs": [],
   "source": [
    "#spliting the columns according to their types\n",
    "num_col = df.select_dtypes(['int64', 'int32', 'float64'])\n",
    "num_col = num_col.drop(columns = ['majority_target'])\n",
    "obj_col = df.select_dtypes('object')\n",
    "\n",
    "# Threshold for correlation\n",
    "corr_matrix = num_col.corr().abs()\n",
    "upper = corr_matrix.where(np.triu(np.ones(corr_matrix.shape), k=1).astype('bool'))\n",
    "\n",
    "# Drop highly correlated numerical features--anything with threshold > 0.75\n",
    "to_drop = [column for column in upper.columns if any(upper[column] > 0.75)]\n",
    "df = df.drop(to_drop, axis=1)"
   ]
  },
  {
   "cell_type": "markdown",
   "metadata": {},
   "source": [
    "Basic RF"
   ]
  },
  {
   "cell_type": "code",
   "execution_count": 6,
   "metadata": {},
   "outputs": [],
   "source": [
    "X = df.drop(['statement', 'tweet', 'majority_target'] , axis=1)\n",
    "y = df['majority_target']\n",
    "\n",
    "# Split into training and test sets\n",
    "X_train, X_test, y_train, y_test = train_test_split(X, y, test_size = 0.3, random_state=42)\n",
    "\n",
    "# Define the model\n",
    "rf = RandomForestClassifier(n_estimators=100, max_depth= 10, random_state=42)\n",
    "\n",
    "# Train the Random Forest on the training data\n",
    "rf.fit(X_train, y_train)\n",
    "\n",
    "# Predict on the test set\n",
    "y_pred = rf.predict(X_test)\n",
    "y_pred_train = rf.predict(X_train)"
   ]
  },
  {
   "cell_type": "code",
   "execution_count": 7,
   "metadata": {},
   "outputs": [
    {
     "name": "stdout",
     "output_type": "stream",
     "text": [
      "Random Forest Accuracy: 0.9576\n",
      "\n",
      "Classification Report: training set\n",
      "              precision    recall  f1-score   support\n",
      "\n",
      "        Fake       0.96      0.96      0.96     45771\n",
      "        Real       0.96      0.96      0.96     48167\n",
      "\n",
      "    accuracy                           0.96     93938\n",
      "   macro avg       0.96      0.96      0.96     93938\n",
      "weighted avg       0.96      0.96      0.96     93938\n",
      "\n",
      "\n",
      "Classification Report:\n",
      "              precision    recall  f1-score   support\n",
      "\n",
      "        Fake       0.95      0.96      0.96     19442\n",
      "        Real       0.96      0.96      0.96     20818\n",
      "\n",
      "    accuracy                           0.96     40260\n",
      "   macro avg       0.96      0.96      0.96     40260\n",
      "weighted avg       0.96      0.96      0.96     40260\n",
      "\n",
      "\n",
      "Confusion Matrix:\n",
      "[[18619   823]\n",
      " [  883 19935]]\n"
     ]
    }
   ],
   "source": [
    "# Evaluate the model using accuracy\n",
    "accuracy = accuracy_score(y_test, y_pred)\n",
    "print(f\"Random Forest Accuracy: {accuracy:.4f}\")\n",
    "\n",
    "# More detailed evaluation - Classification report\n",
    "print(\"\\nClassification Report: training set\")\n",
    "print(classification_report(y_train, y_pred_train, target_names=['Fake', 'Real']))\n",
    "\n",
    "print(\"\\nClassification Report:\")\n",
    "print(classification_report(y_test, y_pred, target_names=['Fake', 'Real']))\n",
    "\n",
    "# Confusion Matrix to understand predictions\n",
    "print(\"\\nConfusion Matrix:\")\n",
    "print(confusion_matrix(y_test, y_pred))"
   ]
  },
  {
   "cell_type": "markdown",
   "metadata": {},
   "source": [
    "RFE Elimination (select top n features and use them as X)"
   ]
  },
  {
   "cell_type": "code",
   "execution_count": 8,
   "metadata": {},
   "outputs": [
    {
     "name": "stdout",
     "output_type": "stream",
     "text": [
      "Selected Features:  Index(['BinaryNumTarget', 'followers_count', 'friends_count',\n",
      "       'favourites_count', 'statuses_count', 'cred', 'normalize_influence',\n",
      "       'hashtags', 'URLs', 'unique_count', 'PERSON_percentage',\n",
      "       'MONEY_percentage', 'CARDINAL_percentage', 'Word count',\n",
      "       'Average word length', 'present_verbs', 'past_verbs', 'pronouns',\n",
      "       'capitals', 'embedding_10'],\n",
      "      dtype='object')\n"
     ]
    }
   ],
   "source": [
    "# Recursive Feature Elimination\n",
    "rfe = RFE(estimator=rf, n_features_to_select=20)  # Select top 20 features\n",
    "rfe.fit(X_train, y_train)\n",
    "\n",
    "# Get the selected features\n",
    "selected_features = X.columns[rfe.support_]\n",
    "print(\"Selected Features: \", selected_features)"
   ]
  },
  {
   "cell_type": "code",
   "execution_count": 9,
   "metadata": {},
   "outputs": [],
   "source": [
    "X2 = df.drop(['majority_target', 'statement', 'tweet'], axis=1)\n",
    "y2 = df['majority_target']\n",
    "X2 = X2[selected_features]\n",
    "\n",
    "# Split into training and test sets\n",
    "X2_train, X2_test, y2_train, y2_test = train_test_split(X2, y2, test_size = 0.3, random_state=42)\n",
    "\n",
    "# Define the model\n",
    "rf2 = RandomForestClassifier(n_estimators=100, max_depth= 10, random_state=42)\n",
    "\n",
    "# Train the Random Forest on the training data\n",
    "rf2.fit(X2_train, y2_train)\n",
    "\n",
    "# Predict on the test set\n",
    "y2_pred = rf2.predict(X2_test)\n",
    "y2_pred_train = rf2.predict(X2_train)"
   ]
  },
  {
   "cell_type": "code",
   "execution_count": 10,
   "metadata": {},
   "outputs": [
    {
     "name": "stdout",
     "output_type": "stream",
     "text": [
      "Random Forest Accuracy: 0.9576\n",
      "\n",
      "Classification Report: training set\n",
      "              precision    recall  f1-score   support\n",
      "\n",
      "        Fake       0.96      0.96      0.96     45771\n",
      "        Real       0.96      0.96      0.96     48167\n",
      "\n",
      "    accuracy                           0.96     93938\n",
      "   macro avg       0.96      0.96      0.96     93938\n",
      "weighted avg       0.96      0.96      0.96     93938\n",
      "\n",
      "\n",
      "Classification Report:\n",
      "              precision    recall  f1-score   support\n",
      "\n",
      "        Fake       0.95      0.96      0.96     19442\n",
      "        Real       0.96      0.96      0.96     20818\n",
      "\n",
      "    accuracy                           0.96     40260\n",
      "   macro avg       0.96      0.96      0.96     40260\n",
      "weighted avg       0.96      0.96      0.96     40260\n",
      "\n",
      "\n",
      "Confusion Matrix:\n",
      "[[18619   823]\n",
      " [  883 19935]]\n"
     ]
    }
   ],
   "source": [
    "# Evaluate the model using accuracy\n",
    "accuracy = accuracy_score(y2_test, y2_pred)\n",
    "print(f\"Random Forest Accuracy: {accuracy:.4f}\")\n",
    "\n",
    "# More detailed evaluation - Classification report\n",
    "print(\"\\nClassification Report: training set\")\n",
    "print(classification_report(y2_train, y2_pred_train, target_names=['Fake', 'Real']))\n",
    "\n",
    "print(\"\\nClassification Report:\")\n",
    "print(classification_report(y2_test, y2_pred, target_names=['Fake', 'Real']))\n",
    "\n",
    "# Confusion Matrix to understand predictions\n",
    "print(\"\\nConfusion Matrix:\")\n",
    "print(confusion_matrix(y2_test, y2_pred))"
   ]
  },
  {
   "cell_type": "markdown",
   "metadata": {},
   "source": [
    "TF-IDF"
   ]
  },
  {
   "cell_type": "code",
   "execution_count": 11,
   "metadata": {},
   "outputs": [],
   "source": [
    "tfidf_vectorizer = TfidfVectorizer(stop_words='english', max_features=500) \n",
    "\n",
    "# Fit and transform the statement and tweet columns\n",
    "statement_tfidf = tfidf_vectorizer.fit_transform(df['statement'])\n",
    "tweet_tfidf = tfidf_vectorizer.fit_transform(df['tweet'])\n",
    "\n",
    "# Convert the TF-IDF matrices to DataFrames\n",
    "statement_tfidf_df = pd.DataFrame(statement_tfidf.toarray(), columns=tfidf_vectorizer.get_feature_names_out())\n",
    "tweet_tfidf_df = pd.DataFrame(tweet_tfidf.toarray(), columns=tfidf_vectorizer.get_feature_names_out())\n",
    "\n",
    "# Now, concatenate these DataFrames with the rest of your numerical data\n",
    "df = pd.concat([df, statement_tfidf_df, tweet_tfidf_df], axis=1)\n",
    "\n",
    "# Now you can drop the original 'statement' and 'tweet' columns and proceed with your Random Forest model\n",
    "df_processed_text = df.drop(['statement', 'tweet'], axis=1)"
   ]
  },
  {
   "cell_type": "code",
   "execution_count": 12,
   "metadata": {},
   "outputs": [],
   "source": [
    "X1 = df_processed_text.drop(['majority_target'], axis=1)\n",
    "y1 = df_processed_text['majority_target']\n",
    "\n",
    "# Split into training and test sets\n",
    "X1_train, X1_test, y1_train, y1_test = train_test_split(X1, y1, test_size = 0.3, random_state=42)\n",
    "\n",
    "# Define the model\n",
    "rf1 = RandomForestClassifier(n_estimators=100, max_depth= 10, random_state=42)\n",
    "\n",
    "# Train the Random Forest on the training data\n",
    "rf1.fit(X1_train, y1_train)\n",
    "\n",
    "# Predict on the test set\n",
    "y1_pred = rf1.predict(X1_test)\n",
    "y1_pred_train = rf1.predict(X1_train)"
   ]
  },
  {
   "cell_type": "code",
   "execution_count": 13,
   "metadata": {},
   "outputs": [
    {
     "name": "stdout",
     "output_type": "stream",
     "text": [
      "Random Forest Accuracy: 0.9576\n",
      "\n",
      "Classification Report: training set\n",
      "              precision    recall  f1-score   support\n",
      "\n",
      "        Fake       0.96      0.96      0.96     45771\n",
      "        Real       0.96      0.96      0.96     48167\n",
      "\n",
      "    accuracy                           0.96     93938\n",
      "   macro avg       0.96      0.96      0.96     93938\n",
      "weighted avg       0.96      0.96      0.96     93938\n",
      "\n",
      "\n",
      "Classification Report:\n",
      "              precision    recall  f1-score   support\n",
      "\n",
      "        Fake       0.95      0.96      0.96     19442\n",
      "        Real       0.96      0.96      0.96     20818\n",
      "\n",
      "    accuracy                           0.96     40260\n",
      "   macro avg       0.96      0.96      0.96     40260\n",
      "weighted avg       0.96      0.96      0.96     40260\n",
      "\n",
      "\n",
      "Confusion Matrix:\n",
      "[[18618   824]\n",
      " [  882 19936]]\n"
     ]
    }
   ],
   "source": [
    "# Evaluate the model using accuracy\n",
    "accuracy1 = accuracy_score(y1_test, y1_pred)\n",
    "print(f\"Random Forest Accuracy: {accuracy1:.4f}\")\n",
    "\n",
    "# More detailed evaluation - Classification report\n",
    "print(\"\\nClassification Report: training set\")\n",
    "print(classification_report(y1_train, y1_pred_train, target_names=['Fake', 'Real']))\n",
    "\n",
    "print(\"\\nClassification Report:\")\n",
    "print(classification_report(y1_test, y1_pred, target_names=['Fake', 'Real']))\n",
    "\n",
    "# Confusion Matrix to understand predictions\n",
    "print(\"\\nConfusion Matrix:\")\n",
    "print(confusion_matrix(y1_test, y1_pred))"
   ]
  },
  {
   "cell_type": "markdown",
   "metadata": {},
   "source": [
    "The core features in the dataset contain enough signal for the Random Forest model to reach high accuracy without extra feature engineering or dimensionality reduction techniques."
   ]
  }
 ],
 "metadata": {
  "kernelspec": {
   "display_name": "Python 3",
   "language": "python",
   "name": "python3"
  },
  "language_info": {
   "codemirror_mode": {
    "name": "ipython",
    "version": 3
   },
   "file_extension": ".py",
   "mimetype": "text/x-python",
   "name": "python",
   "nbconvert_exporter": "python",
   "pygments_lexer": "ipython3",
   "version": "3.11.4"
  }
 },
 "nbformat": 4,
 "nbformat_minor": 2
}
